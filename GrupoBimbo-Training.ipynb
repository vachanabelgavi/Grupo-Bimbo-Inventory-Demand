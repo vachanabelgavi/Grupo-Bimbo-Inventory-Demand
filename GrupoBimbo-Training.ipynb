{
  "nbformat": 4,
  "nbformat_minor": 0,
  "metadata": {
    "colab": {
      "name": "GrupoBimbo.ipynb",
      "provenance": [],
      "collapsed_sections": []
    },
    "kernelspec": {
      "display_name": "Python 3",
      "name": "python3"
    },
    "language_info": {
      "name": "python"
    }
  },
  "cells": [
    {
      "cell_type": "markdown",
      "source": [
        "# **Grupo Bimbo Inventory Demand**"
      ],
      "metadata": {
        "id": "_T8rgdC_3JvE"
      }
    },
    {
      "cell_type": "markdown",
      "metadata": {
        "id": "1ylvfWg8GItg"
      },
      "source": [
        "#\n",
        "Copyright [2021] [Vachana Belgavi]\n",
        "\n",
        "   Licensed under the Apache License, Version 2.0 (the \"License\");\n",
        "   you may not use this file except in compliance with the License.\n",
        "   You may obtain a copy of the License at\n",
        "\n",
        "     http://www.apache.org/licenses/LICENSE-2.0\n",
        "\n",
        "   Unless required by applicable law or agreed to in writing, software\n",
        "   distributed under the License is distributed on an \"AS IS\" BASIS,\n",
        "   WITHOUT WARRANTIES OR CONDITIONS OF ANY KIND, either express or implied.\n",
        "   See the License for the specific language governing permissions and\n",
        "   limitations under the License.\n",
        "#"
      ]
    },
    {
      "cell_type": "markdown",
      "metadata": {
        "id": "5GPNuOehy-38"
      },
      "source": [
        "# Abstract\n",
        "\n",
        "The purpose of the data analytics project is to predict the demand for a product for a given week at a particular store for the Grupo Bimbo Inventory. The dataset is taken from the Kaggle contest. Python language is used with\n",
        "Google Colab. The different data mining concepts used in the pre-preprocessing, data concatenation and data transformation of the data. Data visualization is done with the heatmap and bar graphs. Decision Tree feature selection is performed on the dataset to check which features will give the best results. Trained models using Ridge regression, Lasso regression, Elastic-Net and Robust linear model estimation using RANSAC algorithm. Finally, post-processed the train and and test dataset."
      ]
    },
    {
      "cell_type": "markdown",
      "metadata": {
        "id": "fTZ7xnIpDROp"
      },
      "source": [
        "IMPORTING ALL THE NECESSARY LIBRARIES."
      ]
    },
    {
      "cell_type": "code",
      "metadata": {
        "colab": {
          "base_uri": "https://localhost:8080/"
        },
        "id": "2AwsjfpDGbU_",
        "outputId": "aa36fec6-cb37-4772-dd61-da28b4065030"
      },
      "source": [
        "import pandas as pd\n",
        "import numpy as np\n",
        "import sklearn\n",
        "import seaborn as sns\n",
        "import matplotlib.pyplot as plt\n",
        "import math\n",
        "import re\n",
        "%pylab inline\n",
        "%matplotlib inline\n",
        "\n",
        "import warnings\n",
        "warnings.filterwarnings('ignore')"
      ],
      "execution_count": null,
      "outputs": [
        {
          "output_type": "stream",
          "name": "stdout",
          "text": [
            "Populating the interactive namespace from numpy and matplotlib\n"
          ]
        }
      ]
    },
    {
      "cell_type": "markdown",
      "metadata": {
        "id": "lvH9oXgSGt_3"
      },
      "source": [
        "READING ALL THE DATA FILES"
      ]
    },
    {
      "cell_type": "code",
      "metadata": {
        "colab": {
          "base_uri": "https://localhost:8080/"
        },
        "id": "3njA7OcXXXo6",
        "outputId": "dabc60fa-a227-4511-b772-4fcd0a2a2f2d"
      },
      "source": [
        "from google.colab import drive\n",
        "drive.mount('/content/drive')"
      ],
      "execution_count": null,
      "outputs": [
        {
          "output_type": "stream",
          "name": "stdout",
          "text": [
            "Drive already mounted at /content/drive; to attempt to forcibly remount, call drive.mount(\"/content/drive\", force_remount=True).\n"
          ]
        }
      ]
    },
    {
      "cell_type": "code",
      "metadata": {
        "id": "0amCSWScGzks"
      },
      "source": [
        "from google.colab import files\n",
        "import io\n",
        "uploaded = files.upload\n",
        "\n",
        "client = pd.read_csv(\"/content/drive/MyDrive/grupo-bimbo-inventory-demand/cliente_tabla.csv\")\n",
        "product = pd.read_csv(\"/content/drive/MyDrive/grupo-bimbo-inventory-demand/producto_tabla.csv\")\n",
        "town = pd.read_csv(\"/content/drive/MyDrive/grupo-bimbo-inventory-demand/town_state.csv\")\n",
        "#train = pd.read_csv(\"/content/drive/MyDrive/grupo-bimbo-inventory-demand/train.csv\")\n",
        "test = pd.read_csv(\"/content/drive/MyDrive/grupo-bimbo-inventory-demand/test.csv\")"
      ],
      "execution_count": null,
      "outputs": []
    },
    {
      "cell_type": "markdown",
      "metadata": {
        "id": "zad14I1DIp7h"
      },
      "source": [
        "RENAMING THE COLUMNS"
      ]
    },
    {
      "cell_type": "code",
      "metadata": {
        "id": "yFzeRLsKI0vf"
      },
      "source": [
        "client.columns = ['Client_ID', 'name']\n",
        "product.columns = ['Product_ID', 'Product_Name']\n",
        "town.columns = ['Sales_Depot_ID', 'Town_name', 'State_name']\n",
        "#train.columns = ['Week_number', 'Sales_Depot_ID', 'Sales_Channel_ID', 'Route_ID', 'Client_ID', 'Product_ID',\\\n",
        "                #'Sales_unit_this_week', 'Sales_this_week', 'Returns_unit_this_week', 'Returns_this_week',\\\n",
        "                #'Adjusted_Demand']\n",
        "test.columns = ['ID', 'Week_number', 'Sales_Depot_ID', 'Sales_Channel_ID', 'Route_ID', 'Client_ID', 'Product_ID']"
      ],
      "execution_count": null,
      "outputs": []
    },
    {
      "cell_type": "markdown",
      "metadata": {
        "id": "YRrvhip_JPNe"
      },
      "source": [
        "PREPROCESSING CLIENT DATA"
      ]
    },
    {
      "cell_type": "code",
      "metadata": {
        "colab": {
          "base_uri": "https://localhost:8080/"
        },
        "id": "5YSGRF5LJV8q",
        "outputId": "89b9c654-12ab-4187-9285-fdef28e21b94"
      },
      "source": [
        "client.isnull().values.any()"
      ],
      "execution_count": null,
      "outputs": [
        {
          "output_type": "execute_result",
          "data": {
            "text/plain": [
              "False"
            ]
          },
          "metadata": {},
          "execution_count": 8
        }
      ]
    },
    {
      "cell_type": "code",
      "metadata": {
        "colab": {
          "base_uri": "https://localhost:8080/"
        },
        "id": "r3h6G8wWJzWh",
        "outputId": "ab5b9450-4a1d-4c31-80a9-0be68344f83f"
      },
      "source": [
        "print(\"Before dropping the duplicate rows \",client.shape)\n",
        "client.drop_duplicates(['Client_ID'],keep='first',inplace=True)\n",
        "print(\"After dropping the duplicate rows \",client.shape)"
      ],
      "execution_count": null,
      "outputs": [
        {
          "output_type": "stream",
          "name": "stdout",
          "text": [
            "Before dropping the duplicate rows  (935362, 2)\n",
            "After dropping the duplicate rows  (930500, 2)\n"
          ]
        }
      ]
    },
    {
      "cell_type": "markdown",
      "metadata": {
        "id": "flcjC_QYJncg"
      },
      "source": [
        "In the client table, some of the names are as follows:<br>\n",
        "'NO IDENTIFICADO','SIN NOMBRE'<br>\n",
        "Replacing such names with NO_Name"
      ]
    },
    {
      "cell_type": "code",
      "metadata": {
        "id": "GgT2oQScJt7M"
      },
      "source": [
        "client.loc[(client['name'] == 'NO IDENTIFICADO') | (client['name'] == 'SIN NOMBRE') |\n",
        "           (client['name'] == 'INACTIVAR NO TOCAR') ,'name' ] = 'NO_Name'"
      ],
      "execution_count": null,
      "outputs": []
    },
    {
      "cell_type": "markdown",
      "metadata": {
        "id": "EzxpvuNZKFia"
      },
      "source": [
        "Column Transformation"
      ]
    },
    {
      "cell_type": "markdown",
      "metadata": {
        "id": "7R7NQwoSXPTR"
      },
      "source": [
        "For label encoding, referred https://scikit-learn.org/stable/modules/generated/sklearn.preprocessing.LabelEncoder.html"
      ]
    },
    {
      "cell_type": "code",
      "metadata": {
        "colab": {
          "base_uri": "https://localhost:8080/",
          "height": 204
        },
        "id": "uhcb4N0QKIKO",
        "outputId": "4040589d-26e8-4e63-e8bf-16f3422dd762"
      },
      "source": [
        "from sklearn.preprocessing import LabelEncoder\n",
        "le = LabelEncoder()\n",
        "\n",
        "client['Client_name']= client['name']\n",
        "client['Client_name'] = le.fit_transform(client['Client_name'])\n",
        "client.head()"
      ],
      "execution_count": null,
      "outputs": [
        {
          "output_type": "execute_result",
          "data": {
            "text/html": [
              "<div>\n",
              "<style scoped>\n",
              "    .dataframe tbody tr th:only-of-type {\n",
              "        vertical-align: middle;\n",
              "    }\n",
              "\n",
              "    .dataframe tbody tr th {\n",
              "        vertical-align: top;\n",
              "    }\n",
              "\n",
              "    .dataframe thead th {\n",
              "        text-align: right;\n",
              "    }\n",
              "</style>\n",
              "<table border=\"1\" class=\"dataframe\">\n",
              "  <thead>\n",
              "    <tr style=\"text-align: right;\">\n",
              "      <th></th>\n",
              "      <th>Client_ID</th>\n",
              "      <th>name</th>\n",
              "      <th>Client_name</th>\n",
              "    </tr>\n",
              "  </thead>\n",
              "  <tbody>\n",
              "    <tr>\n",
              "      <th>0</th>\n",
              "      <td>0</td>\n",
              "      <td>NO_Name</td>\n",
              "      <td>228431</td>\n",
              "    </tr>\n",
              "    <tr>\n",
              "      <th>1</th>\n",
              "      <td>1</td>\n",
              "      <td>OXXO XINANTECATL</td>\n",
              "      <td>238101</td>\n",
              "    </tr>\n",
              "    <tr>\n",
              "      <th>2</th>\n",
              "      <td>2</td>\n",
              "      <td>NO_Name</td>\n",
              "      <td>228431</td>\n",
              "    </tr>\n",
              "    <tr>\n",
              "      <th>3</th>\n",
              "      <td>3</td>\n",
              "      <td>EL MORENO</td>\n",
              "      <td>90955</td>\n",
              "    </tr>\n",
              "    <tr>\n",
              "      <th>4</th>\n",
              "      <td>4</td>\n",
              "      <td>SDN SER  DE ALIM  CUERPO SA CIA  DE INT</td>\n",
              "      <td>270834</td>\n",
              "    </tr>\n",
              "  </tbody>\n",
              "</table>\n",
              "</div>"
            ],
            "text/plain": [
              "   Client_ID                                     name  Client_name\n",
              "0          0                                  NO_Name       228431\n",
              "1          1                         OXXO XINANTECATL       238101\n",
              "2          2                                  NO_Name       228431\n",
              "3          3                                EL MORENO        90955\n",
              "4          4  SDN SER  DE ALIM  CUERPO SA CIA  DE INT       270834"
            ]
          },
          "metadata": {},
          "execution_count": 11
        }
      ]
    },
    {
      "cell_type": "markdown",
      "metadata": {
        "id": "-SDzrxwhKUWW"
      },
      "source": [
        "PREPROCESSING TOWN_STATE DATA"
      ]
    },
    {
      "cell_type": "code",
      "metadata": {
        "colab": {
          "base_uri": "https://localhost:8080/"
        },
        "id": "jBGuSLN5KY24",
        "outputId": "deae448c-3c95-4cb3-b7d1-a15c31660714"
      },
      "source": [
        "town.isnull().values.any()"
      ],
      "execution_count": null,
      "outputs": [
        {
          "output_type": "execute_result",
          "data": {
            "text/plain": [
              "False"
            ]
          },
          "metadata": {},
          "execution_count": 12
        }
      ]
    },
    {
      "cell_type": "markdown",
      "metadata": {
        "id": "NqVzsofTKg3H"
      },
      "source": [
        "Checking for duplicates"
      ]
    },
    {
      "cell_type": "code",
      "metadata": {
        "colab": {
          "base_uri": "https://localhost:8080/"
        },
        "id": "Yj8yTAhfK4Gz",
        "outputId": "fd697cea-06d6-46e5-c853-27c6663aec52"
      },
      "source": [
        "print(\"Before dropping the duplicates\", town.shape)\n",
        "town.drop_duplicates(['Sales_Depot_ID'],keep='first',inplace=True)\n",
        "print(\"After dropping the duplicates\", town.shape)"
      ],
      "execution_count": null,
      "outputs": [
        {
          "output_type": "stream",
          "name": "stdout",
          "text": [
            "Before dropping the duplicates (790, 3)\n",
            "After dropping the duplicates (790, 3)\n"
          ]
        }
      ]
    },
    {
      "cell_type": "markdown",
      "metadata": {
        "id": "-praj_ZvLHQ9"
      },
      "source": [
        "Using regular expressions to format text in the town_state dataset<br>\n",
        "1. Replacing spaces with underscores<br>\n",
        "2. Replacing non-alphabetic values"
      ]
    },
    {
      "cell_type": "code",
      "metadata": {
        "colab": {
          "base_uri": "https://localhost:8080/",
          "height": 374
        },
        "id": "ta5-ldBLLTIe",
        "outputId": "8524a092-5cad-4ef1-984b-1706599d9233"
      },
      "source": [
        "print(\"Before formatting\\n\")\n",
        "print(town.head())\n",
        "town['Town_name'] = town['Town_name'].str.replace('^([^\\s]+)\\s', '')\n",
        "town['Town_name'] = town['Town_name'].str.replace('\\d+', '')\n",
        "town['Town_name'] = town['Town_name'].str.replace('.','')\n",
        "town['Town_name'] = town['Town_name'].str.replace(' ','_')\n",
        "town['Town_name'] = town['Town_name'].str.replace('Ã\\s*','AN')\n",
        "town['State_name'] = town['State_name'].str.replace(',','')\n",
        "town['State_name'] = town['State_name'].str.replace('.','')\n",
        "town['State_name'] = town['State_name'].str.replace(' ','_')\n",
        "print(\"\\nAfter formatting\")\n",
        "town.head()"
      ],
      "execution_count": null,
      "outputs": [
        {
          "output_type": "stream",
          "name": "stdout",
          "text": [
            "Before formatting\n",
            "\n",
            "   Sales_Depot_ID              Town_name        State_name\n",
            "0            1110     2008 AG. LAGO FILT      MÉXICO, D.F.\n",
            "1            1111  2002 AG. AZCAPOTZALCO      MÉXICO, D.F.\n",
            "2            1112    2004 AG. CUAUTITLAN  ESTADO DE MÉXICO\n",
            "3            1113     2008 AG. LAGO FILT      MÉXICO, D.F.\n",
            "4            1114   2029 AG.IZTAPALAPA 2      MÉXICO, D.F.\n",
            "\n",
            "After formatting\n"
          ]
        },
        {
          "output_type": "execute_result",
          "data": {
            "text/html": [
              "<div>\n",
              "<style scoped>\n",
              "    .dataframe tbody tr th:only-of-type {\n",
              "        vertical-align: middle;\n",
              "    }\n",
              "\n",
              "    .dataframe tbody tr th {\n",
              "        vertical-align: top;\n",
              "    }\n",
              "\n",
              "    .dataframe thead th {\n",
              "        text-align: right;\n",
              "    }\n",
              "</style>\n",
              "<table border=\"1\" class=\"dataframe\">\n",
              "  <thead>\n",
              "    <tr style=\"text-align: right;\">\n",
              "      <th></th>\n",
              "      <th>Sales_Depot_ID</th>\n",
              "      <th>Town_name</th>\n",
              "      <th>State_name</th>\n",
              "    </tr>\n",
              "  </thead>\n",
              "  <tbody>\n",
              "    <tr>\n",
              "      <th>0</th>\n",
              "      <td>1110</td>\n",
              "      <td>AG_LAGO_FILT</td>\n",
              "      <td>MÉXICO_DF</td>\n",
              "    </tr>\n",
              "    <tr>\n",
              "      <th>1</th>\n",
              "      <td>1111</td>\n",
              "      <td>AG_AZCAPOTZALCO</td>\n",
              "      <td>MÉXICO_DF</td>\n",
              "    </tr>\n",
              "    <tr>\n",
              "      <th>2</th>\n",
              "      <td>1112</td>\n",
              "      <td>AG_CUAUTITLAN</td>\n",
              "      <td>ESTADO_DE_MÉXICO</td>\n",
              "    </tr>\n",
              "    <tr>\n",
              "      <th>3</th>\n",
              "      <td>1113</td>\n",
              "      <td>AG_LAGO_FILT</td>\n",
              "      <td>MÉXICO_DF</td>\n",
              "    </tr>\n",
              "    <tr>\n",
              "      <th>4</th>\n",
              "      <td>1114</td>\n",
              "      <td>AGIZTAPALAPA_</td>\n",
              "      <td>MÉXICO_DF</td>\n",
              "    </tr>\n",
              "  </tbody>\n",
              "</table>\n",
              "</div>"
            ],
            "text/plain": [
              "   Sales_Depot_ID        Town_name        State_name\n",
              "0            1110     AG_LAGO_FILT         MÉXICO_DF\n",
              "1            1111  AG_AZCAPOTZALCO         MÉXICO_DF\n",
              "2            1112    AG_CUAUTITLAN  ESTADO_DE_MÉXICO\n",
              "3            1113     AG_LAGO_FILT         MÉXICO_DF\n",
              "4            1114    AGIZTAPALAPA_         MÉXICO_DF"
            ]
          },
          "metadata": {},
          "execution_count": 14
        }
      ]
    },
    {
      "cell_type": "markdown",
      "metadata": {
        "id": "TkG-d392Lz9p"
      },
      "source": [
        "Column transformations"
      ]
    },
    {
      "cell_type": "code",
      "metadata": {
        "colab": {
          "base_uri": "https://localhost:8080/",
          "height": 204
        },
        "id": "wS3JQDhpL_9P",
        "outputId": "a7f3330f-c5a8-4a07-9d43-4d8ab9a86ea5"
      },
      "source": [
        "town['Town']= town['Town_name']\n",
        "town['Town'] = le.fit_transform(town['Town'])\n",
        "town['State'] = town['State_name']\n",
        "town['State'] = le.fit_transform(town['State'])\n",
        "town.head()"
      ],
      "execution_count": null,
      "outputs": [
        {
          "output_type": "execute_result",
          "data": {
            "text/html": [
              "<div>\n",
              "<style scoped>\n",
              "    .dataframe tbody tr th:only-of-type {\n",
              "        vertical-align: middle;\n",
              "    }\n",
              "\n",
              "    .dataframe tbody tr th {\n",
              "        vertical-align: top;\n",
              "    }\n",
              "\n",
              "    .dataframe thead th {\n",
              "        text-align: right;\n",
              "    }\n",
              "</style>\n",
              "<table border=\"1\" class=\"dataframe\">\n",
              "  <thead>\n",
              "    <tr style=\"text-align: right;\">\n",
              "      <th></th>\n",
              "      <th>Sales_Depot_ID</th>\n",
              "      <th>Town_name</th>\n",
              "      <th>State_name</th>\n",
              "      <th>Town</th>\n",
              "      <th>State</th>\n",
              "    </tr>\n",
              "  </thead>\n",
              "  <tbody>\n",
              "    <tr>\n",
              "      <th>0</th>\n",
              "      <td>1110</td>\n",
              "      <td>AG_LAGO_FILT</td>\n",
              "      <td>MÉXICO_DF</td>\n",
              "      <td>25</td>\n",
              "      <td>16</td>\n",
              "    </tr>\n",
              "    <tr>\n",
              "      <th>1</th>\n",
              "      <td>1111</td>\n",
              "      <td>AG_AZCAPOTZALCO</td>\n",
              "      <td>MÉXICO_DF</td>\n",
              "      <td>17</td>\n",
              "      <td>16</td>\n",
              "    </tr>\n",
              "    <tr>\n",
              "      <th>2</th>\n",
              "      <td>1112</td>\n",
              "      <td>AG_CUAUTITLAN</td>\n",
              "      <td>ESTADO_DE_MÉXICO</td>\n",
              "      <td>22</td>\n",
              "      <td>9</td>\n",
              "    </tr>\n",
              "    <tr>\n",
              "      <th>3</th>\n",
              "      <td>1113</td>\n",
              "      <td>AG_LAGO_FILT</td>\n",
              "      <td>MÉXICO_DF</td>\n",
              "      <td>25</td>\n",
              "      <td>16</td>\n",
              "    </tr>\n",
              "    <tr>\n",
              "      <th>4</th>\n",
              "      <td>1114</td>\n",
              "      <td>AGIZTAPALAPA_</td>\n",
              "      <td>MÉXICO_DF</td>\n",
              "      <td>9</td>\n",
              "      <td>16</td>\n",
              "    </tr>\n",
              "  </tbody>\n",
              "</table>\n",
              "</div>"
            ],
            "text/plain": [
              "   Sales_Depot_ID        Town_name        State_name  Town  State\n",
              "0            1110     AG_LAGO_FILT         MÉXICO_DF    25     16\n",
              "1            1111  AG_AZCAPOTZALCO         MÉXICO_DF    17     16\n",
              "2            1112    AG_CUAUTITLAN  ESTADO_DE_MÉXICO    22      9\n",
              "3            1113     AG_LAGO_FILT         MÉXICO_DF    25     16\n",
              "4            1114    AGIZTAPALAPA_         MÉXICO_DF     9     16"
            ]
          },
          "metadata": {},
          "execution_count": 15
        }
      ]
    },
    {
      "cell_type": "markdown",
      "metadata": {
        "id": "gmana09LMxHY"
      },
      "source": [
        "PREPROCESSING PRODUCT DATA"
      ]
    },
    {
      "cell_type": "code",
      "metadata": {
        "colab": {
          "base_uri": "https://localhost:8080/"
        },
        "id": "tooxiZ5gMz6S",
        "outputId": "921a4967-6081-475c-db8c-c83dbf90c7bf"
      },
      "source": [
        "product.isnull().values.any()"
      ],
      "execution_count": null,
      "outputs": [
        {
          "output_type": "execute_result",
          "data": {
            "text/plain": [
              "False"
            ]
          },
          "metadata": {},
          "execution_count": 16
        }
      ]
    },
    {
      "cell_type": "markdown",
      "metadata": {
        "id": "sSxZ52SPM5Ty"
      },
      "source": [
        "Dropping the duplicate values"
      ]
    },
    {
      "cell_type": "code",
      "metadata": {
        "colab": {
          "base_uri": "https://localhost:8080/"
        },
        "id": "dwNPUWTsM89D",
        "outputId": "6e6473d7-c2f8-4e94-b68f-aebf3f3d79a9"
      },
      "source": [
        "print(\"Before dropping the duplicates\", product.shape)\n",
        "product.drop_duplicates(['Product_ID'],keep='first',inplace=True)\n",
        "print(\"After dropping the duplicates\", product.shape)"
      ],
      "execution_count": null,
      "outputs": [
        {
          "output_type": "stream",
          "name": "stdout",
          "text": [
            "Before dropping the duplicates (2592, 2)\n",
            "After dropping the duplicates (2592, 2)\n"
          ]
        }
      ]
    },
    {
      "cell_type": "markdown",
      "metadata": {
        "id": "XnkFSWtpNTX2"
      },
      "source": [
        "In the product dataset, name is combined with a lot of other information like weights and number of pieces.<br>\n",
        "Extracting all the values to different columns correctly.<br>\n",
        "Using regular expressions to separate the values<br>\n",
        "Separating the name, number of pieces and the weights of each item."
      ]
    },
    {
      "cell_type": "markdown",
      "metadata": {
        "id": "HEEytyHhVgP-"
      },
      "source": [
        "Referred https://www.kaggle.com/lyytinen/basic-preprocessing-for-products for formatting the Product Name."
      ]
    },
    {
      "cell_type": "code",
      "metadata": {
        "colab": {
          "base_uri": "https://localhost:8080/",
          "height": 374
        },
        "id": "_gjzXnxAOGD4",
        "outputId": "a124b17e-d1d1-484a-ed4f-a7af631e758b"
      },
      "source": [
        "print(\"BEFORE\\n\")\n",
        "print(product.head())\n",
        "\n",
        "id_list = product['Product_ID'].values\n",
        "name_list = product['Product_Name'].values\n",
        "num_product = name_list.shape[0]\n",
        "\n",
        "product_weight_list = np.empty(num_product)\n",
        "product_weight_list[:] = np.NAN\n",
        "product_piece_list = np.ones(num_product)\n",
        "product_brand_list = list()\n",
        "product_short_name_list = list()\n",
        "\n",
        "product_info_list = zip(id_list,name_list)\n",
        "\n",
        "#extract weight,piece,brand and prod_name\n",
        "\n",
        "regex_piece_weight = re.compile(r'(.*?)(\\d+)(p|P).*?(\\d+)\\s*(kg|Kg|g|G|ml)') #check for line with piece first and then weight\n",
        "regex_weight_piece = re.compile(r'(.*?)(\\d+)\\s*(kg|Kg|g|G|ml).*?(\\d+)(p|P)') #opp of first\n",
        "regex_weight = re.compile(r'(.*?)(\\d+)\\s*(kg|Kg|g|G|ml)')  #line with only weights\n",
        "regex_piece = re.compile(r'(.*?)(\\d+)(p|P)(?!ct|CT)')  #line with only piece\n",
        "\n",
        "dont_know_list = ['MTB', 'MTA', 'TNB', 'CU', 'TAB']\n",
        "\n",
        "for i, (product_id, orig_product_name) in enumerate(product_info_list):\n",
        "    product_name = orig_product_name.rstrip(str(product_id)).strip()\n",
        "    \n",
        "    product_name_words = product_name.split()   \n",
        "    \n",
        "    if re.search(regex_piece_weight, product_name):\n",
        "        regex_result = re.search(regex_piece_weight, product_name)\n",
        "        product_weight_list[i] = float(regex_result.group(4))\n",
        "        product_piece_list[i] = int(regex_result.group(2))\n",
        "        product_short_name = regex_result.group(1)\n",
        "        if regex_result.group(5) == 'kg' or regex_result.group(5) == 'Kg':       #replace kg values with gram\n",
        "            product_weight_list[i] *= 1000\n",
        "            \n",
        "    elif re.search(regex_weight_piece, product_name):\n",
        "        regex_result = re.search(regex_weight_piece, product_name)\n",
        "        product_weight_list[i] = float(regex_result.group(2))\n",
        "        product_piece_list[i] = int(regex_result.group(4))\n",
        "        if regex_result.group(3) == 'kg' or regex_result.group(3) == 'Kg': \n",
        "            product_weight_list[i] *= 1000\n",
        "        product_short_name = regex_result.group(1)\n",
        "        \n",
        "    elif re.search(regex_weight, product_name):\n",
        "        regex_result = re.search(regex_weight, product_name)\n",
        "        product_weight_list[i] = float(regex_result.group(2))\n",
        "        if regex_result.group(3) == 'kg' or regex_result.group(3) == 'Kg':\n",
        "            product_weight_list[i] *= 1000\n",
        "        product_short_name = regex_result.group(1)\n",
        "        \n",
        "    elif re.search(regex_piece, product_name):\n",
        "        regex_result = re.search(regex_piece, product_name)\n",
        "        product_piece_list[i] = int(regex_result.group(2))\n",
        "        product_short_name = regex_result.group(1) \n",
        "        \n",
        "        #After separating out values ,still there are some values attached with product name.Remove them\n",
        "    else:\n",
        "        product_short_name = ' '.join([word for word in product_name_words[:-1] if word not in dont_know_list])\n",
        "        \n",
        "    product_brand_list.append(product_name_words[-1])\n",
        "    product_short_name_list.append(product_short_name)\n",
        "    \n",
        "product['product'] = product_short_name_list\n",
        "product['brand'] = product_brand_list\n",
        "product['weight'] = product_weight_list\n",
        "product['pieces'] = product_piece_list\n",
        "\n",
        "product.drop('Product_Name',axis = 1,inplace=True)\n",
        "print(\"\\nAFTER\")\n",
        "product.head()"
      ],
      "execution_count": null,
      "outputs": [
        {
          "output_type": "stream",
          "name": "stdout",
          "text": [
            "BEFORE\n",
            "\n",
            "   Product_ID                            Product_Name\n",
            "0           0                       NO IDENTIFICADO 0\n",
            "1           9               Capuccino Moka 750g NES 9\n",
            "2          41  Bimbollos Ext sAjonjoli 6p 480g BIM 41\n",
            "3          53          Burritos Sincro 170g CU LON 53\n",
            "4          72     Div Tira Mini Doradita 4p 45g TR 72\n",
            "\n",
            "AFTER\n"
          ]
        },
        {
          "output_type": "execute_result",
          "data": {
            "text/html": [
              "<div>\n",
              "<style scoped>\n",
              "    .dataframe tbody tr th:only-of-type {\n",
              "        vertical-align: middle;\n",
              "    }\n",
              "\n",
              "    .dataframe tbody tr th {\n",
              "        vertical-align: top;\n",
              "    }\n",
              "\n",
              "    .dataframe thead th {\n",
              "        text-align: right;\n",
              "    }\n",
              "</style>\n",
              "<table border=\"1\" class=\"dataframe\">\n",
              "  <thead>\n",
              "    <tr style=\"text-align: right;\">\n",
              "      <th></th>\n",
              "      <th>Product_ID</th>\n",
              "      <th>product</th>\n",
              "      <th>brand</th>\n",
              "      <th>weight</th>\n",
              "      <th>pieces</th>\n",
              "    </tr>\n",
              "  </thead>\n",
              "  <tbody>\n",
              "    <tr>\n",
              "      <th>0</th>\n",
              "      <td>0</td>\n",
              "      <td>NO</td>\n",
              "      <td>IDENTIFICADO</td>\n",
              "      <td>NaN</td>\n",
              "      <td>1.0</td>\n",
              "    </tr>\n",
              "    <tr>\n",
              "      <th>1</th>\n",
              "      <td>9</td>\n",
              "      <td>Capuccino Moka</td>\n",
              "      <td>NES</td>\n",
              "      <td>750.0</td>\n",
              "      <td>1.0</td>\n",
              "    </tr>\n",
              "    <tr>\n",
              "      <th>2</th>\n",
              "      <td>41</td>\n",
              "      <td>Bimbollos Ext sAjonjoli</td>\n",
              "      <td>BIM</td>\n",
              "      <td>480.0</td>\n",
              "      <td>6.0</td>\n",
              "    </tr>\n",
              "    <tr>\n",
              "      <th>3</th>\n",
              "      <td>53</td>\n",
              "      <td>Burritos Sincro</td>\n",
              "      <td>LON</td>\n",
              "      <td>170.0</td>\n",
              "      <td>1.0</td>\n",
              "    </tr>\n",
              "    <tr>\n",
              "      <th>4</th>\n",
              "      <td>72</td>\n",
              "      <td>Div Tira Mini Doradita</td>\n",
              "      <td>TR</td>\n",
              "      <td>45.0</td>\n",
              "      <td>4.0</td>\n",
              "    </tr>\n",
              "  </tbody>\n",
              "</table>\n",
              "</div>"
            ],
            "text/plain": [
              "   Product_ID                   product         brand  weight  pieces\n",
              "0           0                        NO  IDENTIFICADO     NaN     1.0\n",
              "1           9           Capuccino Moka            NES   750.0     1.0\n",
              "2          41  Bimbollos Ext sAjonjoli            BIM   480.0     6.0\n",
              "3          53          Burritos Sincro            LON   170.0     1.0\n",
              "4          72   Div Tira Mini Doradita             TR    45.0     4.0"
            ]
          },
          "metadata": {},
          "execution_count": 18
        }
      ]
    },
    {
      "cell_type": "code",
      "metadata": {
        "colab": {
          "base_uri": "https://localhost:8080/",
          "height": 545
        },
        "id": "xhk_xzzpOWPK",
        "outputId": "694c810e-a8c3-4685-c930-126c54e1a234"
      },
      "source": [
        "product['weight'].plot()\n",
        "plt.show()\n",
        "P = product[['weight','pieces']]\n",
        "P.describe()"
      ],
      "execution_count": null,
      "outputs": [
        {
          "output_type": "display_data",
          "data": {
            "image/png": "[encoded data removed]",
            "text/plain": [
              "<Figure size 432x288 with 1 Axes>"
            ]
          },
          "metadata": {
            "needs_background": "light"
          }
        },
        {
          "output_type": "execute_result",
          "data": {
            "text/html": [
              "<div>\n",
              "<style scoped>\n",
              "    .dataframe tbody tr th:only-of-type {\n",
              "        vertical-align: middle;\n",
              "    }\n",
              "\n",
              "    .dataframe tbody tr th {\n",
              "        vertical-align: top;\n",
              "    }\n",
              "\n",
              "    .dataframe thead th {\n",
              "        text-align: right;\n",
              "    }\n",
              "</style>\n",
              "<table border=\"1\" class=\"dataframe\">\n",
              "  <thead>\n",
              "    <tr style=\"text-align: right;\">\n",
              "      <th></th>\n",
              "      <th>weight</th>\n",
              "      <th>pieces</th>\n",
              "    </tr>\n",
              "  </thead>\n",
              "  <tbody>\n",
              "    <tr>\n",
              "      <th>count</th>\n",
              "      <td>2541.000000</td>\n",
              "      <td>2592.000000</td>\n",
              "    </tr>\n",
              "    <tr>\n",
              "      <th>mean</th>\n",
              "      <td>413.480913</td>\n",
              "      <td>6.520448</td>\n",
              "    </tr>\n",
              "    <tr>\n",
              "      <th>std</th>\n",
              "      <td>1764.304179</td>\n",
              "      <td>13.941169</td>\n",
              "    </tr>\n",
              "    <tr>\n",
              "      <th>min</th>\n",
              "      <td>4.000000</td>\n",
              "      <td>0.000000</td>\n",
              "    </tr>\n",
              "    <tr>\n",
              "      <th>25%</th>\n",
              "      <td>80.000000</td>\n",
              "      <td>1.000000</td>\n",
              "    </tr>\n",
              "    <tr>\n",
              "      <th>50%</th>\n",
              "      <td>180.000000</td>\n",
              "      <td>1.000000</td>\n",
              "    </tr>\n",
              "    <tr>\n",
              "      <th>75%</th>\n",
              "      <td>400.000000</td>\n",
              "      <td>8.000000</td>\n",
              "    </tr>\n",
              "    <tr>\n",
              "      <th>max</th>\n",
              "      <td>42000.000000</td>\n",
              "      <td>200.000000</td>\n",
              "    </tr>\n",
              "  </tbody>\n",
              "</table>\n",
              "</div>"
            ],
            "text/plain": [
              "             weight       pieces\n",
              "count   2541.000000  2592.000000\n",
              "mean     413.480913     6.520448\n",
              "std     1764.304179    13.941169\n",
              "min        4.000000     0.000000\n",
              "25%       80.000000     1.000000\n",
              "50%      180.000000     1.000000\n",
              "75%      400.000000     8.000000\n",
              "max    42000.000000   200.000000"
            ]
          },
          "metadata": {},
          "execution_count": 19
        }
      ]
    },
    {
      "cell_type": "markdown",
      "metadata": {
        "id": "08GdZj2BOYZw"
      },
      "source": [
        "We can infer from the above graph that many of the weights are below 10000 and only a few tuples are above that range.<br>\n",
        "Replacing 'NaN' values with the mean will not be a feasible solution. Hence, replaced those values with median.<br>\n",
        "Replacing 0 with 1 making it minimum for one piece.\n"
      ]
    },
    {
      "cell_type": "code",
      "metadata": {
        "colab": {
          "base_uri": "https://localhost:8080/",
          "height": 204
        },
        "id": "WSBYBA4uXMN1",
        "outputId": "4f2eb81c-42a5-4a24-a05f-7c2351bf2d60"
      },
      "source": [
        "product['weight'].fillna(180,inplace=True)\n",
        "product.loc[product['pieces']==0.0,'pieces']=1.0\n",
        "product.head()"
      ],
      "execution_count": null,
      "outputs": [
        {
          "output_type": "execute_result",
          "data": {
            "text/html": [
              "<div>\n",
              "<style scoped>\n",
              "    .dataframe tbody tr th:only-of-type {\n",
              "        vertical-align: middle;\n",
              "    }\n",
              "\n",
              "    .dataframe tbody tr th {\n",
              "        vertical-align: top;\n",
              "    }\n",
              "\n",
              "    .dataframe thead th {\n",
              "        text-align: right;\n",
              "    }\n",
              "</style>\n",
              "<table border=\"1\" class=\"dataframe\">\n",
              "  <thead>\n",
              "    <tr style=\"text-align: right;\">\n",
              "      <th></th>\n",
              "      <th>Product_ID</th>\n",
              "      <th>product</th>\n",
              "      <th>brand</th>\n",
              "      <th>weight</th>\n",
              "      <th>pieces</th>\n",
              "    </tr>\n",
              "  </thead>\n",
              "  <tbody>\n",
              "    <tr>\n",
              "      <th>0</th>\n",
              "      <td>0</td>\n",
              "      <td>NO</td>\n",
              "      <td>IDENTIFICADO</td>\n",
              "      <td>180.0</td>\n",
              "      <td>1.0</td>\n",
              "    </tr>\n",
              "    <tr>\n",
              "      <th>1</th>\n",
              "      <td>9</td>\n",
              "      <td>Capuccino Moka</td>\n",
              "      <td>NES</td>\n",
              "      <td>750.0</td>\n",
              "      <td>1.0</td>\n",
              "    </tr>\n",
              "    <tr>\n",
              "      <th>2</th>\n",
              "      <td>41</td>\n",
              "      <td>Bimbollos Ext sAjonjoli</td>\n",
              "      <td>BIM</td>\n",
              "      <td>480.0</td>\n",
              "      <td>6.0</td>\n",
              "    </tr>\n",
              "    <tr>\n",
              "      <th>3</th>\n",
              "      <td>53</td>\n",
              "      <td>Burritos Sincro</td>\n",
              "      <td>LON</td>\n",
              "      <td>170.0</td>\n",
              "      <td>1.0</td>\n",
              "    </tr>\n",
              "    <tr>\n",
              "      <th>4</th>\n",
              "      <td>72</td>\n",
              "      <td>Div Tira Mini Doradita</td>\n",
              "      <td>TR</td>\n",
              "      <td>45.0</td>\n",
              "      <td>4.0</td>\n",
              "    </tr>\n",
              "  </tbody>\n",
              "</table>\n",
              "</div>"
            ],
            "text/plain": [
              "   Product_ID                   product         brand  weight  pieces\n",
              "0           0                        NO  IDENTIFICADO   180.0     1.0\n",
              "1           9           Capuccino Moka            NES   750.0     1.0\n",
              "2          41  Bimbollos Ext sAjonjoli            BIM   480.0     6.0\n",
              "3          53          Burritos Sincro            LON   170.0     1.0\n",
              "4          72   Div Tira Mini Doradita             TR    45.0     4.0"
            ]
          },
          "metadata": {},
          "execution_count": 20
        }
      ]
    },
    {
      "cell_type": "code",
      "metadata": {
        "colab": {
          "base_uri": "https://localhost:8080/",
          "height": 297
        },
        "id": "1EkzHl3LneXp",
        "outputId": "54267f11-94fd-4261-c1ac-02dcb1b83570"
      },
      "source": [
        "P = product[['weight','pieces']]\n",
        "P.describe()"
      ],
      "execution_count": null,
      "outputs": [
        {
          "output_type": "execute_result",
          "data": {
            "text/html": [
              "<div>\n",
              "<style scoped>\n",
              "    .dataframe tbody tr th:only-of-type {\n",
              "        vertical-align: middle;\n",
              "    }\n",
              "\n",
              "    .dataframe tbody tr th {\n",
              "        vertical-align: top;\n",
              "    }\n",
              "\n",
              "    .dataframe thead th {\n",
              "        text-align: right;\n",
              "    }\n",
              "</style>\n",
              "<table border=\"1\" class=\"dataframe\">\n",
              "  <thead>\n",
              "    <tr style=\"text-align: right;\">\n",
              "      <th></th>\n",
              "      <th>weight</th>\n",
              "      <th>pieces</th>\n",
              "    </tr>\n",
              "  </thead>\n",
              "  <tbody>\n",
              "    <tr>\n",
              "      <th>count</th>\n",
              "      <td>2592.000000</td>\n",
              "      <td>2592.000000</td>\n",
              "    </tr>\n",
              "    <tr>\n",
              "      <th>mean</th>\n",
              "      <td>408.886960</td>\n",
              "      <td>6.523920</td>\n",
              "    </tr>\n",
              "    <tr>\n",
              "      <th>std</th>\n",
              "      <td>1747.155083</td>\n",
              "      <td>13.939669</td>\n",
              "    </tr>\n",
              "    <tr>\n",
              "      <th>min</th>\n",
              "      <td>4.000000</td>\n",
              "      <td>1.000000</td>\n",
              "    </tr>\n",
              "    <tr>\n",
              "      <th>25%</th>\n",
              "      <td>80.000000</td>\n",
              "      <td>1.000000</td>\n",
              "    </tr>\n",
              "    <tr>\n",
              "      <th>50%</th>\n",
              "      <td>180.000000</td>\n",
              "      <td>1.000000</td>\n",
              "    </tr>\n",
              "    <tr>\n",
              "      <th>75%</th>\n",
              "      <td>400.000000</td>\n",
              "      <td>8.000000</td>\n",
              "    </tr>\n",
              "    <tr>\n",
              "      <th>max</th>\n",
              "      <td>42000.000000</td>\n",
              "      <td>200.000000</td>\n",
              "    </tr>\n",
              "  </tbody>\n",
              "</table>\n",
              "</div>"
            ],
            "text/plain": [
              "             weight       pieces\n",
              "count   2592.000000  2592.000000\n",
              "mean     408.886960     6.523920\n",
              "std     1747.155083    13.939669\n",
              "min        4.000000     1.000000\n",
              "25%       80.000000     1.000000\n",
              "50%      180.000000     1.000000\n",
              "75%      400.000000     8.000000\n",
              "max    42000.000000   200.000000"
            ]
          },
          "metadata": {},
          "execution_count": 21
        }
      ]
    },
    {
      "cell_type": "markdown",
      "metadata": {
        "id": "IM7x70g5oTAn"
      },
      "source": [
        "Transformation of Product_name\n",
        "\n",
        "For transformation, used label encoder because data set consists of many unique nominal values. Label encoder helps\n",
        "use those values in equations as numeric, which makes the prediction easier.\n"
      ]
    },
    {
      "cell_type": "code",
      "metadata": {
        "colab": {
          "base_uri": "https://localhost:8080/",
          "height": 204
        },
        "id": "iXx0OgLHnhlv",
        "outputId": "a8679688-39d6-432b-c287-6b91afd1141e"
      },
      "source": [
        "product['product_name']= product['product']\n",
        "product['product_name'] = le.fit_transform(product['product_name'])\n",
        "product.head()"
      ],
      "execution_count": null,
      "outputs": [
        {
          "output_type": "execute_result",
          "data": {
            "text/html": [
              "<div>\n",
              "<style scoped>\n",
              "    .dataframe tbody tr th:only-of-type {\n",
              "        vertical-align: middle;\n",
              "    }\n",
              "\n",
              "    .dataframe tbody tr th {\n",
              "        vertical-align: top;\n",
              "    }\n",
              "\n",
              "    .dataframe thead th {\n",
              "        text-align: right;\n",
              "    }\n",
              "</style>\n",
              "<table border=\"1\" class=\"dataframe\">\n",
              "  <thead>\n",
              "    <tr style=\"text-align: right;\">\n",
              "      <th></th>\n",
              "      <th>Product_ID</th>\n",
              "      <th>product</th>\n",
              "      <th>brand</th>\n",
              "      <th>weight</th>\n",
              "      <th>pieces</th>\n",
              "      <th>product_name</th>\n",
              "    </tr>\n",
              "  </thead>\n",
              "  <tbody>\n",
              "    <tr>\n",
              "      <th>0</th>\n",
              "      <td>0</td>\n",
              "      <td>NO</td>\n",
              "      <td>IDENTIFICADO</td>\n",
              "      <td>180.0</td>\n",
              "      <td>1.0</td>\n",
              "      <td>568</td>\n",
              "    </tr>\n",
              "    <tr>\n",
              "      <th>1</th>\n",
              "      <td>9</td>\n",
              "      <td>Capuccino Moka</td>\n",
              "      <td>NES</td>\n",
              "      <td>750.0</td>\n",
              "      <td>1.0</td>\n",
              "      <td>203</td>\n",
              "    </tr>\n",
              "    <tr>\n",
              "      <th>2</th>\n",
              "      <td>41</td>\n",
              "      <td>Bimbollos Ext sAjonjoli</td>\n",
              "      <td>BIM</td>\n",
              "      <td>480.0</td>\n",
              "      <td>6.0</td>\n",
              "      <td>79</td>\n",
              "    </tr>\n",
              "    <tr>\n",
              "      <th>3</th>\n",
              "      <td>53</td>\n",
              "      <td>Burritos Sincro</td>\n",
              "      <td>LON</td>\n",
              "      <td>170.0</td>\n",
              "      <td>1.0</td>\n",
              "      <td>175</td>\n",
              "    </tr>\n",
              "    <tr>\n",
              "      <th>4</th>\n",
              "      <td>72</td>\n",
              "      <td>Div Tira Mini Doradita</td>\n",
              "      <td>TR</td>\n",
              "      <td>45.0</td>\n",
              "      <td>4.0</td>\n",
              "      <td>277</td>\n",
              "    </tr>\n",
              "  </tbody>\n",
              "</table>\n",
              "</div>"
            ],
            "text/plain": [
              "   Product_ID                   product  ... pieces  product_name\n",
              "0           0                        NO  ...    1.0           568\n",
              "1           9           Capuccino Moka   ...    1.0           203\n",
              "2          41  Bimbollos Ext sAjonjoli   ...    6.0            79\n",
              "3          53          Burritos Sincro   ...    1.0           175\n",
              "4          72   Div Tira Mini Doradita   ...    4.0           277\n",
              "\n",
              "[5 rows x 6 columns]"
            ]
          },
          "metadata": {},
          "execution_count": 22
        }
      ]
    },
    {
      "cell_type": "code",
      "metadata": {
        "colab": {
          "base_uri": "https://localhost:8080/",
          "height": 667
        },
        "id": "O1YUDh3OnvDI",
        "outputId": "3b75a504-5732-4c69-a752-b7670c05e274"
      },
      "source": [
        "df=product['brand'].value_counts()\n",
        "df.plot(kind='bar', legend=True,figsize=(15,10))\n",
        "plt.xlabel('Brand')\n",
        "sns.despine()"
      ],
      "execution_count": null,
      "outputs": [
        {
          "output_type": "display_data",
          "data": {
            "image/png": "[encoded data removed]",
            "text/plain": [
              "<Figure size 1080x720 with 1 Axes>"
            ]
          },
          "metadata": {
            "needs_background": "light"
          }
        }
      ]
    },
    {
      "cell_type": "markdown",
      "metadata": {
        "id": "rcrg0F5JoZU1"
      },
      "source": [
        "According to the above graph, two brands are very popular from the rest of them. Famous brands in Mexico are 'BIM'- Bimbo and 'MLA'- Marinela."
      ]
    },
    {
      "cell_type": "markdown",
      "metadata": {
        "id": "gL0ZwqgnpQyf"
      },
      "source": [
        "## Preprocessing training data"
      ]
    },
    {
      "cell_type": "markdown",
      "metadata": {
        "id": "EUfEub90Ds6B"
      },
      "source": [
        "AS THE TRAIN DATASET IS TOO LARGE, READING IT IN ITERATIONS.\n",
        "\n",
        "The train dataset has 11 columns which are Week_number, Sales_Depot_ID, Sales_Channel_ID, Route_ID, Client_ID, Product_ID, Sales_unit_this_week, Sales_this_week, Returns_unit_next_week, Returns_next_week, Adjusted_Demand.\n",
        "\n",
        "In the below function, the dataset is read in chunks and the duplicates are discarded in the process.\n"
      ]
    },
    {
      "cell_type": "markdown",
      "metadata": {
        "id": "XR-6ehxPX19s"
      },
      "source": [
        "Referred https://www.shanelynn.ie/python-pandas-read-csv-load-data-from-csv-files/ for reading datasets."
      ]
    },
    {
      "cell_type": "code",
      "metadata": {
        "id": "QqD8jAQr8e9X"
      },
      "source": [
        "def ReadTrain(df):\n",
        "    s=0\n",
        "    n=10000000\n",
        "    for x in range(7):\n",
        "        if x == 0:\n",
        "            print('Reading ',s,' to ',n+s)\n",
        "            train1 = pd.read_csv('/content/drive/MyDrive/grupo-bimbo-inventory-demand/train.csv',nrows=n,header = 0,index_col=None,usecols=[0,1,2,3,4,5,6,7,8,9,10],\n",
        "                    dtype={'Semana':np.uint8,'Agencia_ID':np.uint16,'Canal_ID':np.uint16,'Ruta_SAK':np.uint16,\\\n",
        "                           'Cliente_ID':np.uint16,'Producto_ID':np.uint16,'Venta_uni_hoy':np.uint16,'Venta_hoy':np.float32,\\\n",
        "                           'Dev_uni_proxima':np.uint16,'Dev_proxima':np.float32,'Demanda_uni_equil':np.uint16})\n",
        "\n",
        "            train1.columns = ['Week_number', 'Sales_Depot_ID', 'Sales_Channel_ID', 'Route_ID', 'Client_ID', 'Product_ID',\\\n",
        "                              'Sales_unit_this_week', 'Sales_this_week', 'Returns_unit_next_week', 'Returns_next_week',\\\n",
        "                              'Adjusted_Demand']                                             ##rename columns of train dataset\n",
        "            train1.head()\n",
        "        elif x < 6:\n",
        "            print('Reading ',s,' to ',n+s)\n",
        "            train1 = pd.read_csv('/content/drive/MyDrive/grupo-bimbo-inventory-demand/train.csv',skiprows=range(1,s+1),nrows=n,header = 0,index_col=None,usecols=[0,1,2,3,4,5,6,7,8,9,10],\n",
        "                    dtype={'Semana':np.uint8,'Agencia_ID':np.uint16,'Canal_ID':np.uint16,'Ruta_SAK':np.uint16,\\\n",
        "                           'Cliente_ID':np.uint16,'Producto_ID':np.uint16,'Venta_uni_hoy':np.uint16,'Venta_hoy':np.float32,\\\n",
        "                           'Dev_uni_proxima':np.uint16,'Dev_proxima':np.float32,'Demanda_uni_equil':np.uint16})\n",
        "\n",
        "            train1.columns = ['Week_number', 'Sales_Depot_ID', 'Sales_Channel_ID', 'Route_ID', 'Client_ID', 'Product_ID',\\\n",
        "                              'Sales_unit_this_week', 'Sales_this_week', 'Returns_unit_next_week', 'Returns_next_week',\\\n",
        "                              'Adjusted_Demand']\n",
        "            train1.head()\n",
        "        else:\n",
        "            print('Reading remaining values')\n",
        "            train1 = pd.read_csv('/content/drive/MyDrive/grupo-bimbo-inventory-demand/train.csv',skiprows=range(1,s+1),header = 0,index_col=None,usecols=[0,1,2,3,4,5,6,7,8,9,10],\n",
        "                    dtype={'Semana':np.uint8,'Agencia_ID':np.uint16,'Canal_ID':np.uint16,'Ruta_SAK':np.uint16,\\\n",
        "                           'Cliente_ID':np.uint16,'Producto_ID':np.uint16,'Venta_uni_hoy':np.uint16,'Venta_hoy':np.float32,\\\n",
        "                           'Dev_uni_proxima':np.uint16,'Dev_proxima':np.float32,'Demanda_uni_equil':np.uint16})\n",
        "\n",
        "            train1.columns = ['Week_number', 'Sales_Depot_ID', 'Sales_Channel_ID', 'Route_ID', 'Client_ID', 'Product_ID',\\\n",
        "                              'Sales_unit_this_week', 'Sales_this_week', 'Returns_unit_next_week', 'Returns_next_week',\\\n",
        "                              'Adjusted_Demand']\n",
        "\n",
        "            train1.head()\n",
        "        s=s+n\n",
        "        print('Checking for null values')\n",
        "        print('Number before droping Nan values:',train1.shape[0])\n",
        "        train1.dropna(axis=0,how='any',subset=['Week_number','Sales_Depot_ID','Client_ID','Product_ID'])\n",
        "        print('Number after droping Nan values:',train1.shape[0])\n",
        "        \n",
        "        print('Checking for duplicate values')\n",
        "        print('Number before droping duplicate values:',train1.shape[0])\n",
        "        orginal = train1.shape[0]\n",
        "        train1.drop_duplicates(subset=['Week_number','Sales_Depot_ID','Client_ID','Product_ID','Sales_unit_this_week','Returns_unit_next_week','Adjusted_Demand'],keep='first', inplace=True)\n",
        "        print('Number after droping duplicate values:',train1.shape[0])\n",
        "        duplicate = orginal-train1.shape[0]\n",
        "        percentage = (duplicate/orginal)*100\n",
        "        print(\"Duplicate values percentage: %.3f%%\" % percentage)\n",
        "        \n",
        "        print('Number values where returns are more than sales:',train1.loc[train1['Returns_unit_next_week'] > train1['Sales_unit_this_week']].shape[0])\n",
        "        train1.loc[train1['Returns_unit_next_week'] > train1['Sales_unit_this_week'],['Sales_unit_this_week', 'Returns_unit_next_week']]= \\\n",
        "        train1.loc[train1['Returns_unit_next_week'] > train1['Sales_unit_this_week'],['Returns_unit_next_week','Sales_unit_this_week']].values\n",
        "\n",
        "        print('Number values where adjusted values are zero:',train1['Adjusted_Demand'].loc[train1['Adjusted_Demand'] ==0].count())\n",
        "        train1['Diff']=train1['Sales_unit_this_week']-train1['Returns_unit_next_week']\n",
        "        train1.loc[(train1['Adjusted_Demand'] == 0) & (train1['Sales_unit_this_week'] != train1['Returns_unit_next_week']),['Adjusted_Demand','Diff']] = \\\n",
        "        train1.loc[(train1['Adjusted_Demand'] == 0) & (train1['Sales_unit_this_week'] != train1['Returns_unit_next_week']),['Diff','Adjusted_Demand']].values\n",
        "        train1.drop(['Diff'],axis=1,inplace=True)\n",
        "        \n",
        "        print('Joining all the dataset')\n",
        "        print('Joining client dataset')\n",
        "        train1 =pd.merge(train1,client,how='inner',on='Client_ID')\n",
        "        train1.drop(['Client_ID','name'],axis=1,inplace=True)\n",
        "        print('Joining Town-state dataset')\n",
        "        train1 =pd.merge(train1,town,how='inner',on='Sales_Depot_ID')\n",
        "        train1.drop(['State_name', 'Town_name'],axis=1,inplace=True)\n",
        "        print('Joining Product dataset')\n",
        "        train1 =pd.merge(train1,product,how='inner',on='Product_ID') \n",
        "        train1.drop(['Product_ID','brand','weight','pieces', 'product'],axis=1,inplace=True)\n",
        "        \n",
        "        if x == 0:\n",
        "            df = train1\n",
        "        else:\n",
        "            df = pd.concat((df,train1), axis=0,ignore_index=True)\n",
        "        print('Shape: ',df.shape,'\\n')\n",
        "    return df"
      ],
      "execution_count": null,
      "outputs": []
    },
    {
      "cell_type": "code",
      "metadata": {
        "colab": {
          "base_uri": "https://localhost:8080/",
          "height": 1000
        },
        "id": "7b7332d2-jJS",
        "outputId": "4a27df76-5a68-4335-a90c-7fef2d2d61b6"
      },
      "source": [
        "df = pd.DataFrame(columns=['Week_number', 'Sales_Depot_ID', 'Sales_Channel_ID', 'Route_ID', 'Client_name', 'product_name',\\\n",
        "                              'Sales_unit_this_week', 'Sales_this_week', 'Returns_unit_next_week', 'Returns_next_week',\\\n",
        "                              'Adjusted_Demand'])\n",
        "\n",
        "print('Reading Training data')\n",
        "df = ReadTrain(df)\n",
        "print('Completed Reading Training data')\n",
        "df.head()"
      ],
      "execution_count": null,
      "outputs": [
        {
          "output_type": "stream",
          "name": "stdout",
          "text": [
            "Reading Training data\n",
            "Reading  0  to  10000000\n",
            "Checking for null values\n",
            "Number before droping Nan values: 10000000\n",
            "Number after droping Nan values: 10000000\n",
            "Checking for duplicate values\n",
            "Number before droping duplicate values: 10000000\n",
            "Number after droping duplicate values: 9988110\n",
            "Duplicate values percentage: 0.119%\n",
            "Number values where returns are more than sales: 75185\n",
            "Number values where adjusted values are zero: 163152\n",
            "Joining all the dataset\n",
            "Joining client dataset\n",
            "Joining Town-state dataset\n",
            "Joining Product dataset\n",
            "Shape:  (4112439, 13) \n",
            "\n",
            "Reading  10000000  to  20000000\n",
            "Checking for null values\n",
            "Number before droping Nan values: 10000000\n",
            "Number after droping Nan values: 10000000\n",
            "Checking for duplicate values\n",
            "Number before droping duplicate values: 10000000\n",
            "Number after droping duplicate values: 9988876\n",
            "Duplicate values percentage: 0.111%\n",
            "Number values where returns are more than sales: 75455\n",
            "Number values where adjusted values are zero: 162506\n",
            "Joining all the dataset\n",
            "Joining client dataset\n",
            "Joining Town-state dataset\n",
            "Joining Product dataset\n",
            "Shape:  (8252030, 13) \n",
            "\n",
            "Reading  20000000  to  30000000\n",
            "Checking for null values\n",
            "Number before droping Nan values: 10000000\n",
            "Number after droping Nan values: 10000000\n",
            "Checking for duplicate values\n",
            "Number before droping duplicate values: 10000000\n",
            "Number after droping duplicate values: 9988855\n",
            "Duplicate values percentage: 0.111%\n",
            "Number values where returns are more than sales: 70037\n",
            "Number values where adjusted values are zero: 155400\n",
            "Joining all the dataset\n",
            "Joining client dataset\n",
            "Joining Town-state dataset\n",
            "Joining Product dataset\n",
            "Shape:  (12380752, 13) \n",
            "\n",
            "Reading  30000000  to  40000000\n",
            "Checking for null values\n",
            "Number before droping Nan values: 10000000\n",
            "Number after droping Nan values: 10000000\n",
            "Checking for duplicate values\n",
            "Number before droping duplicate values: 10000000\n",
            "Number after droping duplicate values: 9989096\n",
            "Duplicate values percentage: 0.109%\n",
            "Number values where returns are more than sales: 77293\n",
            "Number values where adjusted values are zero: 174670\n",
            "Joining all the dataset\n",
            "Joining client dataset\n",
            "Joining Town-state dataset\n",
            "Joining Product dataset\n",
            "Shape:  (16513764, 13) \n",
            "\n",
            "Reading  40000000  to  50000000\n",
            "Checking for null values\n",
            "Number before droping Nan values: 10000000\n",
            "Number after droping Nan values: 10000000\n",
            "Checking for duplicate values\n",
            "Number before droping duplicate values: 10000000\n",
            "Number after droping duplicate values: 9989555\n",
            "Duplicate values percentage: 0.104%\n",
            "Number values where returns are more than sales: 87038\n",
            "Number values where adjusted values are zero: 191311\n",
            "Joining all the dataset\n",
            "Joining client dataset\n",
            "Joining Town-state dataset\n",
            "Joining Product dataset\n",
            "Shape:  (20644285, 13) \n",
            "\n",
            "Reading  50000000  to  60000000\n",
            "Checking for null values\n",
            "Number before droping Nan values: 10000000\n",
            "Number after droping Nan values: 10000000\n",
            "Checking for duplicate values\n",
            "Number before droping duplicate values: 10000000\n",
            "Number after droping duplicate values: 9989492\n",
            "Duplicate values percentage: 0.105%\n",
            "Number values where returns are more than sales: 96181\n",
            "Number values where adjusted values are zero: 204618\n",
            "Joining all the dataset\n",
            "Joining client dataset\n",
            "Joining Town-state dataset\n",
            "Joining Product dataset\n",
            "Shape:  (24754671, 13) \n",
            "\n",
            "Reading remaining values\n",
            "Checking for null values\n",
            "Number before droping Nan values: 14180464\n",
            "Number after droping Nan values: 14180464\n",
            "Checking for duplicate values\n",
            "Number before droping duplicate values: 14180464\n",
            "Number after droping duplicate values: 14165042\n",
            "Duplicate values percentage: 0.109%\n",
            "Number values where returns are more than sales: 134277\n",
            "Number values where adjusted values are zero: 284743\n",
            "Joining all the dataset\n",
            "Joining client dataset\n",
            "Joining Town-state dataset\n",
            "Joining Product dataset\n",
            "Shape:  (30583509, 13) \n",
            "\n",
            "Completed Reading Training data\n"
          ]
        },
        {
          "output_type": "execute_result",
          "data": {
            "text/html": [
              "<div>\n",
              "<style scoped>\n",
              "    .dataframe tbody tr th:only-of-type {\n",
              "        vertical-align: middle;\n",
              "    }\n",
              "\n",
              "    .dataframe tbody tr th {\n",
              "        vertical-align: top;\n",
              "    }\n",
              "\n",
              "    .dataframe thead th {\n",
              "        text-align: right;\n",
              "    }\n",
              "</style>\n",
              "<table border=\"1\" class=\"dataframe\">\n",
              "  <thead>\n",
              "    <tr style=\"text-align: right;\">\n",
              "      <th></th>\n",
              "      <th>Week_number</th>\n",
              "      <th>Sales_Depot_ID</th>\n",
              "      <th>Sales_Channel_ID</th>\n",
              "      <th>Route_ID</th>\n",
              "      <th>Sales_unit_this_week</th>\n",
              "      <th>Sales_this_week</th>\n",
              "      <th>Returns_unit_next_week</th>\n",
              "      <th>Returns_next_week</th>\n",
              "      <th>Adjusted_Demand</th>\n",
              "      <th>Client_name</th>\n",
              "      <th>Town</th>\n",
              "      <th>State</th>\n",
              "      <th>product_name</th>\n",
              "    </tr>\n",
              "  </thead>\n",
              "  <tbody>\n",
              "    <tr>\n",
              "      <th>0</th>\n",
              "      <td>3</td>\n",
              "      <td>1110</td>\n",
              "      <td>7</td>\n",
              "      <td>3301</td>\n",
              "      <td>3.0</td>\n",
              "      <td>25.139999</td>\n",
              "      <td>0.0</td>\n",
              "      <td>0.0</td>\n",
              "      <td>3.0</td>\n",
              "      <td>250299</td>\n",
              "      <td>25</td>\n",
              "      <td>16</td>\n",
              "      <td>758</td>\n",
              "    </tr>\n",
              "    <tr>\n",
              "      <th>1</th>\n",
              "      <td>3</td>\n",
              "      <td>1110</td>\n",
              "      <td>7</td>\n",
              "      <td>3301</td>\n",
              "      <td>2.0</td>\n",
              "      <td>16.760000</td>\n",
              "      <td>0.0</td>\n",
              "      <td>0.0</td>\n",
              "      <td>2.0</td>\n",
              "      <td>292487</td>\n",
              "      <td>25</td>\n",
              "      <td>16</td>\n",
              "      <td>758</td>\n",
              "    </tr>\n",
              "    <tr>\n",
              "      <th>2</th>\n",
              "      <td>3</td>\n",
              "      <td>1110</td>\n",
              "      <td>7</td>\n",
              "      <td>3301</td>\n",
              "      <td>2.0</td>\n",
              "      <td>16.760000</td>\n",
              "      <td>0.0</td>\n",
              "      <td>0.0</td>\n",
              "      <td>2.0</td>\n",
              "      <td>100282</td>\n",
              "      <td>25</td>\n",
              "      <td>16</td>\n",
              "      <td>758</td>\n",
              "    </tr>\n",
              "    <tr>\n",
              "      <th>3</th>\n",
              "      <td>3</td>\n",
              "      <td>1110</td>\n",
              "      <td>7</td>\n",
              "      <td>3301</td>\n",
              "      <td>4.0</td>\n",
              "      <td>33.520000</td>\n",
              "      <td>0.0</td>\n",
              "      <td>0.0</td>\n",
              "      <td>4.0</td>\n",
              "      <td>1089</td>\n",
              "      <td>25</td>\n",
              "      <td>16</td>\n",
              "      <td>758</td>\n",
              "    </tr>\n",
              "    <tr>\n",
              "      <th>4</th>\n",
              "      <td>3</td>\n",
              "      <td>1110</td>\n",
              "      <td>7</td>\n",
              "      <td>3301</td>\n",
              "      <td>1.0</td>\n",
              "      <td>8.380000</td>\n",
              "      <td>0.0</td>\n",
              "      <td>0.0</td>\n",
              "      <td>1.0</td>\n",
              "      <td>82835</td>\n",
              "      <td>25</td>\n",
              "      <td>16</td>\n",
              "      <td>758</td>\n",
              "    </tr>\n",
              "  </tbody>\n",
              "</table>\n",
              "</div>"
            ],
            "text/plain": [
              "   Week_number  Sales_Depot_ID  Sales_Channel_ID  ...  Town  State  product_name\n",
              "0            3            1110                 7  ...    25     16           758\n",
              "1            3            1110                 7  ...    25     16           758\n",
              "2            3            1110                 7  ...    25     16           758\n",
              "3            3            1110                 7  ...    25     16           758\n",
              "4            3            1110                 7  ...    25     16           758\n",
              "\n",
              "[5 rows x 13 columns]"
            ]
          },
          "metadata": {},
          "execution_count": 25
        }
      ]
    },
    {
      "cell_type": "markdown",
      "metadata": {
        "id": "FgOzUVYUX_EO"
      },
      "source": [
        "For pyplots, referred Nikbearbrown's colabs https://colab.research.google.com/drive/1xFqXOc2eJT78HcVDmoD0twNETiTSvUwB?usp=sharing#scrollTo=I8jCKSlLC-dO "
      ]
    },
    {
      "cell_type": "code",
      "metadata": {
        "colab": {
          "base_uri": "https://localhost:8080/",
          "height": 453
        },
        "id": "3CcdGGVuiuyS",
        "outputId": "0d3af3f5-3c3d-4f3d-a2b9-befd306f81e9"
      },
      "source": [
        "## TOP 10 BEST SELLING PRODUCTS\n",
        "t = df[['product_name']]\n",
        "t = t.product_name.value_counts(sort=True)\n",
        "t.head(10).plot(kind='bar', color='pink', rot=0,figsize=(13,7))\n",
        "plt.xlabel('Products')\n",
        "sns.despine()\n",
        "del t"
      ],
      "execution_count": null,
      "outputs": [
        {
          "data": {
            "image/png": "[encoded data removed]",
            "text/plain": [
              "<Figure size 936x504 with 1 Axes>"
            ]
          },
          "metadata": {},
          "output_type": "display_data"
        }
      ]
    },
    {
      "cell_type": "markdown",
      "metadata": {
        "id": "O5Jnu665jE1a"
      },
      "source": [
        "The above graph shows the best selling products. We observe that 'nito' product is sold the most."
      ]
    },
    {
      "cell_type": "code",
      "metadata": {
        "colab": {
          "base_uri": "https://localhost:8080/",
          "height": 453
        },
        "id": "cbRXtwNcjUID",
        "outputId": "77fa8629-69a3-475c-8cac-ffa9c6fa004a"
      },
      "source": [
        "subset = df[['Week_number','Sales_unit_this_week','Returns_unit_next_week','Adjusted_Demand']]\n",
        "x =subset.groupby(['Week_number']).sum()\n",
        "x.plot(kind='line', legend=True,figsize=(12,7))\n",
        "plt.xlabel('Weeks')\n",
        "sns.despine()"
      ],
      "execution_count": null,
      "outputs": [
        {
          "data": {
            "image/png": "[encoded data removed]",
            "text/plain": [
              "<Figure size 864x504 with 1 Axes>"
            ]
          },
          "metadata": {},
          "output_type": "display_data"
        }
      ]
    },
    {
      "cell_type": "markdown",
      "metadata": {
        "id": "dL-0PNQrjgIn"
      },
      "source": [
        "The above graph shows the relationship between the independent and the dependent features.\n",
        "\n",
        "Also shows that the Sales_unit_this_week and Adjusted_Demand are highly correlated and the Returns_unit_next_week are not so correlated."
      ]
    },
    {
      "cell_type": "code",
      "metadata": {
        "id": "DJ-WPvwEjmzq",
        "colab": {
          "base_uri": "https://localhost:8080/",
          "height": 640
        },
        "outputId": "97a856e5-1a60-4eff-9d85-a709d149b984"
      },
      "source": [
        "import pandas as pd\n",
        "df_train = pd.read_csv('/content/drive/MyDrive/grupo-bimbo-inventory-demand/train.csv',usecols=[0,2,6,8,10],dtype={'Semana':int,'Canal_ID':int,'Venta_uni_hoy':int,'Dev_uni_proxima':int,'Demanda_uni_equil':int})\n",
        "df_train.columns =['WeekNum','ChannelId','SalesUnitsWeek','ReturnsUnitsWeek','AdjDemand']\n",
        "y=df_train.groupby(['WeekNum','ChannelId']).sum()\n",
        "y.plot(kind='bar', legend=True,figsize=(15,10))\n",
        "plt.xlabel('Weeks')\n",
        "sns.despine()\n",
        "del df_train"
      ],
      "execution_count": null,
      "outputs": [
        {
          "output_type": "display_data",
          "data": {
            "image/png": "[encoded data removed]",
            "text/plain": [
              "<Figure size 1080x720 with 1 Axes>"
            ]
          },
          "metadata": {
            "needs_background": "light"
          }
        }
      ]
    },
    {
      "cell_type": "markdown",
      "metadata": {
        "id": "1LNR0OErj5ZV"
      },
      "source": [
        "This graph shows distribution of products week-wise through channels and we observe that channel 1 has the most distributions among all the others."
      ]
    },
    {
      "cell_type": "code",
      "metadata": {
        "colab": {
          "base_uri": "https://localhost:8080/",
          "height": 345
        },
        "id": "U-DE330blAWo",
        "outputId": "0336151c-ce8f-4dd1-8274-91d4af46175b"
      },
      "source": [
        "t = df[['Week_number']]\n",
        "t.Week_number.value_counts(sort=False).plot(kind='line', color='blue', rot=0,figsize=(10,5))\n",
        "plt.xlabel('Week')\n",
        "plt.ylabel('Sales')\n",
        "sns.despine()\n",
        "del t"
      ],
      "execution_count": null,
      "outputs": [
        {
          "data": {
            "image/png": "[encoded data removed]",
            "text/plain": [
              "<Figure size 720x360 with 1 Axes>"
            ]
          },
          "metadata": {},
          "output_type": "display_data"
        }
      ]
    },
    {
      "cell_type": "markdown",
      "metadata": {
        "id": "GGW5hkTtoixA"
      },
      "source": [
        "From the 3rd to the 4th week, there is a slight decrease in sales.<br>\n",
        "From the 4th week onwards, there is a drastic decrease in sales compared to the 3rd week.<br>\n",
        "From the 7th week, there are steady sales."
      ]
    },
    {
      "cell_type": "markdown",
      "metadata": {
        "id": "rKWasMQK9EeC"
      },
      "source": [
        "If the week number is more than 7 then set it to test dataset."
      ]
    },
    {
      "cell_type": "markdown",
      "metadata": {
        "id": "PLigL4IwU4Dq"
      },
      "source": [
        "Referred https://www.kaggle.com/c/grupo-bimbo-inventory-demand/discussion/23863 for the split of dataset and also for calculating lags.*italicized text*"
      ]
    },
    {
      "cell_type": "code",
      "metadata": {
        "colab": {
          "base_uri": "https://localhost:8080/"
        },
        "id": "BfVB_wXWpLVT",
        "outputId": "33b01cb8-c2e5-4865-8ae9-c11ba63e1759"
      },
      "source": [
        "test = df.loc[df['Week_number']>7]\n",
        "test.to_csv('/content/drive/MyDrive/grupo-bimbo-inventory-demand/T_test.csv',header=True,index=False)\n",
        "test.shape"
      ],
      "execution_count": null,
      "outputs": [
        {
          "data": {
            "text/plain": [
              "(8582524, 13)"
            ]
          },
          "execution_count": 26,
          "metadata": {},
          "output_type": "execute_result"
        }
      ]
    },
    {
      "cell_type": "markdown",
      "metadata": {
        "id": "qQvRxCJM9YI5"
      },
      "source": [
        "Week 3-7 considering the train dataset."
      ]
    },
    {
      "cell_type": "code",
      "metadata": {
        "colab": {
          "base_uri": "https://localhost:8080/"
        },
        "id": "QV-_WXZVpOoX",
        "outputId": "436b79cb-f493-4d6f-b208-b53ed2b40b2b"
      },
      "source": [
        "df = df.loc[df['Week_number']<8]\n",
        "df.to_csv('/content/drive/MyDrive/grupo-bimbo-inventory-demand/T_train.csv',header=True,index=False)\n",
        "df.shape"
      ],
      "execution_count": null,
      "outputs": [
        {
          "data": {
            "text/plain": [
              "(22000985, 13)"
            ]
          },
          "execution_count": 27,
          "metadata": {},
          "output_type": "execute_result"
        }
      ]
    },
    {
      "cell_type": "markdown",
      "metadata": {
        "id": "7vW0mRGCs8gd"
      },
      "source": [
        "Plotting a heatmap to see the correlation between the predictors\n"
      ]
    },
    {
      "cell_type": "code",
      "metadata": {
        "colab": {
          "base_uri": "https://localhost:8080/",
          "height": 618
        },
        "id": "hjIci-QNpRut",
        "outputId": "a103436b-5073-48a7-d874-d8ca5bd37fd9"
      },
      "source": [
        "cmap = sns.diverging_palette(0, 255, sep=1, n=256, as_cmap=True)\n",
        "\n",
        "correlations = df[['Week_number', 'Sales_Depot_ID', 'Sales_Channel_ID', 'Route_ID', 'Client_name', 'product_name',\\\n",
        "                              'Sales_unit_this_week', 'Sales_this_week', 'Returns_unit_next_week', 'Returns_next_week']].corr()\n",
        "print(correlations)\n",
        "sns.heatmap(correlations, cmap=cmap)"
      ],
      "execution_count": null,
      "outputs": [
        {
          "name": "stdout",
          "output_type": "stream",
          "text": [
            "                        Week_number  ...  Returns_next_week\n",
            "Week_number                1.000000  ...           0.001615\n",
            "Sales_Depot_ID            -0.000867  ...          -0.001054\n",
            "Sales_Channel_ID           0.008649  ...           0.013644\n",
            "Route_ID                  -0.002742  ...          -0.004830\n",
            "Client_name               -0.000143  ...          -0.001442\n",
            "product_name               0.010706  ...           0.001611\n",
            "Sales_unit_this_week       0.003311  ...           0.166721\n",
            "Sales_this_week            0.001406  ...           0.057989\n",
            "Returns_unit_next_week     0.002817  ...           0.394341\n",
            "Returns_next_week          0.001615  ...           1.000000\n",
            "\n",
            "[10 rows x 10 columns]\n"
          ]
        },
        {
          "data": {
            "text/plain": [
              "<matplotlib.axes._subplots.AxesSubplot at 0x7fc506405cd0>"
            ]
          },
          "execution_count": 33,
          "metadata": {},
          "output_type": "execute_result"
        },
        {
          "data": {
            "image/png": "[encoded data removed]",
            "text/plain": [
              "<Figure size 432x288 with 2 Axes>"
            ]
          },
          "metadata": {},
          "output_type": "display_data"
        }
      ]
    },
    {
      "cell_type": "markdown",
      "metadata": {
        "id": "uByDhEDmtHbW"
      },
      "source": [
        "From the heatmap, we see that none of the columns are highly correlated.\n",
        "All the correlation values are less than 0.8.\n"
      ]
    },
    {
      "cell_type": "code",
      "metadata": {
        "id": "h2kGCjsEziV4"
      },
      "source": [
        "demand = df[['Sales_unit_this_week', 'Returns_unit_next_week']]"
      ],
      "execution_count": null,
      "outputs": []
    },
    {
      "cell_type": "code",
      "metadata": {
        "colab": {
          "base_uri": "https://localhost:8080/",
          "height": 282
        },
        "id": "36-XU6lShW0e",
        "outputId": "7505d2cb-1f38-4cd6-b4e2-7738054856fd"
      },
      "source": [
        "sns.boxplot(data=demand , orient=\"h\")"
      ],
      "execution_count": null,
      "outputs": [
        {
          "output_type": "execute_result",
          "data": {
            "text/plain": [
              "<matplotlib.axes._subplots.AxesSubplot at 0x7fc8211da590>"
            ]
          },
          "metadata": {},
          "execution_count": 27
        },
        {
          "output_type": "display_data",
          "data": {
            "image/png": "[encoded data removed]",
            "text/plain": [
              "<Figure size 432x288 with 1 Axes>"
            ]
          },
          "metadata": {
            "needs_background": "light"
          }
        }
      ]
    },
    {
      "cell_type": "markdown",
      "metadata": {
        "id": "p3ipfIw8RF-J"
      },
      "source": [
        "From the boxplot, we can infer that the Sales_unit_this_week ranges from 0 to 10000 and Returns_unit_next_week ranges from 0 to 7000 approximately.<br>\n",
        "Both the attributes show some outliers in them."
      ]
    },
    {
      "cell_type": "code",
      "metadata": {
        "id": "BmHwKspPQbyi"
      },
      "source": [
        "del demand\n",
        "tf = df[['Sales_this_week', 'Returns_next_week']]"
      ],
      "execution_count": null,
      "outputs": []
    },
    {
      "cell_type": "code",
      "metadata": {
        "colab": {
          "base_uri": "https://localhost:8080/",
          "height": 265
        },
        "id": "zyPT5kNBQ4H2",
        "outputId": "6bb7a9aa-fb65-44a9-ce35-93210b5f7c03"
      },
      "source": [
        "sns.boxplot(data=tf , orient=\"h\")\n",
        "del tf"
      ],
      "execution_count": null,
      "outputs": [
        {
          "output_type": "display_data",
          "data": {
            "image/png": "[encoded data removed]",
            "text/plain": [
              "<Figure size 432x288 with 1 Axes>"
            ]
          },
          "metadata": {
            "needs_background": "light"
          }
        }
      ]
    },
    {
      "cell_type": "markdown",
      "metadata": {
        "id": "7n0z9EAIRgRj"
      },
      "source": [
        "From the boxplot, we can infer that the Sales_this_week ranges from 0 to 700000 and Returns_unit_next_week ranges from 0 to 100000 approximately.<br>\n",
        "Sales_this_week shows some outliers."
      ]
    },
    {
      "cell_type": "markdown",
      "metadata": {
        "id": "BOByLnUpuOtW"
      },
      "source": [
        "## ADDING A FEATURE FOR BETTER PREDICTION OF DEMAND."
      ]
    },
    {
      "cell_type": "markdown",
      "metadata": {
        "id": "ZRuejRV_uYKo"
      },
      "source": [
        "Here we are calculating three weeks lag of sales. It describes the clients purchase history of last three weeks.\n",
        "\n",
        "This feature can helps in clients future purchases."
      ]
    },
    {
      "cell_type": "markdown",
      "metadata": {
        "id": "cTThHYzA86sY"
      },
      "source": [
        "As the weeks start from 3 in the dataset, considering the lag for week 5.<br>\n",
        "Hence, calculating lag for weeks 3 to 5.\n"
      ]
    },
    {
      "cell_type": "code",
      "metadata": {
        "colab": {
          "base_uri": "https://localhost:8080/"
        },
        "id": "0DQU5dxDLTuC",
        "outputId": "016497f8-f79e-4147-f2a3-32b24cb0dd63"
      },
      "source": [
        "lag3_5 = df.loc[(df['Week_number']==3) | (df['Week_number']==4),['Sales_unit_this_week','Client_name','product_name','Town']]\n",
        "lag3_5=lag3_5.groupby(by=['Client_name','product_name','Town'],as_index=False,sort=False).aggregate(np.mean)\n",
        "lag3_5['week']=5\n",
        "lag3_5.columns=['Client_name','product_name','Town','mean_sales','Week_number']\n",
        "lag3_5.shape[0]"
      ],
      "execution_count": null,
      "outputs": [
        {
          "output_type": "execute_result",
          "data": {
            "text/plain": [
              "5487745"
            ]
          },
          "metadata": {},
          "execution_count": 26
        }
      ]
    },
    {
      "cell_type": "markdown",
      "metadata": {
        "id": "sYRHveGA94Oi"
      },
      "source": [
        "For week 6, considering the lag for 3 weeks - 3, 4 and 5."
      ]
    },
    {
      "cell_type": "code",
      "metadata": {
        "colab": {
          "base_uri": "https://localhost:8080/"
        },
        "id": "U4ZjP1TfQ0rw",
        "outputId": "0eb7db49-8eb4-4c9a-cf4e-4bd26249cc28"
      },
      "source": [
        "lag3_6 = df.loc[(df['Week_number']==3) |(df['Week_number']==4) | (df['Week_number']==5),['Sales_unit_this_week','Client_name','product_name','Town']]\n",
        "lag3_6=lag3_6.groupby(by=['Client_name','product_name','Town'],as_index=False,sort=False).aggregate(np.mean)\n",
        "lag3_6['week']=6\n",
        "lag3_6.columns=['Client_name','product_name','Town','mean_sales','Week_number']\n",
        "lag3_6.shape[0]"
      ],
      "execution_count": null,
      "outputs": [
        {
          "output_type": "execute_result",
          "data": {
            "text/plain": [
              "6602773"
            ]
          },
          "metadata": {},
          "execution_count": 27
        }
      ]
    },
    {
      "cell_type": "code",
      "metadata": {
        "colab": {
          "base_uri": "https://localhost:8080/"
        },
        "id": "VTJRZM1PQ5Im",
        "outputId": "be2b93d6-b025-43f9-da7b-150b1236d41f"
      },
      "source": [
        "lag3_5 = pd.concat((lag3_5,lag3_6), axis=0,ignore_index=True)\n",
        "lag3_5.shape"
      ],
      "execution_count": null,
      "outputs": [
        {
          "output_type": "execute_result",
          "data": {
            "text/plain": [
              "(12090518, 5)"
            ]
          },
          "metadata": {},
          "execution_count": 28
        }
      ]
    },
    {
      "cell_type": "code",
      "metadata": {
        "colab": {
          "base_uri": "https://localhost:8080/"
        },
        "id": "4Bct9GuAQ9_b",
        "outputId": "91bb9417-c4ed-40e4-8c50-95f3087feb7e"
      },
      "source": [
        "lag3_6 = df.loc[(df['Week_number']==4) |(df['Week_number']==5) | (df['Week_number']==6),['Sales_unit_this_week','Client_name','product_name','Town']]\n",
        "lag3_6=lag3_6.groupby(by=['Client_name','product_name','Town'],as_index=False,sort=False).aggregate(np.mean)\n",
        "lag3_6['week']=7\n",
        "lag3_6.columns=['Client_name','product_name','Town','mean_sales','Week_number']\n",
        "lag3_6.shape[0]"
      ],
      "execution_count": null,
      "outputs": [
        {
          "output_type": "execute_result",
          "data": {
            "text/plain": [
              "6455119"
            ]
          },
          "metadata": {},
          "execution_count": 29
        }
      ]
    },
    {
      "cell_type": "code",
      "metadata": {
        "colab": {
          "base_uri": "https://localhost:8080/"
        },
        "id": "SZckuRQRUR0B",
        "outputId": "42bdf98d-d614-47e4-adef-93dda03d53fd"
      },
      "source": [
        "lag3_5 = pd.concat((lag3_5,lag3_6), axis=0,ignore_index=True)\n",
        "lag3_5.shape[0]"
      ],
      "execution_count": null,
      "outputs": [
        {
          "output_type": "execute_result",
          "data": {
            "text/plain": [
              "18545637"
            ]
          },
          "metadata": {},
          "execution_count": 30
        }
      ]
    },
    {
      "cell_type": "code",
      "metadata": {
        "colab": {
          "base_uri": "https://localhost:8080/"
        },
        "id": "QQss_INwUUNW",
        "outputId": "007e91c7-91cb-4f17-ea4d-c69e359fc6c9"
      },
      "source": [
        "df = df.loc[df['Week_number'] >4]\n",
        "df.shape"
      ],
      "execution_count": null,
      "outputs": [
        {
          "output_type": "execute_result",
          "data": {
            "text/plain": [
              "(21442599, 13)"
            ]
          },
          "metadata": {},
          "execution_count": 31
        }
      ]
    },
    {
      "cell_type": "markdown",
      "metadata": {
        "id": "0CCvMavdUXKm"
      },
      "source": [
        "Joining calculated week's mean sales with original data.\n",
        "Outer is used because, there may be a new client in current week, in that case his mean sales will be zero.<br>\n",
        "In the same way there may be clients who has not purchased anything for current week, in that case Sales_unit_this_week, Returns_unit_next_week and Adjusted_Demand will be zero.<br>\n",
        "Therefore this feature helps us to predict for such clients."
      ]
    },
    {
      "cell_type": "code",
      "execution_count": null,
      "metadata": {
        "id": "LQHBRpci2Gne",
        "outputId": "b6eb1825-e6f2-4e74-81f0-81d863cb6087"
      },
      "outputs": [
        {
          "data": {
            "text/plain": [
              "(22166137, 8)"
            ]
          },
          "execution_count": 27,
          "metadata": {},
          "output_type": "execute_result"
        }
      ],
      "source": [
        "df = pd.merge(lag3_5,df,how='outer',on=['Week_number','Client_name','product_name','Town'])\n",
        "df.shape"
      ]
    },
    {
      "cell_type": "code",
      "execution_count": null,
      "metadata": {
        "id": "jM8Tlqso2Gne",
        "outputId": "99ce4cdf-5330-478f-c227-7352c9ff3dc4"
      },
      "outputs": [
        {
          "data": {
            "text/plain": [
              "True"
            ]
          },
          "execution_count": 28,
          "metadata": {},
          "output_type": "execute_result"
        }
      ],
      "source": [
        "df.isnull().values.any()"
      ]
    },
    {
      "cell_type": "code",
      "execution_count": null,
      "metadata": {
        "id": "KWdLXWXF2Gne",
        "outputId": "2b05e088-05a7-436b-9014-29ab4562ac50"
      },
      "outputs": [
        {
          "data": {
            "text/plain": [
              "(11976153, 8)"
            ]
          },
          "execution_count": 29,
          "metadata": {},
          "output_type": "execute_result"
        }
      ],
      "source": [
        "df[pd.isnull(df['mean_sales']) | pd.isnull(df['Sales_unit_this_week'])].shape"
      ]
    },
    {
      "cell_type": "code",
      "execution_count": null,
      "metadata": {
        "id": "_Ry4uSkc2Gne",
        "outputId": "688a38ae-a102-492a-e8d1-7f6e270868e5"
      },
      "outputs": [
        {
          "data": {
            "text/plain": [
              "False"
            ]
          },
          "execution_count": 30,
          "metadata": {},
          "output_type": "execute_result"
        }
      ],
      "source": [
        "df.fillna(value=0,inplace=True)\n",
        "df.isnull().values.any()"
      ]
    },
    {
      "cell_type": "code",
      "execution_count": null,
      "metadata": {
        "id": "DCmkvR6I2Gne",
        "outputId": "64101b83-7420-4427-d498-3af690f57ede"
      },
      "outputs": [
        {
          "data": {
            "text/plain": [
              "7990693"
            ]
          },
          "execution_count": 31,
          "metadata": {},
          "output_type": "execute_result"
        }
      ],
      "source": [
        "lag3_5 = df.loc[(df['Week_number']==5) | (df['Week_number']==6) | (df['Week_number']==7),['Sales_unit_this_week','Client_name','product_name','Town']]\n",
        "lag3_5=lag3_5.groupby(by=['Client_name','product_name','Town'],as_index=False,sort=False).aggregate(np.mean)\n",
        "lag3_5['week']=8\n",
        "lag3_5.columns=['Client_name','product_name','Town','mean_sales','Week_number']\n",
        "lag3_5.shape[0]"
      ]
    },
    {
      "cell_type": "code",
      "execution_count": null,
      "metadata": {
        "id": "odCmfPuf2Gne",
        "outputId": "b30b0aa0-c3df-4b01-b43c-40f84fa6daeb"
      },
      "outputs": [
        {
          "data": {
            "text/plain": [
              "8549546"
            ]
          },
          "execution_count": 32,
          "metadata": {},
          "output_type": "execute_result"
        }
      ],
      "source": [
        "train1 = df.loc[(df['Week_number']==6) |(df['Week_number']==7),['Sales_unit_this_week','Client_name','product_name','Town']]\n",
        "lag3_6= test.loc[(test['Week_number']==8),['Sales_unit_this_week','Client_name','product_name','Town']]\n",
        "lag3_6 = pd.concat((train1,lag3_6), axis=0,ignore_index=True)\n",
        "lag3_6=lag3_6.groupby(by=['Client_name','product_name','Town'],as_index=False,sort=False).aggregate(np.mean)\n",
        "lag3_6['week']=9\n",
        "lag3_6.columns=['Client_name','product_name','Town','mean_sales','Week_number']\n",
        "lag3_6.shape[0]"
      ]
    },
    {
      "cell_type": "code",
      "execution_count": null,
      "metadata": {
        "id": "x3WG4NIH2Gne",
        "outputId": "5d654680-bb2e-4698-f793-9270ffdf0be7"
      },
      "outputs": [
        {
          "data": {
            "text/plain": [
              "16540239"
            ]
          },
          "execution_count": 33,
          "metadata": {},
          "output_type": "execute_result"
        }
      ],
      "source": [
        "lag3_6 = pd.concat((lag3_6,lag3_5), axis=0,ignore_index=True)\n",
        "lag3_6.shape[0]"
      ]
    },
    {
      "cell_type": "code",
      "execution_count": null,
      "metadata": {
        "id": "5NYW3XTr2Gne",
        "outputId": "7d14a364-b30b-4dd6-a2b2-813890dbd1f2"
      },
      "outputs": [
        {
          "data": {
            "text/plain": [
              "(18255366, 8)"
            ]
          },
          "execution_count": 34,
          "metadata": {},
          "output_type": "execute_result"
        }
      ],
      "source": [
        "test = pd.merge(lag3_6,test,how='outer',on=['Week_number','Client_name','product_name','Town'])\n",
        "test.shape"
      ]
    },
    {
      "cell_type": "code",
      "execution_count": null,
      "metadata": {
        "id": "8J4_Og2W2Gne",
        "outputId": "ee61b208-0628-4e50-8a25-49b835d93a2d"
      },
      "outputs": [
        {
          "data": {
            "text/plain": [
              "(12183771, 10)"
            ]
          },
          "execution_count": 36,
          "metadata": {},
          "output_type": "execute_result"
        }
      ],
      "source": [
        "test[pd.isnull(test['mean_sales']) | pd.isnull(test['Sales_unit_this_week'])].shape"
      ]
    },
    {
      "cell_type": "code",
      "execution_count": null,
      "metadata": {
        "id": "4S9aC1mp2Gne",
        "outputId": "cc16441f-91ef-4647-cdf7-dba0c4624e0d"
      },
      "outputs": [
        {
          "data": {
            "text/plain": [
              "False"
            ]
          },
          "execution_count": 35,
          "metadata": {},
          "output_type": "execute_result"
        }
      ],
      "source": [
        "test.fillna(value=0,inplace=True)\n",
        "test.isnull().values.any()"
      ]
    },
    {
      "cell_type": "markdown",
      "metadata": {
        "id": "xbjq_Am8_ZYx"
      },
      "source": [
        "READING THE GENERATED TRAIN DATASET FOR FEATURE SELECTION"
      ]
    },
    {
      "cell_type": "code",
      "metadata": {
        "id": "E1Qdi6Jwd2Yx"
      },
      "source": [
        "import pandas as pd\n",
        "\n",
        "data=pd.read_csv(\"/content/drive/MyDrive/grupo-bimbo-inventory-demand/T_train.csv\")"
      ],
      "execution_count": null,
      "outputs": []
    },
    {
      "cell_type": "code",
      "metadata": {
        "colab": {
          "base_uri": "https://localhost:8080/",
          "height": 131
        },
        "id": "kbGoJ1OnbE7S",
        "outputId": "d2d2a13d-45e7-4bf2-e03d-fcc4c3038c17"
      },
      "source": [
        "data.head(2)"
      ],
      "execution_count": null,
      "outputs": [
        {
          "output_type": "execute_result",
          "data": {
            "text/html": [
              "<div>\n",
              "<style scoped>\n",
              "    .dataframe tbody tr th:only-of-type {\n",
              "        vertical-align: middle;\n",
              "    }\n",
              "\n",
              "    .dataframe tbody tr th {\n",
              "        vertical-align: top;\n",
              "    }\n",
              "\n",
              "    .dataframe thead th {\n",
              "        text-align: right;\n",
              "    }\n",
              "</style>\n",
              "<table border=\"1\" class=\"dataframe\">\n",
              "  <thead>\n",
              "    <tr style=\"text-align: right;\">\n",
              "      <th></th>\n",
              "      <th>Client_name</th>\n",
              "      <th>product_name</th>\n",
              "      <th>Town</th>\n",
              "      <th>mean_sales</th>\n",
              "      <th>Week_number</th>\n",
              "      <th>Sales_Depot_ID</th>\n",
              "      <th>Sales_Channel_ID</th>\n",
              "      <th>Route_ID</th>\n",
              "      <th>Sales_unit_this_week</th>\n",
              "      <th>Sales_this_week</th>\n",
              "      <th>Returns_unit_next_week</th>\n",
              "      <th>Returns_next_week</th>\n",
              "      <th>Adjusted_Demand</th>\n",
              "      <th>State</th>\n",
              "    </tr>\n",
              "  </thead>\n",
              "  <tbody>\n",
              "    <tr>\n",
              "      <th>0</th>\n",
              "      <td>250299</td>\n",
              "      <td>758</td>\n",
              "      <td>25</td>\n",
              "      <td>3.5</td>\n",
              "      <td>5</td>\n",
              "      <td>1110.0</td>\n",
              "      <td>7.0</td>\n",
              "      <td>3301.0</td>\n",
              "      <td>5.0</td>\n",
              "      <td>41.90</td>\n",
              "      <td>0.0</td>\n",
              "      <td>0.0</td>\n",
              "      <td>5.0</td>\n",
              "      <td>16.0</td>\n",
              "    </tr>\n",
              "    <tr>\n",
              "      <th>1</th>\n",
              "      <td>292487</td>\n",
              "      <td>758</td>\n",
              "      <td>25</td>\n",
              "      <td>2.0</td>\n",
              "      <td>5</td>\n",
              "      <td>1110.0</td>\n",
              "      <td>7.0</td>\n",
              "      <td>3301.0</td>\n",
              "      <td>2.0</td>\n",
              "      <td>16.76</td>\n",
              "      <td>0.0</td>\n",
              "      <td>0.0</td>\n",
              "      <td>2.0</td>\n",
              "      <td>16.0</td>\n",
              "    </tr>\n",
              "  </tbody>\n",
              "</table>\n",
              "</div>"
            ],
            "text/plain": [
              "   Client_name  product_name  Town  ...  Returns_next_week  Adjusted_Demand  State\n",
              "0       250299           758    25  ...                0.0              5.0   16.0\n",
              "1       292487           758    25  ...                0.0              2.0   16.0\n",
              "\n",
              "[2 rows x 14 columns]"
            ]
          },
          "metadata": {},
          "execution_count": 4
        }
      ]
    },
    {
      "cell_type": "code",
      "metadata": {
        "colab": {
          "base_uri": "https://localhost:8080/"
        },
        "id": "kAOIsQCycRKW",
        "outputId": "994e19ac-0cb1-48a5-c728-0b9e8ef2fe5b"
      },
      "source": [
        "data.info()"
      ],
      "execution_count": null,
      "outputs": [
        {
          "output_type": "stream",
          "name": "stdout",
          "text": [
            "<class 'pandas.core.frame.DataFrame'>\n",
            "RangeIndex: 30748661 entries, 0 to 30748660\n",
            "Data columns (total 14 columns):\n",
            " #   Column                  Dtype  \n",
            "---  ------                  -----  \n",
            " 0   Client_name             int64  \n",
            " 1   product_name            int64  \n",
            " 2   Town                    int64  \n",
            " 3   mean_sales              float64\n",
            " 4   Week_number             int64  \n",
            " 5   Sales_Depot_ID          float64\n",
            " 6   Sales_Channel_ID        float64\n",
            " 7   Route_ID                float64\n",
            " 8   Sales_unit_this_week    float64\n",
            " 9   Sales_this_week         float64\n",
            " 10  Returns_unit_next_week  float64\n",
            " 11  Returns_next_week       float64\n",
            " 12  Adjusted_Demand         float64\n",
            " 13  State                   float64\n",
            "dtypes: float64(10), int64(4)\n",
            "memory usage: 3.2 GB\n"
          ]
        }
      ]
    },
    {
      "cell_type": "code",
      "metadata": {
        "id": "X5CxXrMRcYg7"
      },
      "source": [
        "cols = ['Client_name','product_name','Town','mean_sales','Week_number','Sales_Depot_ID',\\\n",
        "        'Sales_Channel_ID',\t'Route_ID','Sales_unit_this_week','Sales_this_week',\t'Returns_unit_next_week',\\\n",
        "        'Returns_next_week', 'State',\t'Adjusted_Demand']"
      ],
      "execution_count": null,
      "outputs": []
    },
    {
      "cell_type": "code",
      "metadata": {
        "id": "cXPFM3o-cmN9"
      },
      "source": [
        "data = data.reindex(columns=cols)"
      ],
      "execution_count": null,
      "outputs": []
    },
    {
      "cell_type": "code",
      "metadata": {
        "colab": {
          "base_uri": "https://localhost:8080/",
          "height": 224
        },
        "id": "72KM3oTKcvKo",
        "outputId": "68071903-68af-484c-a2f8-5dc1a2ff3e8b"
      },
      "source": [
        "data.head()"
      ],
      "execution_count": null,
      "outputs": [
        {
          "output_type": "execute_result",
          "data": {
            "text/html": [
              "<div>\n",
              "<style scoped>\n",
              "    .dataframe tbody tr th:only-of-type {\n",
              "        vertical-align: middle;\n",
              "    }\n",
              "\n",
              "    .dataframe tbody tr th {\n",
              "        vertical-align: top;\n",
              "    }\n",
              "\n",
              "    .dataframe thead th {\n",
              "        text-align: right;\n",
              "    }\n",
              "</style>\n",
              "<table border=\"1\" class=\"dataframe\">\n",
              "  <thead>\n",
              "    <tr style=\"text-align: right;\">\n",
              "      <th></th>\n",
              "      <th>Client_name</th>\n",
              "      <th>product_name</th>\n",
              "      <th>Town</th>\n",
              "      <th>mean_sales</th>\n",
              "      <th>Week_number</th>\n",
              "      <th>Sales_Depot_ID</th>\n",
              "      <th>Sales_Channel_ID</th>\n",
              "      <th>Route_ID</th>\n",
              "      <th>Sales_unit_this_week</th>\n",
              "      <th>Sales_this_week</th>\n",
              "      <th>Returns_unit_next_week</th>\n",
              "      <th>Returns_next_week</th>\n",
              "      <th>State</th>\n",
              "      <th>Adjusted_Demand</th>\n",
              "    </tr>\n",
              "  </thead>\n",
              "  <tbody>\n",
              "    <tr>\n",
              "      <th>0</th>\n",
              "      <td>250299</td>\n",
              "      <td>758</td>\n",
              "      <td>25</td>\n",
              "      <td>3.5</td>\n",
              "      <td>5</td>\n",
              "      <td>1110.0</td>\n",
              "      <td>7.0</td>\n",
              "      <td>3301.0</td>\n",
              "      <td>5.0</td>\n",
              "      <td>41.90</td>\n",
              "      <td>0.0</td>\n",
              "      <td>0.0</td>\n",
              "      <td>16.0</td>\n",
              "      <td>5.0</td>\n",
              "    </tr>\n",
              "    <tr>\n",
              "      <th>1</th>\n",
              "      <td>292487</td>\n",
              "      <td>758</td>\n",
              "      <td>25</td>\n",
              "      <td>2.0</td>\n",
              "      <td>5</td>\n",
              "      <td>1110.0</td>\n",
              "      <td>7.0</td>\n",
              "      <td>3301.0</td>\n",
              "      <td>2.0</td>\n",
              "      <td>16.76</td>\n",
              "      <td>0.0</td>\n",
              "      <td>0.0</td>\n",
              "      <td>16.0</td>\n",
              "      <td>2.0</td>\n",
              "    </tr>\n",
              "    <tr>\n",
              "      <th>2</th>\n",
              "      <td>100282</td>\n",
              "      <td>758</td>\n",
              "      <td>25</td>\n",
              "      <td>2.0</td>\n",
              "      <td>5</td>\n",
              "      <td>1110.0</td>\n",
              "      <td>7.0</td>\n",
              "      <td>3301.0</td>\n",
              "      <td>2.0</td>\n",
              "      <td>16.76</td>\n",
              "      <td>0.0</td>\n",
              "      <td>0.0</td>\n",
              "      <td>16.0</td>\n",
              "      <td>2.0</td>\n",
              "    </tr>\n",
              "    <tr>\n",
              "      <th>3</th>\n",
              "      <td>1089</td>\n",
              "      <td>758</td>\n",
              "      <td>25</td>\n",
              "      <td>3.0</td>\n",
              "      <td>5</td>\n",
              "      <td>1110.0</td>\n",
              "      <td>7.0</td>\n",
              "      <td>3301.0</td>\n",
              "      <td>4.0</td>\n",
              "      <td>33.52</td>\n",
              "      <td>0.0</td>\n",
              "      <td>0.0</td>\n",
              "      <td>16.0</td>\n",
              "      <td>4.0</td>\n",
              "    </tr>\n",
              "    <tr>\n",
              "      <th>4</th>\n",
              "      <td>82835</td>\n",
              "      <td>758</td>\n",
              "      <td>25</td>\n",
              "      <td>2.5</td>\n",
              "      <td>5</td>\n",
              "      <td>0.0</td>\n",
              "      <td>0.0</td>\n",
              "      <td>0.0</td>\n",
              "      <td>0.0</td>\n",
              "      <td>0.00</td>\n",
              "      <td>0.0</td>\n",
              "      <td>0.0</td>\n",
              "      <td>0.0</td>\n",
              "      <td>0.0</td>\n",
              "    </tr>\n",
              "  </tbody>\n",
              "</table>\n",
              "</div>"
            ],
            "text/plain": [
              "   Client_name  product_name  Town  ...  Returns_next_week  State  Adjusted_Demand\n",
              "0       250299           758    25  ...                0.0   16.0              5.0\n",
              "1       292487           758    25  ...                0.0   16.0              2.0\n",
              "2       100282           758    25  ...                0.0   16.0              2.0\n",
              "3         1089           758    25  ...                0.0   16.0              4.0\n",
              "4        82835           758    25  ...                0.0    0.0              0.0\n",
              "\n",
              "[5 rows x 14 columns]"
            ]
          },
          "metadata": {},
          "execution_count": 8
        }
      ]
    },
    {
      "cell_type": "markdown",
      "metadata": {
        "id": "hXGyQKW2_m-Y"
      },
      "source": [
        "Forming the train and test set for feature selection."
      ]
    },
    {
      "cell_type": "code",
      "metadata": {
        "id": "S5Izz96ahuNP"
      },
      "source": [
        "array=data.values\n",
        "trainerss=array[:,0:13]\n",
        "testerss=array[:,13]"
      ],
      "execution_count": null,
      "outputs": []
    },
    {
      "cell_type": "code",
      "metadata": {
        "colab": {
          "base_uri": "https://localhost:8080/"
        },
        "id": "5KqUXrNHir9_",
        "outputId": "f962a92d-36b5-4fe3-9be1-14fd8b139514"
      },
      "source": [
        "print(trainerss)"
      ],
      "execution_count": null,
      "outputs": [
        {
          "output_type": "stream",
          "name": "stdout",
          "text": [
            "[[2.50299e+05 7.58000e+02 2.50000e+01 ... 0.00000e+00 0.00000e+00\n",
            "  1.60000e+01]\n",
            " [2.92487e+05 7.58000e+02 2.50000e+01 ... 0.00000e+00 0.00000e+00\n",
            "  1.60000e+01]\n",
            " [1.00282e+05 7.58000e+02 2.50000e+01 ... 0.00000e+00 0.00000e+00\n",
            "  1.60000e+01]\n",
            " ...\n",
            " [4.30370e+04 3.40000e+02 1.33000e+02 ... 4.00000e+00 9.83200e+01\n",
            "  2.00000e+00]\n",
            " [4.30370e+04 3.41000e+02 1.33000e+02 ... 1.20000e+01 4.91600e+02\n",
            "  2.00000e+00]\n",
            " [4.30370e+04 2.18000e+02 1.33000e+02 ... 0.00000e+00 8.40000e+00\n",
            "  2.00000e+00]]\n"
          ]
        }
      ]
    },
    {
      "cell_type": "code",
      "metadata": {
        "colab": {
          "base_uri": "https://localhost:8080/"
        },
        "id": "hkZoOR-pjagb",
        "outputId": "449ee110-0f60-428c-f159-51ea34a8a0c3"
      },
      "source": [
        "print(testerss)"
      ],
      "execution_count": null,
      "outputs": [
        {
          "output_type": "stream",
          "name": "stdout",
          "text": [
            "[5. 2. 2. ... 2. 8. 1.]\n"
          ]
        }
      ]
    },
    {
      "cell_type": "markdown",
      "metadata": {
        "id": "LceGFF83W_GA"
      },
      "source": [
        "Reference for feature selection https://machinelearningmastery.com/calculate-feature-importance-with-python/"
      ]
    },
    {
      "cell_type": "markdown",
      "metadata": {
        "id": "wrtjVqmEAMQe"
      },
      "source": [
        "APPLYING DECISION TREE CLASSIFIER FOR THE MODELLING AND THEN FEATURE IMPORTANCE"
      ]
    },
    {
      "cell_type": "code",
      "metadata": {
        "id": "ERjyXuaxj9nW",
        "colab": {
          "base_uri": "https://localhost:8080/"
        },
        "outputId": "6ebf5043-77ea-4dd8-d470-b6a66a32c770"
      },
      "source": [
        "#Decision Tree Classisfier\n",
        "from sklearn.tree import DecisionTreeClassifier\n",
        "from sklearn.metrics import confusion_matrix\n",
        "from sklearn.metrics import classification_report\n",
        "## Computing accuracy\n",
        "from sklearn.metrics import accuracy_score\n",
        "DTclf = DecisionTreeClassifier()\n",
        "DTclf.fit(trainerss, testerss)"
      ],
      "execution_count": null,
      "outputs": [
        {
          "output_type": "execute_result",
          "data": {
            "text/plain": [
              "DecisionTreeClassifier(ccp_alpha=0.0, class_weight=None, criterion='gini',\n",
              "                       max_depth=None, max_features=None, max_leaf_nodes=None,\n",
              "                       min_impurity_decrease=0.0, min_impurity_split=None,\n",
              "                       min_samples_leaf=1, min_samples_split=2,\n",
              "                       min_weight_fraction_leaf=0.0, presort='deprecated',\n",
              "                       random_state=None, splitter='best')"
            ]
          },
          "metadata": {},
          "execution_count": 7
        }
      ]
    },
    {
      "cell_type": "code",
      "metadata": {
        "colab": {
          "base_uri": "https://localhost:8080/"
        },
        "id": "b1sSHjyZkS3T",
        "outputId": "78c4fe14-d0a7-4344-b92f-094e34236263"
      },
      "source": [
        "from sklearn.externals import joblib\n",
        "joblib.dump(DTclf, '/content/drive/MyDrive/grupo-bimbo-inventory-demand/Dtree.pkl')"
      ],
      "execution_count": null,
      "outputs": [
        {
          "output_type": "stream",
          "name": "stderr",
          "text": [
            "/usr/local/lib/python3.7/dist-packages/sklearn/externals/joblib/__init__.py:15: FutureWarning: sklearn.externals.joblib is deprecated in 0.21 and will be removed in 0.23. Please import this functionality directly from joblib, which can be installed with: pip install joblib. If this warning is raised when loading pickled models, you may need to re-serialize those models with scikit-learn 0.21+.\n",
            "  warnings.warn(msg, category=FutureWarning)\n"
          ]
        },
        {
          "output_type": "execute_result",
          "data": {
            "text/plain": [
              "['/content/drive/MyDrive/grupo-bimbo-inventory-demand/Dtree.pkl']"
            ]
          },
          "metadata": {},
          "execution_count": 8
        }
      ]
    },
    {
      "cell_type": "markdown",
      "metadata": {
        "id": "nr6TDhxuI8-c"
      },
      "source": [
        "Checking the importance of each feature"
      ]
    },
    {
      "cell_type": "code",
      "metadata": {
        "colab": {
          "base_uri": "https://localhost:8080/"
        },
        "id": "TgIadJeMmdDQ",
        "outputId": "38da26b9-7320-4637-aade-27b03eae37ad"
      },
      "source": [
        "DTclf.feature_importances_"
      ],
      "execution_count": null,
      "outputs": [
        {
          "output_type": "execute_result",
          "data": {
            "text/plain": [
              "array([2.66190206e-05, 3.13967236e-05, 2.25062032e-05, 1.95671150e-05,\n",
              "       1.93103032e-05, 2.70591883e-01, 8.68823618e-06, 2.72534956e-05,\n",
              "       6.75324769e-01, 4.65366100e-03, 4.78726564e-02, 1.37959135e-03,\n",
              "       2.20982752e-05])"
            ]
          },
          "metadata": {},
          "execution_count": 9
        }
      ]
    },
    {
      "cell_type": "code",
      "metadata": {
        "colab": {
          "base_uri": "https://localhost:8080/"
        },
        "id": "SiXY52OEoE_3",
        "outputId": "56875fee-6681-4ffd-c0cb-55e0f9186987"
      },
      "source": [
        "DTclf.feature_importances_.sum()"
      ],
      "execution_count": null,
      "outputs": [
        {
          "output_type": "execute_result",
          "data": {
            "text/plain": [
              "1.0"
            ]
          },
          "metadata": {},
          "execution_count": 10
        }
      ]
    },
    {
      "cell_type": "code",
      "metadata": {
        "colab": {
          "base_uri": "https://localhost:8080/"
        },
        "id": "DK3fKgNhooHw",
        "outputId": "44109c6c-7512-46f8-f937-a66bb1bcfe58"
      },
      "source": [
        "sss = pd.Series(DTclf.feature_importances_)\n",
        "sss.sort_values(ascending=False)"
      ],
      "execution_count": null,
      "outputs": [
        {
          "output_type": "execute_result",
          "data": {
            "text/plain": [
              "8     0.675325\n",
              "5     0.270592\n",
              "10    0.047873\n",
              "9     0.004654\n",
              "11    0.001380\n",
              "1     0.000031\n",
              "7     0.000027\n",
              "0     0.000027\n",
              "2     0.000023\n",
              "12    0.000022\n",
              "3     0.000020\n",
              "4     0.000019\n",
              "6     0.000009\n",
              "dtype: float64"
            ]
          },
          "metadata": {},
          "execution_count": 15
        }
      ]
    },
    {
      "cell_type": "markdown",
      "metadata": {
        "id": "uY_5SzVDJGNC"
      },
      "source": [
        "Looking at the importances, we can infer that the Sales_unit_this_week has the highest impact on the prediction of the demand.<br>\n",
        "Sales_unit_this_week   : 0.675325<br>\n",
        "Sales_Depot_ID         : 0.270592<br>\n",
        "Returns_unit_next_week : 0.047873<br>\n",
        "Sales_this_week        : 0.004654<br>\n",
        "Returns_next_week.     : 0.001380<br>\n",
        "product_name           : 0.000031<br>\n",
        "Route_ID               : 0.000027<br>\n",
        "Client_name            : 0.000027<br>\n",
        "Town                   : 0.000023<br>\n",
        "State                  : 0.000022\n",
        "mean_sales             : 0.000020<br>\n",
        "Week_number            : 0.000019<br>\n",
        "Sales_Channel_ID       : 0.000009<br>"
      ]
    },
    {
      "cell_type": "code",
      "metadata": {
        "colab": {
          "base_uri": "https://localhost:8080/",
          "height": 267
        },
        "id": "40RdWnFIAnn7",
        "outputId": "01ccc6d0-be40-4341-c9f8-63ec419d55f5"
      },
      "source": [
        "import matplotlib.pyplot as plt\n",
        "\n",
        "plt.bar([x for x in range(len(sss))], sss)\n",
        "plt.show()"
      ],
      "execution_count": null,
      "outputs": [
        {
          "output_type": "display_data",
          "data": {
            "image/png": "[encoded data removed]",
            "text/plain": [
              "<Figure size 432x288 with 1 Axes>"
            ]
          },
          "metadata": {
            "needs_background": "light"
          }
        }
      ]
    },
    {
      "cell_type": "markdown",
      "metadata": {
        "id": "dZCAt74R2Gnf"
      },
      "source": [
        "# LEARNING MODELS"
      ]
    },
    {
      "cell_type": "markdown",
      "metadata": {
        "id": "MWvHtr482Gnf"
      },
      "source": [
        "Choice of the algorithm depends on the\n",
        "\n",
        "-the size of the training data\n",
        "\n",
        "-the number of features\n",
        "\n",
        "-the quality of the features"
      ]
    },
    {
      "cell_type": "markdown",
      "metadata": {
        "id": "vflxR7Ki2Gnf"
      },
      "source": [
        "Select data 8-9 week as test data"
      ]
    },
    {
      "cell_type": "code",
      "execution_count": null,
      "metadata": {
        "collapsed": true,
        "id": "joqg0huR2Gnf"
      },
      "outputs": [],
      "source": [
        "import random\n",
        "n=22166137\n",
        "s=15000000\n",
        "skip = sorted(random.sample(range(1,n),n-s))\n",
        "df = pd.read_csv('T_train.csv', skiprows=skip,header=0)\n",
        "\n",
        "n=18255366\n",
        "s=5000000\n",
        "skip = sorted(random.sample(range(1,n),n-s))\n",
        "test = pd.read_csv('T_test.csv',skiprows=skip,header=0)"
      ]
    },
    {
      "cell_type": "code",
      "execution_count": null,
      "metadata": {
        "collapsed": true,
        "id": "EpMI2EdR2Gnf"
      },
      "outputs": [],
      "source": [
        "df = pd.concat((df,test), axis=0,ignore_index=True)"
      ]
    },
    {
      "cell_type": "code",
      "execution_count": null,
      "metadata": {
        "collapsed": true,
        "id": "3sEGWtLu2Gnf"
      },
      "outputs": [],
      "source": [
        "test= df['Adjusted_Demand']\n",
        "df = df.drop('Adjusted_Demand',axis=1)"
      ]
    },
    {
      "cell_type": "code",
      "execution_count": null,
      "metadata": {
        "id": "GHwgFUo52Gnf",
        "outputId": "86365033-035d-4580-e7ef-83d077aa9707"
      },
      "outputs": [
        {
          "name": "stderr",
          "output_type": "stream",
          "text": [
            "C:\\ProgramData\\Anaconda3\\lib\\site-packages\\sklearn\\cross_validation.py:44: DeprecationWarning: This module was deprecated in version 0.18 in favor of the model_selection module into which all the refactored classes and functions are moved. Also note that the interface of the new CV iterators are different from that of this module. This module will be removed in 0.20.\n",
            "  \"This module will be removed in 0.20.\", DeprecationWarning)\n"
          ]
        }
      ],
      "source": [
        "from sklearn import cross_validation\n",
        "## Spliting of training dataset into 70% training data and 30% testing data randomly\n",
        "x_train, x_test, y_train, y_test = cross_validation.train_test_split(df, test, test_size=0.3, random_state=42)"
      ]
    },
    {
      "cell_type": "markdown",
      "metadata": {
        "id": "hSRHtTSn2Gnf"
      },
      "source": [
        "    Model Evaluation in four different categories:\n",
        "\n",
        "    1. Underfitting – Validation and training error high\n",
        "    2. Overfitting – Validation error is high, training error low\n",
        "    3. Good fit – Validation error low, slightly higher than the training error\n",
        "    4. Unknown fit - Validation error low, training error 'high'"
      ]
    },
    {
      "cell_type": "markdown",
      "metadata": {
        "id": "RZ3yqKaO2Gnf"
      },
      "source": [
        "## Multiple linear regression model"
      ]
    },
    {
      "cell_type": "code",
      "execution_count": null,
      "metadata": {
        "collapsed": true,
        "id": "eBUE2i9e2Gnf"
      },
      "outputs": [],
      "source": [
        "from sklearn import linear_model\n",
        "from sklearn.metrics import r2_score"
      ]
    },
    {
      "cell_type": "code",
      "execution_count": null,
      "metadata": {
        "id": "s6dDbBUY2Gnf",
        "outputId": "2b1e0766-e62c-4e73-8edd-e236e5547d87"
      },
      "outputs": [
        {
          "name": "stdout",
          "output_type": "stream",
          "text": [
            "Normalize:  False  Fit_intercept:  False   train_RMSE: 0.377   test_RMSE: 0.377   R_square:  0.999520255096\n",
            "\n"
          ]
        }
      ],
      "source": [
        "norm='False'\n",
        "inter='False'\n",
        "\n",
        "trm=[]\n",
        "tarm=[]\n",
        "rs=[]\n",
        "nm=[]\n",
        "it=[]\n",
        "   \n",
        "clf = linear_model.LinearRegression(n_jobs=4,normalize=norm,fit_intercept=inter)\n",
        "clf.fit(x_train, y_train)\n",
        "\n",
        "prediction = clf.predict(x_test).astype(int)\n",
        "r =math.sqrt(np.mean((prediction - y_test) ** 2))\n",
        "r2 =r2_score(y_test,prediction)       \n",
        "\n",
        "prediction1 = clf.predict(x_train).astype(int)\n",
        "r1 =math.sqrt(np.mean((prediction1 - y_train) ** 2))\n",
        "\n",
        "print(\"Normalize: \",norm,\" Fit_intercept: \",inter,\"  train_RMSE: %.3f\" % r1,\"  test_RMSE: %.3f\" % r,\"  R_square: \",r2)\n",
        "print()\n",
        "\n",
        "trm.append(r)\n",
        "tarm.append(r1)\n",
        "rs.append(r2)\n",
        "nm.append(norm)\n",
        "it.append(inter)\n",
        "\n",
        "res=pd.DataFrame()\n",
        "res['normalize']=nm\n",
        "res['fit_intercept']=it\n",
        "res['test_rmse']=trm\n",
        "res['train_rmse']=tarm\n",
        "res['r_square']=rs\n",
        "\n",
        "res.to_csv('lm.csv', mode='a', header=False,index=False)\n",
        "del res"
      ]
    },
    {
      "cell_type": "code",
      "execution_count": null,
      "metadata": {
        "id": "dxxJ8XZk2Gnf",
        "outputId": "77581abf-f6e2-4239-e0ed-0e8582f9980d"
      },
      "outputs": [
        {
          "data": {
            "text/html": [
              "<div>\n",
              "<style>\n",
              "    .dataframe thead tr:only-child th {\n",
              "        text-align: right;\n",
              "    }\n",
              "\n",
              "    .dataframe thead th {\n",
              "        text-align: left;\n",
              "    }\n",
              "\n",
              "    .dataframe tbody tr th {\n",
              "        vertical-align: top;\n",
              "    }\n",
              "</style>\n",
              "<table border=\"1\" class=\"dataframe\">\n",
              "  <thead>\n",
              "    <tr style=\"text-align: right;\">\n",
              "      <th></th>\n",
              "      <th>normalize</th>\n",
              "      <th>fit_intercept</th>\n",
              "      <th>test_rmse</th>\n",
              "      <th>train_rmse</th>\n",
              "      <th>r_square</th>\n",
              "    </tr>\n",
              "  </thead>\n",
              "  <tbody>\n",
              "    <tr>\n",
              "      <th>0</th>\n",
              "      <td>False</td>\n",
              "      <td>True</td>\n",
              "      <td>0.551745</td>\n",
              "      <td>0.546625</td>\n",
              "      <td>0.998885</td>\n",
              "    </tr>\n",
              "    <tr>\n",
              "      <th>1</th>\n",
              "      <td>False</td>\n",
              "      <td>False</td>\n",
              "      <td>0.551745</td>\n",
              "      <td>0.546625</td>\n",
              "      <td>0.998885</td>\n",
              "    </tr>\n",
              "    <tr>\n",
              "      <th>2</th>\n",
              "      <td>True</td>\n",
              "      <td>True</td>\n",
              "      <td>0.551745</td>\n",
              "      <td>0.546625</td>\n",
              "      <td>0.998885</td>\n",
              "    </tr>\n",
              "    <tr>\n",
              "      <th>3</th>\n",
              "      <td>True</td>\n",
              "      <td>False</td>\n",
              "      <td>0.551745</td>\n",
              "      <td>0.546625</td>\n",
              "      <td>0.998885</td>\n",
              "    </tr>\n",
              "  </tbody>\n",
              "</table>\n",
              "</div>"
            ],
            "text/plain": [
              "   normalize  fit_intercept  test_rmse  train_rmse  r_square\n",
              "0      False           True   0.551745    0.546625  0.998885\n",
              "1      False          False   0.551745    0.546625  0.998885\n",
              "2       True           True   0.551745    0.546625  0.998885\n",
              "3       True          False   0.551745    0.546625  0.998885"
            ]
          },
          "execution_count": 30,
          "metadata": {},
          "output_type": "execute_result"
        }
      ],
      "source": [
        "linear_model=pd.read_csv('lm.csv',header=0,index_col=None)\n",
        "linear_model.head()"
      ]
    },
    {
      "cell_type": "code",
      "execution_count": null,
      "metadata": {
        "id": "piZA3U2t2Gnf",
        "outputId": "63ca755c-72d8-473c-c55d-f37c11c7251b"
      },
      "outputs": [
        {
          "data": {
            "text/html": [
              "<div>\n",
              "<style>\n",
              "    .dataframe thead tr:only-child th {\n",
              "        text-align: right;\n",
              "    }\n",
              "\n",
              "    .dataframe thead th {\n",
              "        text-align: left;\n",
              "    }\n",
              "\n",
              "    .dataframe tbody tr th {\n",
              "        vertical-align: top;\n",
              "    }\n",
              "</style>\n",
              "<table border=\"1\" class=\"dataframe\">\n",
              "  <thead>\n",
              "    <tr style=\"text-align: right;\">\n",
              "      <th></th>\n",
              "      <th></th>\n",
              "      <th>test_rmse</th>\n",
              "      <th>train_rmse</th>\n",
              "    </tr>\n",
              "    <tr>\n",
              "      <th>normalize</th>\n",
              "      <th>fit_intercept</th>\n",
              "      <th></th>\n",
              "      <th></th>\n",
              "    </tr>\n",
              "  </thead>\n",
              "  <tbody>\n",
              "    <tr>\n",
              "      <th rowspan=\"2\" valign=\"top\">False</th>\n",
              "      <th>True</th>\n",
              "      <td>0.551745</td>\n",
              "      <td>0.546625</td>\n",
              "    </tr>\n",
              "    <tr>\n",
              "      <th>False</th>\n",
              "      <td>0.551745</td>\n",
              "      <td>0.546625</td>\n",
              "    </tr>\n",
              "    <tr>\n",
              "      <th rowspan=\"2\" valign=\"top\">True</th>\n",
              "      <th>True</th>\n",
              "      <td>0.551745</td>\n",
              "      <td>0.546625</td>\n",
              "    </tr>\n",
              "    <tr>\n",
              "      <th>False</th>\n",
              "      <td>0.551745</td>\n",
              "      <td>0.546625</td>\n",
              "    </tr>\n",
              "  </tbody>\n",
              "</table>\n",
              "</div>"
            ],
            "text/plain": [
              "                         test_rmse  train_rmse\n",
              "normalize fit_intercept                       \n",
              "False     True            0.551745    0.546625\n",
              "          False           0.551745    0.546625\n",
              "True      True            0.551745    0.546625\n",
              "          False           0.551745    0.546625"
            ]
          },
          "execution_count": 31,
          "metadata": {},
          "output_type": "execute_result"
        }
      ],
      "source": [
        "linear_model.drop('r_square',axis=1,inplace=True)\n",
        "linear_model.set_index(['normalize','fit_intercept'],inplace=True)\n",
        "linear_model.head()"
      ]
    },
    {
      "cell_type": "code",
      "execution_count": null,
      "metadata": {
        "id": "se3DNylK2Gnf",
        "outputId": "3e0d3986-1d23-42aa-a87c-6b3c0ba9dd79"
      },
      "outputs": [
        {
          "data": {
            "image/png": "[encoded data removed]",
            "text/plain": [
              "<matplotlib.figure.Figure at 0x14a3008ef60>"
            ]
          },
          "metadata": {},
          "output_type": "display_data"
        }
      ],
      "source": [
        "linear_model.plot(kind='line', color=['blue','red'], rot=0,figsize=(8,3))\n",
        "plt.xlabel('models')\n",
        "plt.ylabel('Error')\n",
        "sns.despine()"
      ]
    },
    {
      "cell_type": "markdown",
      "metadata": {
        "id": "2fDgQufB2Gnf"
      },
      "source": [
        "From graph we see that test_rmse is slightly greater than train_rmase, indicating that linear model is making good fit."
      ]
    },
    {
      "cell_type": "markdown",
      "metadata": {
        "collapsed": true,
        "id": "D239Twwm2Gnf"
      },
      "source": [
        " "
      ]
    },
    {
      "cell_type": "markdown",
      "metadata": {
        "id": "l-GMlwft2Gnf"
      },
      "source": [
        "## Ridge Regression"
      ]
    },
    {
      "cell_type": "markdown",
      "metadata": {
        "id": "hh2Qgb9r2Gng"
      },
      "source": [
        "Ridge model uses regulization function to avoid overfitting or underfitting which may occur in normal linear regression.\n",
        "\n",
        "Regularization is a process of introducing additional information in order to solve an ill-posed problem or to prevent overfitting.\n",
        "\n",
        "It uses L2 regulization."
      ]
    },
    {
      "cell_type": "markdown",
      "metadata": {
        "id": "2yNqfNNg2Gng"
      },
      "source": [
        "y = argmin ||Y-Xβ||^2 + λ||β||^2"
      ]
    },
    {
      "cell_type": "code",
      "execution_count": null,
      "metadata": {
        "collapsed": true,
        "id": "05w28pN22Gng"
      },
      "outputs": [],
      "source": [
        "from sklearn.linear_model import Ridge\n",
        "from sklearn.metrics import r2_score"
      ]
    },
    {
      "cell_type": "code",
      "execution_count": null,
      "metadata": {
        "id": "t5bWaOmo2Gng",
        "outputId": "f4df5c43-c924-4f3c-8b78-3037933c3ea6"
      },
      "outputs": [
        {
          "name": "stdout",
          "output_type": "stream",
          "text": [
            "Normalize:  False  Fit_intercept:  True   train_RMSE: 9.307   test_RMSE: 9.393  R_squar:  0.702822216432\n",
            "\n"
          ]
        }
      ],
      "source": [
        "alp=1.5\n",
        "norm='False'\n",
        "inter='True'\n",
        "\n",
        "trm=[]\n",
        "tarm=[]\n",
        "rs=[]\n",
        "nm=[]\n",
        "it=[]\n",
        "alpha=[]\n",
        "\n",
        "rdg = Ridge(alpha=alp,solver=sol,normalize=norm,fit_intercept=inter)\n",
        "rdg.fit(x_train, y_train)\n",
        "\n",
        "prediction = rdg.predict(x_test).astype(int)\n",
        "r =math.sqrt(np.mean((prediction - y_test) ** 2))\n",
        "r2=r2_score(y_test,prediction)\n",
        "\n",
        "prediction1 = rdg.predict(x_train).astype(int)\n",
        "r1 =math.sqrt(np.mean((prediction1 - y_train) ** 2))\n",
        "\n",
        "print(\"Normalize: \",norm,\" Fit_intercept: \",inter,\"  train_RMSE: %.3f\" % r1,\"  test_RMSE: %.3f\" % r,\" R_squar: \",r2)\n",
        "print()\n",
        "\n",
        "trm.append(r)\n",
        "tarm.append(r1)\n",
        "rs.append(r2)\n",
        "nm.append(norm)\n",
        "it.append(inter)\n",
        "alpha.append(alp)\n",
        "\n",
        "res=pd.DataFrame()\n",
        "res['alpha']=alpha\n",
        "res['normalize']=nm\n",
        "res['fit_intercept']=it\n",
        "res['test_rmse']=trm\n",
        "res['train_rmse']=tarm\n",
        "res['r_square']=rs\n",
        "\n",
        "res.to_csv('ridge.csv', mode='a', header=False,index=False)\n",
        "del res"
      ]
    },
    {
      "cell_type": "code",
      "execution_count": null,
      "metadata": {
        "id": "NZvcvlke2Gng",
        "outputId": "7f04269b-56b8-487c-bfc9-6331435665a6"
      },
      "outputs": [
        {
          "data": {
            "text/html": [
              "<div>\n",
              "<style>\n",
              "    .dataframe thead tr:only-child th {\n",
              "        text-align: right;\n",
              "    }\n",
              "\n",
              "    .dataframe thead th {\n",
              "        text-align: left;\n",
              "    }\n",
              "\n",
              "    .dataframe tbody tr th {\n",
              "        vertical-align: top;\n",
              "    }\n",
              "</style>\n",
              "<table border=\"1\" class=\"dataframe\">\n",
              "  <thead>\n",
              "    <tr style=\"text-align: right;\">\n",
              "      <th></th>\n",
              "      <th>alpha</th>\n",
              "      <th>normalize</th>\n",
              "      <th>fit_intercept</th>\n",
              "      <th>test_rmse</th>\n",
              "      <th>train_rmse</th>\n",
              "      <th>model_id</th>\n",
              "    </tr>\n",
              "  </thead>\n",
              "  <tbody>\n",
              "    <tr>\n",
              "      <th>0</th>\n",
              "      <td>1.0</td>\n",
              "      <td>False</td>\n",
              "      <td>True</td>\n",
              "      <td>7.967714</td>\n",
              "      <td>7.828250</td>\n",
              "      <td>0</td>\n",
              "    </tr>\n",
              "    <tr>\n",
              "      <th>1</th>\n",
              "      <td>1.0</td>\n",
              "      <td>False</td>\n",
              "      <td>False</td>\n",
              "      <td>7.967714</td>\n",
              "      <td>7.828250</td>\n",
              "      <td>1</td>\n",
              "    </tr>\n",
              "    <tr>\n",
              "      <th>2</th>\n",
              "      <td>1.0</td>\n",
              "      <td>True</td>\n",
              "      <td>True</td>\n",
              "      <td>7.967714</td>\n",
              "      <td>7.828250</td>\n",
              "      <td>2</td>\n",
              "    </tr>\n",
              "    <tr>\n",
              "      <th>3</th>\n",
              "      <td>1.0</td>\n",
              "      <td>True</td>\n",
              "      <td>False</td>\n",
              "      <td>7.967714</td>\n",
              "      <td>7.828250</td>\n",
              "      <td>3</td>\n",
              "    </tr>\n",
              "    <tr>\n",
              "      <th>4</th>\n",
              "      <td>0.5</td>\n",
              "      <td>False</td>\n",
              "      <td>True</td>\n",
              "      <td>5.773437</td>\n",
              "      <td>5.592188</td>\n",
              "      <td>4</td>\n",
              "    </tr>\n",
              "  </tbody>\n",
              "</table>\n",
              "</div>"
            ],
            "text/plain": [
              "   alpha  normalize  fit_intercept  test_rmse  train_rmse  model_id\n",
              "0    1.0      False           True   7.967714    7.828250         0\n",
              "1    1.0      False          False   7.967714    7.828250         1\n",
              "2    1.0       True           True   7.967714    7.828250         2\n",
              "3    1.0       True          False   7.967714    7.828250         3\n",
              "4    0.5      False           True   5.773437    5.592188         4"
            ]
          },
          "execution_count": 2,
          "metadata": {},
          "output_type": "execute_result"
        }
      ],
      "source": [
        "ridge_model=pd.read_csv('ridge.csv',header=0,index_col=None)\n",
        "ridge_model.drop('r_square',axis=1,inplace=True)\n",
        "ridge_model['model_id']=ridge_model.index\n",
        "ridge_model.head()"
      ]
    },
    {
      "cell_type": "code",
      "execution_count": null,
      "metadata": {
        "id": "Gq6kO9X82Gng",
        "outputId": "67c6193d-db90-4ee4-b8d8-d50e93c9414b"
      },
      "outputs": [
        {
          "data": {
            "image/png": "[encoded data removed]",
            "text/plain": [
              "<matplotlib.figure.Figure at 0x296ed78d128>"
            ]
          },
          "metadata": {},
          "output_type": "display_data"
        }
      ],
      "source": [
        "model=ridge_model.drop(['alpha','normalize','fit_intercept'],axis=1)\n",
        "model.set_index(['model_id'],inplace=True)\n",
        "model.plot(kind='line', color=['blue','red'], rot=0,figsize=(15,7))\n",
        "plt.xlabel('models')\n",
        "plt.ylabel('Error')\n",
        "sns.despine()"
      ]
    },
    {
      "cell_type": "markdown",
      "metadata": {
        "collapsed": true,
        "id": "aAARkb0t2Gng"
      },
      "source": [
        "    Here we see that from 12th model onwards training and validation error are alomost same.\n",
        "    Here validation error is low but not very high difference between the train and validation errors.\n",
        "    So we going to select 12 model, since validation error is slightly greater than training error."
      ]
    },
    {
      "cell_type": "code",
      "execution_count": null,
      "metadata": {
        "id": "L2veTue82Gng",
        "outputId": "a1e687c8-516b-4de4-bd07-c193d3b3eb92"
      },
      "outputs": [
        {
          "data": {
            "text/html": [
              "<div>\n",
              "<style>\n",
              "    .dataframe thead tr:only-child th {\n",
              "        text-align: right;\n",
              "    }\n",
              "\n",
              "    .dataframe thead th {\n",
              "        text-align: left;\n",
              "    }\n",
              "\n",
              "    .dataframe tbody tr th {\n",
              "        vertical-align: top;\n",
              "    }\n",
              "</style>\n",
              "<table border=\"1\" class=\"dataframe\">\n",
              "  <thead>\n",
              "    <tr style=\"text-align: right;\">\n",
              "      <th></th>\n",
              "      <th>alpha</th>\n",
              "      <th>normalize</th>\n",
              "      <th>fit_intercept</th>\n",
              "      <th>test_rmse</th>\n",
              "      <th>train_rmse</th>\n",
              "      <th>model_id</th>\n",
              "    </tr>\n",
              "  </thead>\n",
              "  <tbody>\n",
              "    <tr>\n",
              "      <th>12</th>\n",
              "      <td>0.01</td>\n",
              "      <td>False</td>\n",
              "      <td>True</td>\n",
              "      <td>0.665761</td>\n",
              "      <td>0.628308</td>\n",
              "      <td>12</td>\n",
              "    </tr>\n",
              "  </tbody>\n",
              "</table>\n",
              "</div>"
            ],
            "text/plain": [
              "    alpha  normalize  fit_intercept  test_rmse  train_rmse  model_id\n",
              "12   0.01      False           True   0.665761    0.628308        12"
            ]
          },
          "execution_count": 3,
          "metadata": {},
          "output_type": "execute_result"
        }
      ],
      "source": [
        "ridge_model.loc[ridge_model['model_id']==12]"
      ]
    },
    {
      "cell_type": "markdown",
      "metadata": {
        "id": "gmoiUP_c2Gng"
      },
      "source": [
        " "
      ]
    },
    {
      "cell_type": "markdown",
      "metadata": {
        "id": "MCXPjinZ2Gng"
      },
      "source": [
        "## Lasso Regression"
      ]
    },
    {
      "cell_type": "markdown",
      "metadata": {
        "id": "XNgqNr2U2Gng"
      },
      "source": [
        "Similar to Ridge Regression, Lasso also penalizes the absolute size of the regression coefficients. In addition, it is capable of reducing the variability and improving the accuracy of linear regression models."
      ]
    },
    {
      "cell_type": "markdown",
      "metadata": {
        "id": "xQrf_j832Gng"
      },
      "source": [
        "y = argmin ||Y-Xβ||^2 + λ||β||"
      ]
    },
    {
      "cell_type": "markdown",
      "metadata": {
        "id": "rd5wV93u2Gng"
      },
      "source": [
        "Lasso regression differs from ridge regression in a way that it uses absolute values in the penalty function, instead of squares. This leads to penalizing values which causes some of the parameter estimates to turn out exactly zero. "
      ]
    },
    {
      "cell_type": "markdown",
      "metadata": {
        "id": "U69PfxIe2Gng"
      },
      "source": [
        "It uses L1 regulization."
      ]
    },
    {
      "cell_type": "code",
      "execution_count": null,
      "metadata": {
        "collapsed": true,
        "id": "8nivJGM92Gng"
      },
      "outputs": [],
      "source": [
        "df = pd.read_csv('T_train.csv', header=0)\n",
        "test = pd.read_csv('T_test.csv',header=0)"
      ]
    },
    {
      "cell_type": "code",
      "execution_count": null,
      "metadata": {
        "collapsed": true,
        "id": "bZsrhoCd2Gng"
      },
      "outputs": [],
      "source": [
        "y_train= df['Adjusted_Demand']\n",
        "x_train = df.drop('Adjusted_Demand',axis=1)\n",
        "y_test= test['Adjusted_Demand']\n",
        "x_test = test.drop('Adjusted_Demand',axis=1)"
      ]
    },
    {
      "cell_type": "code",
      "execution_count": null,
      "metadata": {
        "collapsed": true,
        "id": "edi3srWn2Gng"
      },
      "outputs": [],
      "source": [
        "from sklearn import linear_model\n",
        "from sklearn.metrics import r2_score"
      ]
    },
    {
      "cell_type": "code",
      "execution_count": null,
      "metadata": {
        "collapsed": true,
        "id": "l226QM7u2Gng"
      },
      "outputs": [],
      "source": [
        "def lassomodel(x_train, x_test, y_train, y_test):\n",
        "   # f=0.3\n",
        "    alp=0.0\n",
        "    #train1 =df.sample(frac=f)\n",
        "    #y_train = train1['Adjusted_Demand']\n",
        "    #x_train = train1.drop('Adjusted_Demand',axis=1)\n",
        "    res=pd.DataFrame()\n",
        "    res['alpha']= ['alpha']\n",
        "    res['rmse_train']=['rmse_train']\n",
        "    res['r_square_train']=['r_square_train']\n",
        "    res['rmse_test']=['rmse_test']\n",
        "    res['r_square_test']=['r_square_test']\n",
        "    res.to_csv('lasso_model.csv',header=False,index=False)\n",
        "    \n",
        "    for x in range(10):\n",
        "        alp=alp+0.05\n",
        "        s=[]\n",
        "        rm=[]\n",
        "        rs=[]\n",
        "        rm2=[]\n",
        "        rs2=[]\n",
        "        al=[]\n",
        "        res=pd.DataFrame()\n",
        "        \n",
        "        clf = linear_model.Lasso(alpha=alp)\n",
        "        clf.fit(x_train, y_train)\n",
        "        prediction = clf.predict(x_train).astype(int)\n",
        "        \n",
        "        r =math.sqrt(np.mean((prediction - y_train) ** 2))\n",
        "        r2=r2_score(y_train,prediction)\n",
        "        \n",
        "        prediction2 = clf.predict(x_test).astype(int)\n",
        "        \n",
        "        rr2 =math.sqrt(np.mean((prediction2 - y_test) ** 2))\n",
        "        r22=r2_score(y_test,prediction2)\n",
        "        \n",
        "        \n",
        "        rm.append(r)\n",
        "        rs.append(r2)\n",
        "        rm2.append(rr2)\n",
        "        rs2.append(r22)\n",
        "        al.append(alp)\n",
        "        print(\"------------------------------------------------------------------\\n\")\n",
        "        print(\"For ALPHA value:\",alp,\"  RMSE: %.3f\" % r,\" R_square: \",r2,)\n",
        "        print(\"\\n\")\n",
        "        print(\"For ALPHA value:\",alp,\"  RMSE: %.3f\" % rr2,\" R_square: \",r22,)\n",
        "        print(\"------------------------------------------------------------------\\n\")\n",
        "        res['alpha']= al\n",
        "        res['rmse_train']=rm\n",
        "        res['r_square_train']=rs\n",
        "        res['rmse_test']=rm2\n",
        "        res['r_square_test']=rs2\n",
        "        res.to_csv('lasso_model.csv', mode='a', header=False,index=False)\n",
        "        del res,s,rm,rs"
      ]
    },
    {
      "cell_type": "code",
      "execution_count": null,
      "metadata": {
        "id": "ZUSC-53k2Gnh",
        "outputId": "7ff888d3-27b0-454e-8365-cbc4eb30807e"
      },
      "outputs": [
        {
          "name": "stdout",
          "output_type": "stream",
          "text": [
            "------------------------------------------------------------------\n",
            "\n",
            "For ALPHA value: 0.05   RMSE: 0.751  R_square:  0.998189174066\n",
            "\n",
            "\n",
            "For ALPHA value: 0.05   RMSE: 0.683  R_square:  0.998247771868\n",
            "------------------------------------------------------------------\n",
            "\n",
            "------------------------------------------------------------------\n",
            "\n",
            "For ALPHA value: 0.1   RMSE: 0.756  R_square:  0.998166685325\n",
            "\n",
            "\n",
            "For ALPHA value: 0.1   RMSE: 0.710  R_square:  0.998109985268\n",
            "------------------------------------------------------------------\n",
            "\n",
            "------------------------------------------------------------------\n",
            "\n",
            "For ALPHA value: 0.15000000000000002   RMSE: 0.764  R_square:  0.998126673692\n",
            "\n",
            "\n",
            "For ALPHA value: 0.15000000000000002   RMSE: 0.752  R_square:  0.997877489896\n",
            "------------------------------------------------------------------\n",
            "\n",
            "------------------------------------------------------------------\n",
            "\n",
            "For ALPHA value: 0.2   RMSE: 0.776  R_square:  0.998066684233\n",
            "\n",
            "\n",
            "For ALPHA value: 0.2   RMSE: 0.808  R_square:  0.997548331889\n",
            "------------------------------------------------------------------\n",
            "\n",
            "------------------------------------------------------------------\n",
            "\n",
            "For ALPHA value: 0.25   RMSE: 0.792  R_square:  0.997990041258\n",
            "\n",
            "\n",
            "For ALPHA value: 0.25   RMSE: 0.875  R_square:  0.997125850446\n",
            "------------------------------------------------------------------\n",
            "\n",
            "------------------------------------------------------------------\n",
            "\n",
            "For ALPHA value: 0.3   RMSE: 0.811  R_square:  0.997892094552\n",
            "\n",
            "\n",
            "For ALPHA value: 0.3   RMSE: 0.951  R_square:  0.996604223657\n",
            "------------------------------------------------------------------\n",
            "\n",
            "------------------------------------------------------------------\n",
            "\n",
            "For ALPHA value: 0.35   RMSE: 0.833  R_square:  0.997774679929\n",
            "\n",
            "\n",
            "For ALPHA value: 0.35   RMSE: 1.034  R_square:  0.995986918768\n",
            "------------------------------------------------------------------\n",
            "\n",
            "------------------------------------------------------------------\n",
            "\n",
            "For ALPHA value: 0.39999999999999997   RMSE: 0.856  R_square:  0.997647811108\n",
            "\n",
            "\n",
            "For ALPHA value: 0.39999999999999997   RMSE: 1.121  R_square:  0.995282922592\n",
            "------------------------------------------------------------------\n",
            "\n",
            "------------------------------------------------------------------\n",
            "\n",
            "For ALPHA value: 0.44999999999999996   RMSE: 0.886  R_square:  0.997482278836\n",
            "\n",
            "\n",
            "For ALPHA value: 0.44999999999999996   RMSE: 1.215  R_square:  0.994465179325\n",
            "------------------------------------------------------------------\n",
            "\n",
            "------------------------------------------------------------------\n",
            "\n",
            "For ALPHA value: 0.49999999999999994   RMSE: 0.915  R_square:  0.997318384924\n",
            "\n",
            "\n",
            "For ALPHA value: 0.49999999999999994   RMSE: 1.309  R_square:  0.993570601836\n",
            "------------------------------------------------------------------\n",
            "\n"
          ]
        }
      ],
      "source": [
        "lassomodel(x_train, x_test, y_train, y_test)"
      ]
    },
    {
      "cell_type": "code",
      "execution_count": null,
      "metadata": {
        "id": "rFgFPssR2Gnh",
        "outputId": "ac6a0637-1db2-4a2e-d469-6c2177d86b18"
      },
      "outputs": [
        {
          "data": {
            "text/html": [
              "<div>\n",
              "<style>\n",
              "    .dataframe thead tr:only-child th {\n",
              "        text-align: right;\n",
              "    }\n",
              "\n",
              "    .dataframe thead th {\n",
              "        text-align: left;\n",
              "    }\n",
              "\n",
              "    .dataframe tbody tr th {\n",
              "        vertical-align: top;\n",
              "    }\n",
              "</style>\n",
              "<table border=\"1\" class=\"dataframe\">\n",
              "  <thead>\n",
              "    <tr style=\"text-align: right;\">\n",
              "      <th></th>\n",
              "      <th>alpha</th>\n",
              "      <th>rmse_train</th>\n",
              "      <th>r_square_train</th>\n",
              "      <th>rmse_test</th>\n",
              "      <th>r_square_test</th>\n",
              "    </tr>\n",
              "  </thead>\n",
              "  <tbody>\n",
              "    <tr>\n",
              "      <th>0</th>\n",
              "      <td>0.05</td>\n",
              "      <td>0.751497</td>\n",
              "      <td>0.998189</td>\n",
              "      <td>0.683364</td>\n",
              "      <td>0.998248</td>\n",
              "    </tr>\n",
              "    <tr>\n",
              "      <th>1</th>\n",
              "      <td>0.10</td>\n",
              "      <td>0.756149</td>\n",
              "      <td>0.998167</td>\n",
              "      <td>0.709724</td>\n",
              "      <td>0.998110</td>\n",
              "    </tr>\n",
              "    <tr>\n",
              "      <th>2</th>\n",
              "      <td>0.15</td>\n",
              "      <td>0.764356</td>\n",
              "      <td>0.998127</td>\n",
              "      <td>0.752111</td>\n",
              "      <td>0.997877</td>\n",
              "    </tr>\n",
              "    <tr>\n",
              "      <th>3</th>\n",
              "      <td>0.20</td>\n",
              "      <td>0.776498</td>\n",
              "      <td>0.998067</td>\n",
              "      <td>0.808328</td>\n",
              "      <td>0.997548</td>\n",
              "    </tr>\n",
              "    <tr>\n",
              "      <th>4</th>\n",
              "      <td>0.25</td>\n",
              "      <td>0.791739</td>\n",
              "      <td>0.997990</td>\n",
              "      <td>0.875209</td>\n",
              "      <td>0.997126</td>\n",
              "    </tr>\n",
              "  </tbody>\n",
              "</table>\n",
              "</div>"
            ],
            "text/plain": [
              "   alpha  rmse_train  r_square_train  rmse_test  r_square_test\n",
              "0   0.05    0.751497        0.998189   0.683364       0.998248\n",
              "1   0.10    0.756149        0.998167   0.709724       0.998110\n",
              "2   0.15    0.764356        0.998127   0.752111       0.997877\n",
              "3   0.20    0.776498        0.998067   0.808328       0.997548\n",
              "4   0.25    0.791739        0.997990   0.875209       0.997126"
            ]
          },
          "execution_count": 11,
          "metadata": {},
          "output_type": "execute_result"
        }
      ],
      "source": [
        "r=pd.read_csv('lasso_model.csv',header=0)\n",
        "r.head()"
      ]
    },
    {
      "cell_type": "code",
      "execution_count": null,
      "metadata": {
        "id": "2z4zvOe02Gnh",
        "outputId": "2c270c28-4d41-4a5b-9ec1-d5f335a08c28"
      },
      "outputs": [
        {
          "data": {
            "image/png": "[encoded data removed]",
            "text/plain": [
              "<matplotlib.figure.Figure at 0x1d66c7a8780>"
            ]
          },
          "metadata": {},
          "output_type": "display_data"
        }
      ],
      "source": [
        "model=r.drop(['r_square_train','r_square_test'],axis=1)\n",
        "model.set_index(['alpha'],inplace=True)\n",
        "model.plot(kind='line', color=['blue','red'], rot=0,figsize=(15,7))\n",
        "plt.xlabel('alpha')\n",
        "plt.ylabel('Error')\n",
        "sns.despine()"
      ]
    },
    {
      "cell_type": "markdown",
      "metadata": {
        "id": "IWjZHqh42Gnh"
      },
      "source": [
        "    For Alpha= 0.1 we have less validation and training error,but it is making unkonwn fit.\n",
        "    At alpha =0.2 validation error is slightly greater than train error, So we select model with alpha=0.2."
      ]
    },
    {
      "cell_type": "code",
      "execution_count": null,
      "metadata": {
        "id": "8qo-0Acx2Gnh",
        "outputId": "54297a5f-94c8-4ec3-f94c-ec058bbcece2"
      },
      "outputs": [
        {
          "data": {
            "text/html": [
              "<div>\n",
              "<style>\n",
              "    .dataframe thead tr:only-child th {\n",
              "        text-align: right;\n",
              "    }\n",
              "\n",
              "    .dataframe thead th {\n",
              "        text-align: left;\n",
              "    }\n",
              "\n",
              "    .dataframe tbody tr th {\n",
              "        vertical-align: top;\n",
              "    }\n",
              "</style>\n",
              "<table border=\"1\" class=\"dataframe\">\n",
              "  <thead>\n",
              "    <tr style=\"text-align: right;\">\n",
              "      <th></th>\n",
              "      <th>alpha</th>\n",
              "      <th>rmse_train</th>\n",
              "      <th>r_square_train</th>\n",
              "      <th>rmse_test</th>\n",
              "      <th>r_square_test</th>\n",
              "    </tr>\n",
              "  </thead>\n",
              "  <tbody>\n",
              "    <tr>\n",
              "      <th>3</th>\n",
              "      <td>0.2</td>\n",
              "      <td>0.776498</td>\n",
              "      <td>0.998067</td>\n",
              "      <td>0.808328</td>\n",
              "      <td>0.997548</td>\n",
              "    </tr>\n",
              "  </tbody>\n",
              "</table>\n",
              "</div>"
            ],
            "text/plain": [
              "   alpha  rmse_train  r_square_train  rmse_test  r_square_test\n",
              "3    0.2    0.776498        0.998067   0.808328       0.997548"
            ]
          },
          "execution_count": 13,
          "metadata": {},
          "output_type": "execute_result"
        }
      ],
      "source": [
        "r.loc[r['alpha']==0.2]"
      ]
    },
    {
      "cell_type": "markdown",
      "metadata": {
        "collapsed": true,
        "id": "VSWDS0bG2Gnh"
      },
      "source": [
        " "
      ]
    },
    {
      "cell_type": "code",
      "execution_count": null,
      "metadata": {
        "collapsed": true,
        "id": "6X-h_E-x2Gnh"
      },
      "outputs": [],
      "source": [
        "def l2(x_test,y_test,df):\n",
        "    f=0.4\n",
        "    for x in range(2):   \n",
        "        s=[]\n",
        "        rm=[]\n",
        "        rs=[]\n",
        "        al=[]\n",
        "        res=pd.DataFrame()\n",
        "        train1 =df.sample(frac=f)\n",
        "        y_train = train1['Adjusted_Demand']\n",
        "        x_train = train1.drop('Adjusted_Demand',axis=1)\n",
        "        \n",
        "        clf = linear_model.Lasso(alpha=0.2)\n",
        "        clf.fit(x_train, y_train)\n",
        "        prediction = clf.predict(x_test).astype(int)\n",
        "        \n",
        "        r =math.sqrt(np.mean((prediction - y_test) ** 2))\n",
        "        r2=r2_score(y_test,prediction)\n",
        "        \n",
        "        v = int(f*100)\n",
        "        s.append(v)\n",
        "        rm.append(r)\n",
        "        rs.append(r2)\n",
        "        al.append(0.2)\n",
        "        print(\"For Sample:\",v,\"%%  RMSE: %.3f\" % r,\" R_square: \",r2)\n",
        "        print()\n",
        "        f=f+0.1\n",
        "        res['size']=s\n",
        "        res['rmse']=rm\n",
        "        res['r_square']=rs\n",
        "        res['alpha']= al\n",
        "        res.to_csv('lasso2.csv', mode='a', header=False,index=False)\n",
        "        del res,s,rm,rs"
      ]
    },
    {
      "cell_type": "code",
      "execution_count": null,
      "metadata": {
        "id": "QP-KGktH2Gnh",
        "outputId": "4655fb8e-135c-40ba-d774-d19379ed5ef0"
      },
      "outputs": [
        {
          "name": "stdout",
          "output_type": "stream",
          "text": [
            "For Sample: 40 %  RMSE: 0.747  R_square:  0.997908838189\n",
            "\n",
            "For Sample: 50 %  RMSE: 0.769  R_square:  0.997783532369\n",
            "\n"
          ]
        }
      ],
      "source": [
        " l2(x_test,y_test,df)"
      ]
    },
    {
      "cell_type": "markdown",
      "metadata": {
        "id": "KNWZ2XHi2Gnh"
      },
      "source": [
        "## ElasticNet Regression"
      ]
    },
    {
      "cell_type": "markdown",
      "metadata": {
        "id": "qzt24sKI2Gnh"
      },
      "source": [
        "ElasticNet is hybrid of Lasso and Ridge Regression techniques. It is trained with L1 and L2 prior as regularizer. Elastic-net is useful when there are multiple features which are correlated.\n",
        "\n",
        "Y= armin( ||y-xβ||^2 + λ2||β2||^2 + λ1||β1|| )."
      ]
    },
    {
      "cell_type": "code",
      "execution_count": null,
      "metadata": {
        "collapsed": true,
        "id": "VRzSVD5M2Gnh"
      },
      "outputs": [],
      "source": [
        "from sklearn.linear_model import ElasticNet\n",
        "from sklearn.datasets import make_regression"
      ]
    },
    {
      "cell_type": "code",
      "execution_count": null,
      "metadata": {
        "collapsed": true,
        "id": "kcTf7I2C2Gnh"
      },
      "outputs": [],
      "source": [
        "sam1 =df.sample(frac=0.7)\n",
        "y_train = sam1['Adjusted_Demand']\n",
        "x_train = sam1.drop('Adjusted_Demand',axis=1)\n",
        "y_test = test['Adjusted_Demand']\n",
        "x_test = test.drop('Adjusted_Demand',axis=1)"
      ]
    },
    {
      "cell_type": "markdown",
      "metadata": {
        "id": "_jTzYra52Gnh"
      },
      "source": [
        "Default value of l1_ratio is 0.5 and alpha is 1.0 "
      ]
    },
    {
      "cell_type": "code",
      "execution_count": null,
      "metadata": {
        "collapsed": true,
        "id": "NPm8iwej2Gnh"
      },
      "outputs": [],
      "source": [
        "l1_ratio=[]\n",
        "alpha =[]\n",
        "ValidError =[]\n",
        "\n",
        "def elasticErrors(x_train,y_train,x_test,y_test):\n",
        "    f=0.8\n",
        "    i=0\n",
        "    l1=0.5\n",
        "    for y in range(6):\n",
        "        i=i+1\n",
        "        f=0.9\n",
        "        print(\"For l1_ratio=\", l1)\n",
        "        for x in range(8):\n",
        "            sol=[]\n",
        "            res=pd.DataFrame()\n",
        "            regr = ElasticNet(alpha=f,l1_ratio=l1,random_state=0)\n",
        "            regr.fit(x_train, y_train)\n",
        "            prediction = regr.predict(x_train).astype(int)\n",
        "            r =math.sqrt(np.mean((prediction - y_train) ** 2))\n",
        "            #r2=r2_score(y_train,prediction)\n",
        "            l1_ratio.append(l1)\n",
        "            alpha.append(f)\n",
        "            ValidError.append(r)\n",
        "            #print(\"Done with alpha\", f)\n",
        "            f=f-0.1\n",
        "        if i==5:\n",
        "            l1=0.05\n",
        "        else:\n",
        "            l1=l1-0.1\n",
        "        "
      ]
    },
    {
      "cell_type": "code",
      "execution_count": null,
      "metadata": {
        "id": "tmga6Qhs2Gnh",
        "outputId": "c2d34604-401b-45bc-a99c-713c81455d58"
      },
      "outputs": [
        {
          "name": "stdout",
          "output_type": "stream",
          "text": [
            "For l1_ratio= 0.5\n",
            "For l1_ratio= 0.4\n",
            "For l1_ratio= 0.30000000000000004\n",
            "For l1_ratio= 0.20000000000000004\n",
            "For l1_ratio= 0.10000000000000003\n",
            "For l1_ratio= 0.05\n"
          ]
        }
      ],
      "source": [
        "elasticErrors(x_train,y_train,x_test,y_test)"
      ]
    },
    {
      "cell_type": "code",
      "execution_count": null,
      "metadata": {
        "id": "McrIVTZd2Gnh",
        "outputId": "b9ee0f0e-a16f-4748-d146-66c3df7bc88b"
      },
      "outputs": [
        {
          "data": {
            "image/png": "[encoded data removed]",
            "text/plain": [
              "<matplotlib.figure.Figure at 0x23eb96b6320>"
            ]
          },
          "metadata": {},
          "output_type": "display_data"
        }
      ],
      "source": [
        "Elastic_err=pd.DataFrame(columns=['l1_ratio','alpha','ValidError'])\n",
        "Elastic_err['l1_ratio'] = l1_ratio\n",
        "Elastic_err['alpha'] = alpha\n",
        "Elastic_err['ValidError'] = ValidError\n",
        "#Elastic_err\n",
        "fig, ax = plt.subplots()\n",
        "labels = []\n",
        "for key, grp in Elastic_err.groupby(['l1_ratio']):\n",
        "    ax = grp.plot(ax=ax, kind='line', x='alpha', y='ValidError')\n",
        "    labels.append(key)\n",
        "lines,_= ax.get_legend_handles_labels()\n",
        "ax.legend(lines, labels, loc='best')\n",
        "plt.ylabel('TrainError')\n",
        "plt.show()"
      ]
    },
    {
      "cell_type": "markdown",
      "metadata": {
        "id": "jdzXh3Po2Gni"
      },
      "source": [
        "The above graph shows the variation in train error with changing l1_ratios for different alphas. \n",
        "l1_ratio=0.05 is giving the least error."
      ]
    },
    {
      "cell_type": "markdown",
      "metadata": {
        "id": "-BQ0JR9f2Gni"
      },
      "source": [
        "Now for l1_ratio is kept constant(0.05) and alpha decreased to compare validation and train error"
      ]
    },
    {
      "cell_type": "code",
      "execution_count": null,
      "metadata": {
        "collapsed": true,
        "id": "TgCNnfRJ2Gni"
      },
      "outputs": [],
      "source": [
        "alpha=[]\n",
        "TrainError=[]\n",
        "ValidError=[]\n",
        "\n",
        "def elasticErrors(x_train,y_train,x_test,y_test):\n",
        "    f=0.9\n",
        "    i=0\n",
        "    for x in range(9):\n",
        "        i=i+1\n",
        "        sol=[]\n",
        "        res=pd.DataFrame()\n",
        "        regr = ElasticNet(alpha=f,l1_ratio=0.05,random_state=0)\n",
        "        regr.fit(x_train, y_train)\n",
        "        pred_train = regr.predict(x_train).astype(int)\n",
        "        r_train =math.sqrt(np.mean((pred_train - y_train) ** 2))\n",
        "        pred_test = regr.predict(x_test).astype(int)\n",
        "        r_test =math.sqrt(np.mean((pred_test - y_test) ** 2))\n",
        "        #r2=r2_score(y_train,prediction)\n",
        "        alpha.append(f)\n",
        "        TrainError.append(r_train)\n",
        "        ValidError.append(r_test)\n",
        "        print(\"Done with alpha\", f)\n",
        "        f=f-0.1\n",
        "        "
      ]
    },
    {
      "cell_type": "code",
      "execution_count": null,
      "metadata": {
        "id": "mz3BvSsW2Gni",
        "outputId": "bb4bbecc-5620-423f-e08c-63db1678d4fb"
      },
      "outputs": [
        {
          "name": "stdout",
          "output_type": "stream",
          "text": [
            "Done with alpha 0.9\n",
            "Done with alpha 0.8\n",
            "Done with alpha 0.7000000000000001\n",
            "Done with alpha 0.6000000000000001\n",
            "Done with alpha 0.5000000000000001\n",
            "Done with alpha 0.40000000000000013\n",
            "Done with alpha 0.30000000000000016\n",
            "Done with alpha 0.20000000000000015\n",
            "Done with alpha 0.10000000000000014\n"
          ]
        }
      ],
      "source": [
        "elasticErrors(x_train,y_train,x_test,y_test)"
      ]
    },
    {
      "cell_type": "code",
      "execution_count": null,
      "metadata": {
        "id": "UZ28Q-1k2Gni",
        "outputId": "f104b813-bea4-4dee-f877-67de67b7247d"
      },
      "outputs": [
        {
          "data": {
            "text/html": [
              "<div>\n",
              "<style>\n",
              "    .dataframe thead tr:only-child th {\n",
              "        text-align: right;\n",
              "    }\n",
              "\n",
              "    .dataframe thead th {\n",
              "        text-align: left;\n",
              "    }\n",
              "\n",
              "    .dataframe tbody tr th {\n",
              "        vertical-align: top;\n",
              "    }\n",
              "</style>\n",
              "<table border=\"1\" class=\"dataframe\">\n",
              "  <thead>\n",
              "    <tr style=\"text-align: right;\">\n",
              "      <th></th>\n",
              "      <th>alpha</th>\n",
              "      <th>TrainError</th>\n",
              "      <th>ValidError</th>\n",
              "    </tr>\n",
              "  </thead>\n",
              "  <tbody>\n",
              "    <tr>\n",
              "      <th>0</th>\n",
              "      <td>0.9</td>\n",
              "      <td>0.867481</td>\n",
              "      <td>1.158263</td>\n",
              "    </tr>\n",
              "    <tr>\n",
              "      <th>1</th>\n",
              "      <td>0.8</td>\n",
              "      <td>0.853797</td>\n",
              "      <td>1.111788</td>\n",
              "    </tr>\n",
              "    <tr>\n",
              "      <th>2</th>\n",
              "      <td>0.7</td>\n",
              "      <td>0.838757</td>\n",
              "      <td>1.060606</td>\n",
              "    </tr>\n",
              "    <tr>\n",
              "      <th>3</th>\n",
              "      <td>0.6</td>\n",
              "      <td>0.821483</td>\n",
              "      <td>1.003799</td>\n",
              "    </tr>\n",
              "    <tr>\n",
              "      <th>4</th>\n",
              "      <td>0.5</td>\n",
              "      <td>0.805042</td>\n",
              "      <td>0.943309</td>\n",
              "    </tr>\n",
              "    <tr>\n",
              "      <th>5</th>\n",
              "      <td>0.4</td>\n",
              "      <td>0.787070</td>\n",
              "      <td>0.877903</td>\n",
              "    </tr>\n",
              "    <tr>\n",
              "      <th>6</th>\n",
              "      <td>0.3</td>\n",
              "      <td>0.770627</td>\n",
              "      <td>0.810692</td>\n",
              "    </tr>\n",
              "    <tr>\n",
              "      <th>7</th>\n",
              "      <td>0.2</td>\n",
              "      <td>0.755996</td>\n",
              "      <td>0.745395</td>\n",
              "    </tr>\n",
              "    <tr>\n",
              "      <th>8</th>\n",
              "      <td>0.1</td>\n",
              "      <td>0.745301</td>\n",
              "      <td>0.691794</td>\n",
              "    </tr>\n",
              "  </tbody>\n",
              "</table>\n",
              "</div>"
            ],
            "text/plain": [
              "   alpha  TrainError  ValidError\n",
              "0    0.9    0.867481    1.158263\n",
              "1    0.8    0.853797    1.111788\n",
              "2    0.7    0.838757    1.060606\n",
              "3    0.6    0.821483    1.003799\n",
              "4    0.5    0.805042    0.943309\n",
              "5    0.4    0.787070    0.877903\n",
              "6    0.3    0.770627    0.810692\n",
              "7    0.2    0.755996    0.745395\n",
              "8    0.1    0.745301    0.691794"
            ]
          },
          "execution_count": 9,
          "metadata": {},
          "output_type": "execute_result"
        }
      ],
      "source": [
        "Elastic_err=pd.DataFrame(columns=['alpha','TrainError','ValidError'])\n",
        "Elastic_err['alpha'] = alpha\n",
        "Elastic_err['TrainError'] = TrainError\n",
        "Elastic_err['ValidError'] = ValidError\n",
        "#model_score.set_index(\"l1_ratio\",inplace=True)\n",
        "Elastic_err"
      ]
    },
    {
      "cell_type": "code",
      "execution_count": null,
      "metadata": {
        "id": "G9iYJI4T2Gni",
        "outputId": "5df518bb-1faa-4ab3-c0bd-deb25cc69ea9"
      },
      "outputs": [
        {
          "data": {
            "image/png": "[encoded data removed]",
            "text/plain": [
              "<matplotlib.figure.Figure at 0x20f66aadd68>"
            ]
          },
          "metadata": {},
          "output_type": "display_data"
        }
      ],
      "source": [
        "Elastic_err.set_index(['alpha'],inplace=True)\n",
        "Elastic_err.plot(kind='line', color=['blue','red'], rot=0,figsize=(8,3))\n",
        "plt.xlabel('alpha')\n",
        "plt.ylabel('Error')\n",
        "sns.despine()"
      ]
    },
    {
      "cell_type": "markdown",
      "metadata": {
        "id": "8U25Guvc2Gni"
      },
      "source": [
        "l1_ratio=0.05 and alpha=0.3 gives the least error"
      ]
    },
    {
      "cell_type": "code",
      "execution_count": null,
      "metadata": {
        "collapsed": true,
        "id": "PkjhZPz-2Gni"
      },
      "outputs": [],
      "source": [
        "sample=[]\n",
        "ValidError=[]\n",
        "\n",
        "def elasticSamples(df):\n",
        "    sam=0.1\n",
        "    for x in range(6):\n",
        "        res=pd.DataFrame()\n",
        "        train1 =df.sample(frac=sam)\n",
        "        y_train = train1['Adjusted_Demand']\n",
        "        x_train = train1.drop('Adjusted_Demand',axis=1)\n",
        "        regr = ElasticNet(alpha=0.35,l1_ratio=0.05,random_state=0)\n",
        "        regr.fit(x_train, y_train)\n",
        "        prediction = regr.predict(x_test).astype(int)\n",
        "        r =math.sqrt(np.mean((prediction - y_test) ** 2))\n",
        "        #r2=r2_score(y_train,prediction)\n",
        "        per=sam*100\n",
        "        sample.append(per)\n",
        "        ValidError.append(r)\n",
        "        #r_sq.append(r2)\n",
        "        #f=f+0.2\n",
        "        print(\"Done for sample\", per)\n",
        "        sam=sam+0.1\n",
        "        \n",
        "        "
      ]
    },
    {
      "cell_type": "code",
      "execution_count": null,
      "metadata": {
        "id": "1ZMlAESb2Gni",
        "outputId": "b4ee4013-ee42-40b4-b052-c7afd7d78454"
      },
      "outputs": [
        {
          "name": "stdout",
          "output_type": "stream",
          "text": [
            "Done for sample 10.0\n",
            "Done for sample 20.0\n",
            "Done for sample 30.000000000000004\n",
            "Done for sample 40.0\n",
            "Done for sample 50.0\n",
            "Done for sample 60.0\n"
          ]
        }
      ],
      "source": [
        "elasticSamples(df)"
      ]
    },
    {
      "cell_type": "code",
      "execution_count": null,
      "metadata": {
        "id": "6if1cKmi2Gni",
        "outputId": "16436274-0d27-4d39-fe4a-88962a4c5251"
      },
      "outputs": [
        {
          "data": {
            "text/html": [
              "<div>\n",
              "<style>\n",
              "    .dataframe thead tr:only-child th {\n",
              "        text-align: right;\n",
              "    }\n",
              "\n",
              "    .dataframe thead th {\n",
              "        text-align: left;\n",
              "    }\n",
              "\n",
              "    .dataframe tbody tr th {\n",
              "        vertical-align: top;\n",
              "    }\n",
              "</style>\n",
              "<table border=\"1\" class=\"dataframe\">\n",
              "  <thead>\n",
              "    <tr style=\"text-align: right;\">\n",
              "      <th></th>\n",
              "      <th>sample</th>\n",
              "      <th>ValidError</th>\n",
              "    </tr>\n",
              "  </thead>\n",
              "  <tbody>\n",
              "    <tr>\n",
              "      <th>0</th>\n",
              "      <td>10.0</td>\n",
              "      <td>1.003399</td>\n",
              "    </tr>\n",
              "    <tr>\n",
              "      <th>1</th>\n",
              "      <td>20.0</td>\n",
              "      <td>0.883382</td>\n",
              "    </tr>\n",
              "    <tr>\n",
              "      <th>2</th>\n",
              "      <td>30.0</td>\n",
              "      <td>0.892672</td>\n",
              "    </tr>\n",
              "    <tr>\n",
              "      <th>3</th>\n",
              "      <td>40.0</td>\n",
              "      <td>0.900006</td>\n",
              "    </tr>\n",
              "    <tr>\n",
              "      <th>4</th>\n",
              "      <td>50.0</td>\n",
              "      <td>0.881486</td>\n",
              "    </tr>\n",
              "    <tr>\n",
              "      <th>5</th>\n",
              "      <td>60.0</td>\n",
              "      <td>0.847162</td>\n",
              "    </tr>\n",
              "  </tbody>\n",
              "</table>\n",
              "</div>"
            ],
            "text/plain": [
              "   sample  ValidError\n",
              "0    10.0    1.003399\n",
              "1    20.0    0.883382\n",
              "2    30.0    0.892672\n",
              "3    40.0    0.900006\n",
              "4    50.0    0.881486\n",
              "5    60.0    0.847162"
            ]
          },
          "execution_count": 13,
          "metadata": {},
          "output_type": "execute_result"
        }
      ],
      "source": [
        "ElasticSam=pd.DataFrame(columns=['sample','ValidError'])\n",
        "ElasticSam['sample'] = sample\n",
        "ElasticSam['ValidError'] = ValidError\n",
        "#model_score.set_index(\"l1_ratio\",inplace=True)\n",
        "ElasticSam"
      ]
    },
    {
      "cell_type": "code",
      "execution_count": null,
      "metadata": {
        "id": "0h_8D1F82Gni",
        "outputId": "dddc9be2-204f-4c6a-9619-8bd19b8ae300"
      },
      "outputs": [
        {
          "data": {
            "image/png": "[encoded data removed]",
            "text/plain": [
              "<matplotlib.figure.Figure at 0x20f3f4200f0>"
            ]
          },
          "metadata": {},
          "output_type": "display_data"
        }
      ],
      "source": [
        "ElasticSam.set_index(['sample'],inplace=True)\n",
        "ElasticSam.plot(kind='line', rot=0,figsize=(8,3))\n",
        "plt.xlabel('sample')\n",
        "plt.ylabel('ValidError')\n",
        "sns.despine()"
      ]
    },
    {
      "cell_type": "markdown",
      "metadata": {
        "id": "95UNbkGo2Gni"
      },
      "source": [
        " "
      ]
    },
    {
      "cell_type": "markdown",
      "metadata": {
        "id": "7k43bc4s2Gni"
      },
      "source": [
        "## Robust linear model estimation using RANSAC algorithm"
      ]
    },
    {
      "cell_type": "markdown",
      "metadata": {
        "id": "fa1o1rNv2Gni"
      },
      "source": [
        "Certain widely used methods of regression, such as ordinary least squares, have favourable properties if their underlying assumptions are true, but can give misleading results if those assumptions are not true; thus ordinary least squares is said to be not robust to violations of its assumptions. Robust regression methods are designed to be not overly affected by violations of assumptions by the underlying data-generating process."
      ]
    },
    {
      "cell_type": "markdown",
      "metadata": {
        "id": "OXrioAgN2Gni"
      },
      "source": [
        "RANSAC is an iterative method to estimate parameters of a mathematical model from a set of observed data that contains outliers."
      ]
    },
    {
      "cell_type": "code",
      "execution_count": null,
      "metadata": {
        "collapsed": true,
        "id": "0ngV0_zh2Gni"
      },
      "outputs": [],
      "source": [
        "from sklearn import linear_model"
      ]
    },
    {
      "cell_type": "code",
      "execution_count": null,
      "metadata": {
        "collapsed": true,
        "id": "tqA-KeLP2Gni"
      },
      "outputs": [],
      "source": [
        "ransac = linear_model.RANSACRegressor(residual_threshold =1)\n",
        "ransac.fit(x_train, y_train)\n",
        "prediction = ransac.predict(x_test).astype(int)\n",
        "\n",
        "prediction1 = ransac.predict(x_train).astype(int)"
      ]
    },
    {
      "cell_type": "code",
      "execution_count": null,
      "metadata": {
        "id": "ZLsW5_VR2Gnj",
        "outputId": "3d17c117-037c-47cc-a91f-5b88d7b14058"
      },
      "outputs": [
        {
          "name": "stdout",
          "output_type": "stream",
          "text": [
            "test_RMSE: 0.563  Train_RMSE: 0.640\n"
          ]
        }
      ],
      "source": [
        "r =math.sqrt(np.mean((prediction - y_test) ** 2))\n",
        "r1 =math.sqrt(np.mean((prediction1 - y_train) ** 2))\n",
        "#r = np.sqrt(np.square(np.log(prediction + 1) - np.log(y_test + 1)).mean())\n",
        "print(\"test_RMSE: %.3f\" % r,\" Train_RMSE: %.3f\" % r1)"
      ]
    },
    {
      "cell_type": "code",
      "execution_count": null,
      "metadata": {
        "collapsed": true,
        "id": "Yb3vrOeo2Gnj"
      },
      "outputs": [],
      "source": [
        "from sklearn.metrics import r2_score\n",
        "r2_score(y_test,prediction)\n",
        "\n",
        "model.append(\"Robust model\")\n",
        "rmse.append(r)\n",
        "r_sqr.append(r2)"
      ]
    },
    {
      "cell_type": "markdown",
      "metadata": {
        "collapsed": true,
        "id": "XI-8w30L2Gnj"
      },
      "source": [
        "    Models                              Validation Error\n",
        "    \n",
        "    Multiple linear regression          0.551745\n",
        "    Ridge Regression                    0.665761\n",
        "    Lasso Regression                    0.804342"
      ]
    },
    {
      "cell_type": "code",
      "execution_count": null,
      "metadata": {
        "id": "NaosMNJG2Gnj",
        "outputId": "b26e2aaf-501e-4eea-9b09-f8d06e4c2f3d"
      },
      "outputs": [
        {
          "name": "stderr",
          "output_type": "stream",
          "text": [
            "C:\\ProgramData\\Anaconda3\\lib\\site-packages\\sklearn\\cross_validation.py:44: DeprecationWarning: This module was deprecated in version 0.18 in favor of the model_selection module into which all the refactored classes and functions are moved. Also note that the interface of the new CV iterators are different from that of this module. This module will be removed in 0.20.\n",
            "  \"This module will be removed in 0.20.\", DeprecationWarning)\n"
          ]
        }
      ],
      "source": [
        "import random\n",
        "from sklearn import cross_validation\n",
        "from sklearn import linear_model"
      ]
    },
    {
      "cell_type": "code",
      "execution_count": null,
      "metadata": {
        "collapsed": true,
        "id": "PzdRQk-j2Gnj"
      },
      "outputs": [],
      "source": [
        "def LM():\n",
        "    f =[0.65]\n",
        "    \n",
        "    for x in f:\n",
        "        print('start')\n",
        "        n=22166137\n",
        "        s=int(n*x)\n",
        "        skip = sorted(random.sample(range(1,n),n-s))\n",
        "        df = pd.read_csv('T_train.csv', skiprows=skip,header=0)\n",
        "        n=18255366\n",
        "        s=int(n*x)\n",
        "        skip = sorted(random.sample(range(1,n),n-s))\n",
        "        test = pd.read_csv('T_test.csv',skiprows=skip,header=0)\n",
        "\n",
        "        df = pd.concat((df,test), axis=0,ignore_index=True)\n",
        "        \n",
        "        test= df['Adjusted_Demand']\n",
        "        df = df.drop('Adjusted_Demand',axis=1)\n",
        "\n",
        "        x_train, x_test, y_train, y_test = cross_validation.train_test_split(df, test, test_size=0.3, random_state=42)\n",
        "        \n",
        "        trm=[]\n",
        "        tarm=[]\n",
        "        sp=[]\n",
        "        \n",
        "        clf = linear_model.LinearRegression(n_jobs=4)\n",
        "        clf.fit(x_train, y_train)\n",
        "        print('1')\n",
        "        prediction = clf.predict(x_test).astype(int)\n",
        "        r =math.sqrt(np.mean((prediction - y_test) ** 2))      \n",
        "\n",
        "        prediction1 = clf.predict(x_train).astype(int)\n",
        "        r1 =math.sqrt(np.mean((prediction1 - y_train) ** 2))\n",
        "\n",
        "        print(\"train_RMSE: %.3f\" % r1,\"  test_RMSE: %.3f\" % r)\n",
        "        print()\n",
        "        trm.append(r)\n",
        "        tarm.append(r1)\n",
        "        sp.append(int(x*100))\n",
        "\n",
        "        res=pd.DataFrame()\n",
        "        res['test_rmse']=trm\n",
        "        res['train_rmse']=tarm\n",
        "        res['sample']=sp\n",
        "\n",
        "        res.to_csv('linear.csv', mode='a', header=False,index=False)\n",
        "        del res"
      ]
    },
    {
      "cell_type": "code",
      "execution_count": null,
      "metadata": {
        "collapsed": true,
        "id": "XYkPsv6C2Gnj"
      },
      "outputs": [],
      "source": [
        "LM()"
      ]
    },
    {
      "cell_type": "code",
      "execution_count": null,
      "metadata": {
        "id": "bLObFZXe2Gnj",
        "outputId": "8c82964d-4e35-49e4-ec22-6abbd0bb7d32"
      },
      "outputs": [
        {
          "data": {
            "text/html": [
              "<div>\n",
              "<style>\n",
              "    .dataframe thead tr:only-child th {\n",
              "        text-align: right;\n",
              "    }\n",
              "\n",
              "    .dataframe thead th {\n",
              "        text-align: left;\n",
              "    }\n",
              "\n",
              "    .dataframe tbody tr th {\n",
              "        vertical-align: top;\n",
              "    }\n",
              "</style>\n",
              "<table border=\"1\" class=\"dataframe\">\n",
              "  <thead>\n",
              "    <tr style=\"text-align: right;\">\n",
              "      <th></th>\n",
              "      <th>test_rmse</th>\n",
              "      <th>train_rmse</th>\n",
              "      <th>sample</th>\n",
              "    </tr>\n",
              "  </thead>\n",
              "  <tbody>\n",
              "    <tr>\n",
              "      <th>0</th>\n",
              "      <td>0.524441</td>\n",
              "      <td>0.524949</td>\n",
              "      <td>10</td>\n",
              "    </tr>\n",
              "    <tr>\n",
              "      <th>1</th>\n",
              "      <td>0.563938</td>\n",
              "      <td>0.563529</td>\n",
              "      <td>15</td>\n",
              "    </tr>\n",
              "    <tr>\n",
              "      <th>2</th>\n",
              "      <td>0.364069</td>\n",
              "      <td>0.364287</td>\n",
              "      <td>20</td>\n",
              "    </tr>\n",
              "    <tr>\n",
              "      <th>3</th>\n",
              "      <td>0.412309</td>\n",
              "      <td>0.411825</td>\n",
              "      <td>25</td>\n",
              "    </tr>\n",
              "    <tr>\n",
              "      <th>4</th>\n",
              "      <td>0.490285</td>\n",
              "      <td>0.490262</td>\n",
              "      <td>30</td>\n",
              "    </tr>\n",
              "  </tbody>\n",
              "</table>\n",
              "</div>"
            ],
            "text/plain": [
              "   test_rmse  train_rmse  sample\n",
              "0   0.524441    0.524949      10\n",
              "1   0.563938    0.563529      15\n",
              "2   0.364069    0.364287      20\n",
              "3   0.412309    0.411825      25\n",
              "4   0.490285    0.490262      30"
            ]
          },
          "execution_count": 2,
          "metadata": {},
          "output_type": "execute_result"
        }
      ],
      "source": [
        "m=pd.read_csv('linear.csv',header=0)\n",
        "m.head()"
      ]
    },
    {
      "cell_type": "code",
      "execution_count": null,
      "metadata": {
        "id": "FUlSDUAZ2Gnj",
        "outputId": "ed0fcb2a-7cbd-4ebd-e45c-9ae1bfa15d97"
      },
      "outputs": [
        {
          "data": {
            "image/png": "[encoded data removed]",
            "text/plain": [
              "<matplotlib.figure.Figure at 0x201ae9d6588>"
            ]
          },
          "metadata": {},
          "output_type": "display_data"
        }
      ],
      "source": [
        "m.set_index('sample',inplace=True)\n",
        "m.plot(kind='line', color=['blue','red'], rot=0,figsize=(8,3))\n",
        "plt.xlabel('sample')\n",
        "plt.ylabel('Error')\n",
        "sns.despine()"
      ]
    },
    {
      "cell_type": "code",
      "source": [
        ""
      ],
      "metadata": {
        "id": "UCbIZ6so23YX"
      },
      "execution_count": null,
      "outputs": []
    },
    {
      "cell_type": "markdown",
      "metadata": {
        "collapsed": true,
        "id": "jC003iAz2Gnj"
      },
      "source": [
        "# Post-processing"
      ]
    },
    {
      "cell_type": "code",
      "execution_count": null,
      "metadata": {
        "collapsed": true,
        "id": "E4dSR8Tx2Gnj"
      },
      "outputs": [],
      "source": [
        "def ReadTrain(df):\n",
        "    s=0\n",
        "    n=10000000\n",
        "    for x in range(7):\n",
        "        if x == 0:\n",
        "            print('Reading ',s,' to ',n+s)\n",
        "            train1 = pd.read_csv('train.csv',nrows=n,header = 0,index_col=None,usecols=[0,1,2,3,4,5,6,8,10],\n",
        "                    dtype={'Semana':np.uint8,'Agencia_ID':np.uint16,'Canal_ID':np.uint8,'Ruta_SAK':np.uint16,\n",
        "                           'Cliente_ID':np.uint16,'Producto_ID':np.uint16,'Venta_uni_hoy':np.uint32,\n",
        "                           'Dev_uni_proxima':np.uint32,'Demanda_uni_equil':np.uint32})\n",
        "\n",
        "            train1.columns =['Week_number','Sales_Depot_ID','Sales_Channel_ID','Route_ID','Client_ID','Product_ID',\\\n",
        "                             'Sales_unit_this_week','Returns_unit_next_week','Adjusted_Demand']\n",
        "            train1.head()\n",
        "        elif x < 6:\n",
        "            print('Reading ',s,' to ',n+s)\n",
        "            train1 = pd.read_csv('train.csv',skiprows=range(1,s+1),nrows=n,header = 0,index_col=None,usecols=[0,1,2,3,4,5,6,8,10],\n",
        "                    dtype={'Semana':np.uint8,'Agencia_ID':np.uint16,'Canal_ID':np.uint8,'Ruta_SAK':np.uint16,\n",
        "                           'Cliente_ID':np.uint16,'Producto_ID':np.uint16,'Venta_uni_hoy':np.uint32,\n",
        "                           'Dev_uni_proxima':np.uint32,'Demanda_uni_equil':np.uint32})\n",
        "\n",
        "            train1.columns =['Week_number','Sales_Depot_ID','Sales_Channel_ID','Route_ID','Client_ID','Product_ID',\\\n",
        "                             'Sales_unit_this_week','Returns_unit_next_week','Adjusted_Demand']\n",
        "            train1.head()\n",
        "        else:\n",
        "            print('Reading remaining values')\n",
        "            train1 = pd.read_csv('train.csv',skiprows=range(1,s+1),header = 0,index_col=None,usecols=[0,1,2,3,4,5,6,8,10],\n",
        "                    dtype={'Semana':np.uint8,'Agencia_ID':np.uint16,'Canal_ID':np.uint8,'Ruta_SAK':np.uint16,\n",
        "                           'Cliente_ID':np.uint16,'Producto_ID':np.uint16,'Venta_uni_hoy':np.uint32,\n",
        "                           'Dev_uni_proxima':np.uint32,'Demanda_uni_equil':np.uint32})\n",
        "\n",
        "            train1.columns =['Week_number','Sales_Depot_ID','Sales_Channel_ID','Route_ID','Client_ID','Product_ID',\\\n",
        "                             'Sales_unit_this_week','Returns_unit_next_week','Adjusted_Demand']\n",
        "            train1.head()\n",
        "        s=s+n\n",
        "        print('Checking for null values')\n",
        "        print('Number before droping Nan values:',train1.shape[0])\n",
        "        train1.dropna(axis=0,how='any',subset=['Week_number','Sales_Depot_ID','Sales_Channel_ID','Route_ID','Client_ID','Product_ID'])\n",
        "        print('Number after droping Nan values:',train1.shape[0])\n",
        "        \n",
        "        print('Checking for duplicate values')\n",
        "        print('Number before droping duplicate values:',train1.shape[0])\n",
        "        orginal = train1.shape[0]\n",
        "        train1.drop_duplicates(subset=['Week_number','Sales_Depot_ID','Sales_Channel_ID','Route_ID','Client_ID','Product_ID','Sales_unit_this_week','Returns_unit_next_week','Adjusted_Demand'],keep='first', inplace=True)\n",
        "        print('Number after droping duplicate values:',train1.shape[0])\n",
        "        duplicate = orginal-train1.shape[0]\n",
        "        percentage = (duplicate/orginal)*100\n",
        "        print(\"Duplicate values percentage: %.3f%%\" % percentage)\n",
        "        \n",
        "        print('Number values where returns are more than sales:',train1.loc[train1['Returns_unit_next_week'] > train1['Sales_unit_this_week']].shape[0])\n",
        "        train1.loc[train1['Returns_unit_next_week'] > train1['Sales_unit_this_week'],['Sales_unit_this_week', 'Returns_unit_next_week']]= \\\n",
        "        train1.loc[train1['Returns_unit_next_week'] > train1['Sales_unit_this_week'],['Returns_unit_next_week','Sales_unit_this_week']].values\n",
        "\n",
        "        print('Number values where adjusted values are zero:',train1['Adjusted_Demand'].loc[train1['Adjusted_Demand'] ==0].count())\n",
        "        train1['Diff']=train1['Sales_unit_this_week']-train1['Returns_unit_next_week']\n",
        "        train1.loc[(train1['Adjusted_Demand'] == 0) & (train1['Sales_unit_this_week'] != train1['Returns_unit_next_week']),['Adjusted_Demand','Diff']] = \\\n",
        "        train1.loc[(train1['Adjusted_Demand'] == 0) & (train1['Sales_unit_this_week'] != train1['Returns_unit_next_week']),['Diff','Adjusted_Demand']].values\n",
        "        train1.drop(['Diff'],axis=1,inplace=True)\n",
        "        \n",
        "        print('Joining all the dataset:')\n",
        "        print('Joining client dataset:')\n",
        "        train1 =pd.merge(train1,client,how='inner',on='Client_ID')\n",
        "        train1.drop(['Client_ID','name'],axis=1,inplace=True)\n",
        "        print('Joining Town-state dataset:')\n",
        "        train1 =pd.merge(train1,town,how='inner',on='Sales_Depot_ID')\n",
        "        train1.drop(['Sales_Depot_ID','State','Town_name'],axis=1,inplace=True)\n",
        "        print('Joining Product dataset:')\n",
        "        train1 =pd.merge(train1,product,how='inner',on='Product_ID') \n",
        "        train1.drop(['Product_ID','product','brand','weight','pieces'],axis=1,inplace=True)\n",
        "        \n",
        "        if x == 0:\n",
        "            df = train1\n",
        "        else:\n",
        "            df = pd.concat((df,train1), axis=0,ignore_index=True)\n",
        "        print('Shape: ',df.shape,'\\n')\n",
        "    return df"
      ]
    },
    {
      "cell_type": "code",
      "execution_count": null,
      "metadata": {
        "id": "ohB5etkE2Gnj",
        "outputId": "7c8b8d7c-8245-4e20-9ad5-f5613caedccc"
      },
      "outputs": [
        {
          "name": "stdout",
          "output_type": "stream",
          "text": [
            "Reading Training data\n",
            "Reading  0  to  10000000\n",
            "Checking for null values\n",
            "Number before droping Nan values: 10000000\n",
            "Number after droping Nan values: 10000000\n",
            "Checking for duplicate values\n",
            "Number before droping duplicate values: 10000000\n",
            "Number after droping duplicate values: 9999551\n",
            "Duplicate values percentage: 0.004%\n",
            "Number values where returns are more than sales: 75247\n",
            "Number values where adjusted values are zero: 163223\n",
            "Joining all the dataset:\n",
            "Joining client dataset:\n",
            "Joining Town-state dataset:\n",
            "Joining Product dataset:\n",
            "Shape:  (4117204, 9) \n",
            "\n",
            "Reading  10000000  to  20000000\n",
            "Checking for null values\n",
            "Number before droping Nan values: 10000000\n",
            "Number after droping Nan values: 10000000\n",
            "Checking for duplicate values\n",
            "Number before droping duplicate values: 10000000\n",
            "Number after droping duplicate values: 9999571\n",
            "Duplicate values percentage: 0.004%\n",
            "Number values where returns are more than sales: 75508\n",
            "Number values where adjusted values are zero: 162562\n",
            "Joining all the dataset:\n",
            "Joining client dataset:\n",
            "Joining Town-state dataset:\n",
            "Joining Product dataset:\n",
            "Shape:  (8261395, 9) \n",
            "\n",
            "Reading  20000000  to  30000000\n",
            "Checking for null values\n",
            "Number before droping Nan values: 10000000\n",
            "Number after droping Nan values: 10000000\n",
            "Checking for duplicate values\n",
            "Number before droping duplicate values: 10000000\n",
            "Number after droping duplicate values: 9999598\n",
            "Duplicate values percentage: 0.004%\n",
            "Number values where returns are more than sales: 70082\n",
            "Number values where adjusted values are zero: 155451\n",
            "Joining all the dataset:\n",
            "Joining client dataset:\n",
            "Joining Town-state dataset:\n",
            "Joining Product dataset:\n",
            "Shape:  (12394663, 9) \n",
            "\n",
            "Reading  30000000  to  40000000\n",
            "Checking for null values\n",
            "Number before droping Nan values: 10000000\n",
            "Number after droping Nan values: 10000000\n",
            "Checking for duplicate values\n",
            "Number before droping duplicate values: 10000000\n",
            "Number after droping duplicate values: 9999627\n",
            "Duplicate values percentage: 0.004%\n",
            "Number values where returns are more than sales: 77333\n",
            "Number values where adjusted values are zero: 174715\n",
            "Joining all the dataset:\n",
            "Joining client dataset:\n",
            "Joining Town-state dataset:\n",
            "Joining Product dataset:\n",
            "Shape:  (16532138, 9) \n",
            "\n",
            "Reading  40000000  to  50000000\n",
            "Checking for null values\n",
            "Number before droping Nan values: 10000000\n",
            "Number after droping Nan values: 10000000\n",
            "Checking for duplicate values\n",
            "Number before droping duplicate values: 10000000\n",
            "Number after droping duplicate values: 9999617\n",
            "Duplicate values percentage: 0.004%\n",
            "Number values where returns are more than sales: 87093\n",
            "Number values where adjusted values are zero: 191378\n",
            "Joining all the dataset:\n",
            "Joining client dataset:\n",
            "Joining Town-state dataset:\n",
            "Joining Product dataset:\n",
            "Shape:  (20666990, 9) \n",
            "\n",
            "Reading  50000000  to  60000000\n",
            "Checking for null values\n",
            "Number before droping Nan values: 10000000\n",
            "Number after droping Nan values: 10000000\n",
            "Checking for duplicate values\n",
            "Number before droping duplicate values: 10000000\n",
            "Number after droping duplicate values: 9999603\n",
            "Duplicate values percentage: 0.004%\n",
            "Number values where returns are more than sales: 96212\n",
            "Number values where adjusted values are zero: 204658\n",
            "Joining all the dataset:\n",
            "Joining client dataset:\n",
            "Joining Town-state dataset:\n",
            "Joining Product dataset:\n",
            "Shape:  (24781647, 9) \n",
            "\n",
            "Reading remaining values\n",
            "Checking for null values\n",
            "Number before droping Nan values: 14180464\n",
            "Number after droping Nan values: 14180464\n",
            "Checking for duplicate values\n",
            "Number before droping duplicate values: 14180464\n",
            "Number after droping duplicate values: 14179865\n",
            "Duplicate values percentage: 0.004%\n",
            "Number values where returns are more than sales: 134351\n",
            "Number values where adjusted values are zero: 284829\n",
            "Joining all the dataset:\n",
            "Joining client dataset:\n",
            "Joining Town-state dataset:\n",
            "Joining Product dataset:\n",
            "Shape:  (30616965, 9) \n",
            "\n",
            "Reading Training data completed\n"
          ]
        },
        {
          "data": {
            "text/html": [
              "<div>\n",
              "<style>\n",
              "    .dataframe thead tr:only-child th {\n",
              "        text-align: right;\n",
              "    }\n",
              "\n",
              "    .dataframe thead th {\n",
              "        text-align: left;\n",
              "    }\n",
              "\n",
              "    .dataframe tbody tr th {\n",
              "        vertical-align: top;\n",
              "    }\n",
              "</style>\n",
              "<table border=\"1\" class=\"dataframe\">\n",
              "  <thead>\n",
              "    <tr style=\"text-align: right;\">\n",
              "      <th></th>\n",
              "      <th>Week_number</th>\n",
              "      <th>Sales_Channel_ID</th>\n",
              "      <th>Route_ID</th>\n",
              "      <th>Sales_unit_this_week</th>\n",
              "      <th>Returns_unit_next_week</th>\n",
              "      <th>Adjusted_Demand</th>\n",
              "      <th>Client_name</th>\n",
              "      <th>Town</th>\n",
              "      <th>product_name</th>\n",
              "    </tr>\n",
              "  </thead>\n",
              "  <tbody>\n",
              "    <tr>\n",
              "      <th>0</th>\n",
              "      <td>3</td>\n",
              "      <td>7</td>\n",
              "      <td>3301</td>\n",
              "      <td>3</td>\n",
              "      <td>0</td>\n",
              "      <td>3</td>\n",
              "      <td>250299</td>\n",
              "      <td>25</td>\n",
              "      <td>758</td>\n",
              "    </tr>\n",
              "    <tr>\n",
              "      <th>1</th>\n",
              "      <td>3</td>\n",
              "      <td>7</td>\n",
              "      <td>3301</td>\n",
              "      <td>2</td>\n",
              "      <td>0</td>\n",
              "      <td>2</td>\n",
              "      <td>292487</td>\n",
              "      <td>25</td>\n",
              "      <td>758</td>\n",
              "    </tr>\n",
              "    <tr>\n",
              "      <th>2</th>\n",
              "      <td>3</td>\n",
              "      <td>7</td>\n",
              "      <td>3301</td>\n",
              "      <td>2</td>\n",
              "      <td>0</td>\n",
              "      <td>2</td>\n",
              "      <td>100281</td>\n",
              "      <td>25</td>\n",
              "      <td>758</td>\n",
              "    </tr>\n",
              "    <tr>\n",
              "      <th>3</th>\n",
              "      <td>3</td>\n",
              "      <td>7</td>\n",
              "      <td>3301</td>\n",
              "      <td>4</td>\n",
              "      <td>0</td>\n",
              "      <td>4</td>\n",
              "      <td>1088</td>\n",
              "      <td>25</td>\n",
              "      <td>758</td>\n",
              "    </tr>\n",
              "    <tr>\n",
              "      <th>4</th>\n",
              "      <td>3</td>\n",
              "      <td>7</td>\n",
              "      <td>3301</td>\n",
              "      <td>1</td>\n",
              "      <td>0</td>\n",
              "      <td>1</td>\n",
              "      <td>82834</td>\n",
              "      <td>25</td>\n",
              "      <td>758</td>\n",
              "    </tr>\n",
              "  </tbody>\n",
              "</table>\n",
              "</div>"
            ],
            "text/plain": [
              "   Week_number  Sales_Channel_ID  Route_ID  Sales_unit_this_week  \\\n",
              "0            3                 7      3301                     3   \n",
              "1            3                 7      3301                     2   \n",
              "2            3                 7      3301                     2   \n",
              "3            3                 7      3301                     4   \n",
              "4            3                 7      3301                     1   \n",
              "\n",
              "   Returns_unit_next_week  Adjusted_Demand  Client_name  Town  product_name  \n",
              "0                       0                3       250299    25           758  \n",
              "1                       0                2       292487    25           758  \n",
              "2                       0                2       100281    25           758  \n",
              "3                       0                4         1088    25           758  \n",
              "4                       0                1        82834    25           758  "
            ]
          },
          "execution_count": 20,
          "metadata": {},
          "output_type": "execute_result"
        }
      ],
      "source": [
        "df = pd.DataFrame(columns=['Week_number','Sales_Depot_ID','Sales_Channel_ID','Route_ID','Client_ID','Product_ID',\\\n",
        "                             'Sales_unit_this_week','Returns_unit_next_week','Adjusted_Demand'])\n",
        "print('Reading Training data')\n",
        "df = ReadTrain(df)\n",
        "print('Reading Training data completed')\n",
        "df.head()"
      ]
    },
    {
      "cell_type": "code",
      "execution_count": null,
      "metadata": {
        "id": "EZEixRJ52Gnj",
        "outputId": "0b0bc9c8-9a07-4bb0-bda2-cc246bd9db08"
      },
      "outputs": [
        {
          "data": {
            "text/plain": [
              "(8591769, 9)"
            ]
          },
          "execution_count": 21,
          "metadata": {},
          "output_type": "execute_result"
        }
      ],
      "source": [
        "test = df.loc[df['Week_number']>7]\n",
        "test.shape"
      ]
    },
    {
      "cell_type": "code",
      "execution_count": null,
      "metadata": {
        "id": "_A172rjl2Gnk",
        "outputId": "88aafdd8-1ddd-4fbe-a4e1-d7ca63a96b38"
      },
      "outputs": [
        {
          "data": {
            "text/plain": [
              "12830017"
            ]
          },
          "execution_count": 17,
          "metadata": {},
          "output_type": "execute_result"
        }
      ],
      "source": [
        "lag3_5 = df.loc[(df['Week_number']==3) | (df['Week_number']==4),['Sales_unit_this_week','Sales_Channel_ID','Route_ID','Client_name','product_name','Town']]\n",
        "lag3_5=lag3_5.groupby(by=['Sales_Channel_ID','Route_ID','Client_name','product_name','Town'],as_index=False,sort=False).aggregate(np.mean)\n",
        "lag3_5['week']=5\n",
        "lag3_5.columns=['Sales_Channel_ID','Route_ID','Client_name','product_name','Town','mean_sales','Week_number']\n",
        "\n",
        "lag3_6 = df.loc[(df['Week_number']==3) |(df['Week_number']==4) | (df['Week_number']==5),['Sales_unit_this_week','Sales_Channel_ID','Route_ID','Client_name','product_name','Town']]\n",
        "lag3_6=lag3_6.groupby(by=['Sales_Channel_ID','Route_ID','Client_name','product_name','Town'],as_index=False,sort=False).aggregate(np.mean)\n",
        "lag3_6['week']=6\n",
        "lag3_6.columns=['Sales_Channel_ID','Route_ID','Client_name','product_name','Town','mean_sales','Week_number']\n",
        "\n",
        "lag3_5 = pd.concat((lag3_5,lag3_6), axis=0,ignore_index=True)\n",
        "del lag3_6\n",
        "lag3_5.shape[0]"
      ]
    },
    {
      "cell_type": "code",
      "execution_count": null,
      "metadata": {
        "id": "HRHUzcj12Gnk",
        "outputId": "ab2c59b0-b421-45e6-e51d-fde6f2e4b309"
      },
      "outputs": [
        {
          "data": {
            "text/plain": [
              "(31742234, 10)"
            ]
          },
          "execution_count": 18,
          "metadata": {},
          "output_type": "execute_result"
        }
      ],
      "source": [
        "lag3_6 = df.loc[(df['Week_number']==4) |(df['Week_number']==5) | (df['Week_number']==6),['Sales_unit_this_week','Sales_Channel_ID','Route_ID','Client_name','product_name','Town']]\n",
        "lag3_6=lag3_6.groupby(by=['Sales_Channel_ID','Route_ID','Client_name','product_name','Town'],as_index=False,sort=False).aggregate(np.mean)\n",
        "lag3_6['week']=7\n",
        "lag3_6.columns=['Sales_Channel_ID','Route_ID','Client_name','product_name','Town','mean_sales','Week_number']\n",
        "\n",
        "lag3_5 = pd.concat((lag3_5,lag3_6), axis=0,ignore_index=True)\n",
        "df = df.loc[(df['Week_number'] >4) & (df['Week_number'] < 8)]\n",
        "\n",
        "df = pd.merge(lag3_5,df,how='outer',on=['Week_number','Sales_Channel_ID','Route_ID','Client_name','product_name','Town'])\n",
        "df.fillna(value=0,inplace=True)\n",
        "del lag3_5,lag3_6\n",
        "df.shape"
      ]
    },
    {
      "cell_type": "code",
      "execution_count": null,
      "metadata": {
        "collapsed": true,
        "id": "8a3m3H2Y2Gnk"
      },
      "outputs": [],
      "source": [
        "df.to_csv('Post_train.csv',header=True,index=False)"
      ]
    },
    {
      "cell_type": "code",
      "execution_count": null,
      "metadata": {
        "collapsed": true,
        "id": "yQca9Xym2Gnk"
      },
      "outputs": [],
      "source": [
        "lag3_5 = df.loc[(df['Week_number']==5) | (df['Week_number']==6) | (df['Week_number']==7),['Sales_unit_this_week','Sales_Channel_ID','Route_ID','Client_name','product_name','Town']]\n",
        "lag3_5=lag3_5.groupby(by=['Sales_Channel_ID','Route_ID','Client_name','product_name','Town'],as_index=False,sort=False).aggregate(np.mean)\n",
        "lag3_5['week']=8\n",
        "lag3_5.columns=['Sales_Channel_ID','Route_ID','Client_name','product_name','Town','mean_sales','Week_number']"
      ]
    },
    {
      "cell_type": "code",
      "execution_count": null,
      "metadata": {
        "id": "ry2cOvD52Gnk"
      },
      "outputs": [],
      "source": [
        "train1 = df.loc[(df['Week_number']==6) |(df['Week_number']==7),['Sales_unit_this_week','Sales_Channel_ID','Route_ID','Client_name','product_name','Town']]\n",
        "lag3_6= test.loc[(test['Week_number']==8),['Sales_unit_this_week','Sales_Channel_ID','Route_ID','Client_name','product_name','Town']]\n",
        "lag3_6 = pd.concat((train1,lag3_6), axis=0,ignore_index=True)\n",
        "lag3_6=lag3_6.groupby(by=['Sales_Channel_ID','Route_ID','Client_name','product_name','Town'],as_index=False,sort=False).aggregate(np.mean)\n",
        "lag3_6['week']=9\n",
        "lag3_6.columns=['Sales_Channel_ID','Route_ID','Client_name','product_name','Town','mean_sales','Week_number']"
      ]
    },
    {
      "cell_type": "code",
      "execution_count": null,
      "metadata": {
        "id": "e3XnczLG2Gnk",
        "outputId": "47976366-cdca-453e-f4b2-95f32d6a7e1f"
      },
      "outputs": [
        {
          "data": {
            "text/plain": [
              "(15638521, 10)"
            ]
          },
          "execution_count": 25,
          "metadata": {},
          "output_type": "execute_result"
        }
      ],
      "source": [
        "lag3_6 = pd.concat((lag3_6,lag3_5), axis=0,ignore_index=True)\n",
        "test = pd.merge(lag3_6,test,how='outer',on=['Week_number','Sales_Channel_ID','Route_ID','Client_name','product_name','Town'])\n",
        "test.fillna(value=0,inplace=True)\n",
        "test.shape"
      ]
    },
    {
      "cell_type": "code",
      "execution_count": null,
      "metadata": {
        "collapsed": true,
        "id": "2VCyIIYH2Gnk"
      },
      "outputs": [],
      "source": [
        "test.to_csv('Post_test.csv',header=True,index=False)"
      ]
    },
    {
      "cell_type": "markdown",
      "metadata": {
        "id": "KQTl73MsR1ns"
      },
      "source": [
        "**Conclusion**\n",
        "\n",
        "After plotting the feature importances, we can infer that there are three predictors impacting the prediction namely Sales_unit_this_week, Sales_Depot_ID and Returns_unit_next_week. Wen can consider these three features for modeling and testing on the test dataset."
      ]
    },
    {
      "cell_type": "markdown",
      "metadata": {
        "id": "YJz_4hGbYmzD"
      },
      "source": [
        "* Which independent variables are useful to predict a target (dependent variable)?<br>\n",
        "Sales_unit_this_week, Sales_Depot_ID, Returns_unit_next_week<br>\n",
        "\n",
        "* Which independent variables have missing data? How much? <br>\n",
        "No independent variables have missing data.<br>\n",
        "\n",
        "* Do the training and test sets have the same data?<br>\n",
        "Yes, train and test sets have the same data.<br>\n",
        "\n",
        "* In the predictor variables independent of all the other predictor variables?<br>\n",
        "Yes, all perdictor variables are independent.<br>\n",
        "\n",
        "* Which predictor variables are the most important?<br>\n",
        "Sales_unit_this_week is the most important feature.<br>"
      ]
    },
    {
      "cell_type": "code",
      "metadata": {
        "id": "GFRlgYn5x6z1"
      },
      "source": [
        ""
      ],
      "execution_count": null,
      "outputs": []
    }
  ]
}